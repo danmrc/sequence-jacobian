{
 "cells": [
  {
   "cell_type": "code",
   "execution_count": 2,
   "id": "f176f143",
   "metadata": {},
   "outputs": [
    {
     "ename": "IndentationError",
     "evalue": "unindent does not match any outer indentation level (<tokenize>, line 86)",
     "output_type": "error",
     "traceback": [
      "\u001b[0;36m  File \u001b[0;32m<tokenize>:86\u001b[0;36m\u001b[0m\n\u001b[0;31m    return A\u001b[0m\n\u001b[0m    ^\u001b[0m\n\u001b[0;31mIndentationError\u001b[0m\u001b[0;31m:\u001b[0m unindent does not match any outer indentation level\n"
     ]
    }
   ],
   "source": [
    "import copy\n",
    "import numpy as np\n",
    "import matplotlib.pyplot as plt\n",
    "import scipy as sp\n",
    "\n",
    "from sequence_jacobian import het, simple, create_model              # functions\n",
    "from sequence_jacobian import interpolate, grids, misc, estimation   # modules\n",
    "from numba import vectorize\n",
    "\n",
    "def household_guess(a_grid,e_grid,r,w,gamma,T):\n",
    "    wel = (1+r)*a_grid[np.newaxis,:] + w*e_grid[:,np.newaxis] + T[:,np.newaxis]\n",
    "    V_prime = (1+r)*(wel*0.1)**(-gamma)\n",
    "    return V_prime\n",
    "\n",
    "@het(exogenous = 'Pi',policy = 'a', backward = 'V_prime', backward_init=household_guess)\n",
    "def household(V_prime_p,a_grid,e_grid,r,w,T,T_c,beta,gamma,v,phi):\n",
    "\n",
    "    we = w*e_grid\n",
    "\n",
    "    c_prime = ((1+T_c)*beta*V_prime_p)**(-1/gamma) #c_prime is quite a misnomer, since this is the new guess for c_t\n",
    "    n_prime = (we[:,np.newaxis]/(phi*(1+T_c)*c_prime**gamma))**(1/v)\n",
    "\n",
    "    new_grid = (c_prime + a_grid[np.newaxis,:] - we[:,np.newaxis]*n_prime - T[:,np.newaxis])\n",
    "    wel = (1+r)*a_grid\n",
    "\n",
    "    c = interpolate.interpolate_y(new_grid,wel,c_prime)\n",
    "    n = interpolate.interpolate_y(new_grid,wel,n_prime)\n",
    "\n",
    "    a = wel + we[:,np.newaxis]*n + T[:,np.newaxis] - c\n",
    "    V_prime= (1+r)/(1+T_c)*c**(-gamma)\n",
    "\n",
    "    # checks for violations of the condition of minimal assets required and fixes it\n",
    "\n",
    "    indexes_asset = np.nonzero(a < a_grid[0]) #first dimension: labor grid, second dimension: asset grid\n",
    "    a[indexes_asset] = a_grid[0]\n",
    "\n",
    "    if indexes_asset[0].size != 0 and indexes_asset[1].size !=0:\n",
    "\n",
    "        aa = np.zeros((indexes_asset[0].size)) + 1E-5\n",
    "        rest = -a_grid[0] + wel[indexes_asset[1]] + T[indexes_asset[0]]\n",
    "        bb = c[indexes_asset] + 0.5\n",
    "        \n",
    "        c[indexes_asset] = vec_bissection(lambda c : consumption(c,we[indexes_asset[0]],rest,gamma,v,phi),aa,bb)\n",
    "        n[indexes_asset] = (we[indexes_asset[0]]/(phi*c[indexes_asset]**gamma))**(1/v)\n",
    "        V_prime[indexes_asset] = (1+r)*(c[indexes_asset])**(-gamma)\n",
    "\n",
    "    return V_prime,a,c,n\n",
    "\n",
    "def make_grid(rho_e, sd_e, nE, amin, amax, nA):\n",
    "    e_grid, pi_e, Pi = grids.markov_rouwenhorst(rho=rho_e, sigma=sd_e, N=nE)\n",
    "    a_grid = grids.agrid(amin=amin, amax=amax, n=nA)\n",
    "    return e_grid, Pi, a_grid, pi_e\n",
    "\n",
    "def transfers(pi_e, Div, Tax, e_grid):\n",
    "    # hardwired incidence rules are proportional to skill; scale does not matter \n",
    "    tax_rule, div_rule = e_grid, e_grid\n",
    "    div = Div / np.sum(pi_e * div_rule) * div_rule\n",
    "    #tax = Tax / np.sum(pi_e * tax_rule) * tax_rule\n",
    "    T = div# - tax\n",
    "    return T\n",
    "\n",
    "household_inp = household.add_hetinputs([make_grid,transfers])\n",
    "\n",
    "def labor_supply(n, e_grid):\n",
    "    ne = e_grid[:, np.newaxis] * n\n",
    "    return ne\n",
    "\n",
    "hh_ext = household_inp.add_hetoutputs([labor_supply])\n",
    "\n",
    "@simple\n",
    "def firm(Y, w, Z, pi, mu, kappa):\n",
    "    L = Y / Z\n",
    "    Div = Y - w * L - mu/(mu-1)/(2*kappa) * (1+pi).apply(np.log)**2 * Y\n",
    "    return L, Div\n",
    "\n",
    "\n",
    "@simple\n",
    "def monetary(pi, rstar, phi_pi):\n",
    "    r = (1 + rstar(-1) + phi_pi * pi(-1)) / (1 + pi) - 1\n",
    "    return r\n",
    "\n",
    "\n",
    "@simple\n",
    "def fiscal(r,B,C,T_c):\n",
    "     = (1+r) * B(-1) - T_c*C \n",
    "    return A\n",
    "\n",
    "\n",
    "@simple\n",
    "def mkt_clearing(A, NE, C, L, Y, B, pi, mu, kappa):\n",
    "    asset_mkt = A - B\n",
    "    labor_mkt = NE - L\n",
    "    goods_mkt = Y - C - mu/(mu-1)/(2*kappa) * (1+pi).apply(np.log)**2 * Y\n",
    "    return asset_mkt, labor_mkt, goods_mkt\n",
    "\n",
    "\n",
    "@simple\n",
    "def nkpc_ss(Z, mu):\n",
    "    w = Z / mu\n",
    "    return w\n",
    "\n",
    "blocks_ss = [hh_ext, firm, monetary, fiscal, mkt_clearing, nkpc_ss]\n",
    "\n",
    "hank_ss = create_model(blocks_ss, name=\"One-Asset HANK SS\")\n",
    "\n",
    "print(hank_ss)\n",
    "print(f\"Inputs: {hank_ss.inputs}\")\n",
    "\n",
    "calibration = {'gamma': 1, 'v': 1, 'rho_e': 0.966, 'sd_e': 0.5, 'nE': 10,\n",
    "               'amin': 0, 'amax': 150, 'nA': 500, 'Y': 1.0, 'Z': 1.0, 'pi': 0.0,\n",
    "               'mu': 1.2, 'kappa': 0.1, 'rstar': 0.005, 'phi_pi': 1.5, 'B': 5.6, 'T_c': 0.1}\n",
    "\n",
    "unknowns_ss = {'beta': 0.986, 'phi': 0.8}\n",
    "targets_ss = {'asset_mkt': 0, 'labor_mkt': 0}\n",
    "\n",
    "ss0 = hank_ss.solve_steady_state(calibration, unknowns_ss, targets_ss, solver=\"hybr\")"
   ]
  },
  {
   "cell_type": "code",
   "execution_count": 3,
   "id": "380e4144",
   "metadata": {},
   "outputs": [],
   "source": [
    "import copy\n",
    "import numpy as np\n",
    "import matplotlib.pyplot as plt\n",
    "import scipy as sp\n",
    "\n",
    "from sequence_jacobian import het, simple, create_model              # functions\n",
    "from sequence_jacobian import interpolate, grids, misc, estimation "
   ]
  },
  {
   "cell_type": "code",
   "execution_count": 4,
   "id": "4c9579cd",
   "metadata": {},
   "outputs": [],
   "source": [
    "nE = 3\n",
    "rho_e =0.9\n",
    "sd_e = 1.5\n",
    "amin = 0.1\n",
    "amax = 10\n",
    "nA = 100\n",
    "\n",
    "gamma = 1\n",
    "r = 0.005\n",
    "beta = 1/(1+r)"
   ]
  },
  {
   "cell_type": "code",
   "execution_count": 5,
   "id": "bcd7b05d",
   "metadata": {},
   "outputs": [],
   "source": [
    "e_grid, pi_e, Pi = grids.markov_rouwenhorst(rho=rho_e, sigma=sd_e, N=nE)\n",
    "a_grid = grids.agrid(amin=amin, amax=amax, n=nA)\n",
    "z_grid = e_grid\n",
    "\n",
    "T = np.zeros(nE)\n",
    "\n",
    "def household_guess(a_grid,r,z_grid,gamma,T):\n",
    "    new_z = np.ones((z_grid.shape[0],1))\n",
    "    wel = (1+r)*a_grid[np.newaxis,:] + new_z + T[:,np.newaxis]\n",
    "    V_prime = (1+r)*(wel*0.1)**(-gamma)\n",
    "    return V_prime\n",
    "\n"
   ]
  },
  {
   "cell_type": "code",
   "execution_count": 20,
   "id": "8ae63cac",
   "metadata": {},
   "outputs": [],
   "source": [
    "V_prime_p = household_guess(a_grid,r,e_grid,gamma,T)"
   ]
  },
  {
   "cell_type": "code",
   "execution_count": 21,
   "id": "66cbf634",
   "metadata": {},
   "outputs": [],
   "source": [
    "c_prime = (beta*V_prime_p)**(-1/gamma) #c_prime is quite a misnomer, since this is the new guess for c_t\n",
    "\n",
    "new_grid = c_prime + a_grid[np.newaxis,:] - z_grid[:,np.newaxis] - T[:,np.newaxis]\n",
    "wel = (1+r)*a_grid\n",
    "\n",
    "c = interpolate.interpolate_y(new_grid,wel,c_prime)\n",
    "\n",
    "a = wel + z_grid[:,np.newaxis] + T[:,np.newaxis] - c"
   ]
  },
  {
   "cell_type": "code",
   "execution_count": 22,
   "id": "2014f80e",
   "metadata": {},
   "outputs": [],
   "source": [
    "indexes_asset = np.nonzero(a < a_grid[0])"
   ]
  },
  {
   "cell_type": "code",
   "execution_count": 23,
   "id": "929d0f2b",
   "metadata": {
    "scrolled": true
   },
   "outputs": [
    {
     "data": {
      "text/plain": [
       "(array([0, 0, 0, 0, 0]), array([0, 1, 2, 3, 4]))"
      ]
     },
     "execution_count": 23,
     "metadata": {},
     "output_type": "execute_result"
    }
   ],
   "source": [
    "indexes_asset"
   ]
  },
  {
   "cell_type": "code",
   "execution_count": 24,
   "id": "34e09ac9",
   "metadata": {},
   "outputs": [
    {
     "data": {
      "text/plain": [
       "array([0.10423112, 0.10556011, 0.10693186, 0.10834775, 0.10980921])"
      ]
     },
     "execution_count": 24,
     "metadata": {},
     "output_type": "execute_result"
    }
   ],
   "source": [
    "c[indexes_asset]"
   ]
  },
  {
   "cell_type": "code",
   "execution_count": 26,
   "id": "e92ca64d",
   "metadata": {},
   "outputs": [
    {
     "data": {
      "text/plain": [
       "array([0.04633179, 0.06088454, 0.07590557, 0.09140995, 0.10741325])"
      ]
     },
     "execution_count": 26,
     "metadata": {},
     "output_type": "execute_result"
    }
   ],
   "source": [
    "wel[indexes_asset[1]] + z_grid[indexes_asset[0]] + T[indexes_asset[0]] - a_grid[0]"
   ]
  },
  {
   "cell_type": "code",
   "execution_count": 27,
   "id": "2fca2c78",
   "metadata": {
    "scrolled": true
   },
   "outputs": [],
   "source": [
    "aa = a[indexes_asset] + c[indexes_asset]"
   ]
  },
  {
   "cell_type": "code",
   "execution_count": 28,
   "id": "afd8a12f",
   "metadata": {
    "scrolled": true
   },
   "outputs": [
    {
     "data": {
      "text/plain": [
       "array([0.14633179, 0.16088454, 0.17590557, 0.19140995, 0.20741325])"
      ]
     },
     "execution_count": 28,
     "metadata": {},
     "output_type": "execute_result"
    }
   ],
   "source": [
    "aa"
   ]
  },
  {
   "cell_type": "code",
   "execution_count": 29,
   "id": "bfed0464",
   "metadata": {},
   "outputs": [],
   "source": [
    "if indexes_asset[0].size != 0 and indexes_asset[1].size !=0:\n",
    "        \n",
    "    a[indexes_asset] = a_grid[0]\n",
    "        \n",
    "    c[indexes_asset] = wel[indexes_asset[1]] + z_grid[indexes_asset[0]] + T[indexes_asset[0]] - a[indexes_asset]"
   ]
  },
  {
   "cell_type": "code",
   "execution_count": 30,
   "id": "9c34e61b",
   "metadata": {},
   "outputs": [],
   "source": [
    "V_prime_p = (1+r)*c**(-gamma)"
   ]
  },
  {
   "cell_type": "code",
   "execution_count": 31,
   "id": "9216bac6",
   "metadata": {
    "scrolled": true
   },
   "outputs": [
    {
     "data": {
      "text/plain": [
       "array([0.1, 0.1, 0.1, 0.1, 0.1])"
      ]
     },
     "execution_count": 31,
     "metadata": {},
     "output_type": "execute_result"
    }
   ],
   "source": [
    "a[indexes_asset]"
   ]
  },
  {
   "cell_type": "code",
   "execution_count": 32,
   "id": "9e30e51b",
   "metadata": {
    "scrolled": true
   },
   "outputs": [
    {
     "data": {
      "text/plain": [
       "array([0.04633179, 0.06088454, 0.07590557, 0.09140995, 0.10741325])"
      ]
     },
     "execution_count": 32,
     "metadata": {},
     "output_type": "execute_result"
    }
   ],
   "source": [
    "c[indexes_asset]"
   ]
  },
  {
   "cell_type": "code",
   "execution_count": 33,
   "id": "a2965cf7",
   "metadata": {},
   "outputs": [
    {
     "data": {
      "text/plain": [
       "array([0., 0., 0., 0., 0.])"
      ]
     },
     "execution_count": 33,
     "metadata": {},
     "output_type": "execute_result"
    }
   ],
   "source": [
    "aa - (a[indexes_asset] + c[indexes_asset])"
   ]
  },
  {
   "cell_type": "code",
   "execution_count": 17,
   "id": "04f50b83",
   "metadata": {},
   "outputs": [
    {
     "data": {
      "text/plain": [
       "array([ 0.05366821,  0.03911546,  0.02409443,  0.00859005, -0.00741325])"
      ]
     },
     "execution_count": 17,
     "metadata": {},
     "output_type": "execute_result"
    }
   ],
   "source": [
    "(a[indexes_asset] - c[indexes_asset])"
   ]
  },
  {
   "cell_type": "code",
   "execution_count": null,
   "id": "1879aee4",
   "metadata": {},
   "outputs": [],
   "source": []
  }
 ],
 "metadata": {
  "kernelspec": {
   "display_name": "Python 3 (ipykernel)",
   "language": "python",
   "name": "python3"
  },
  "language_info": {
   "codemirror_mode": {
    "name": "ipython",
    "version": 3
   },
   "file_extension": ".py",
   "mimetype": "text/x-python",
   "name": "python",
   "nbconvert_exporter": "python",
   "pygments_lexer": "ipython3",
   "version": "3.10.4"
  }
 },
 "nbformat": 4,
 "nbformat_minor": 5
}
