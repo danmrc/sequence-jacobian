{
 "cells": [
  {
   "cell_type": "markdown",
   "id": "6b4301f7",
   "metadata": {},
   "source": [
    "I claimed that `D` is actually the distribution of agents on the steady state over $e\\_grid \\times a\\_grid$ (the product space betwen `e_grid` and `a_grid`). I will prove this claim. Feel free to ignore the text blocks that are in {}, they are just side comments. \n",
    "\n",
    "\n",
    "This should work for any model, and I will use the one with sticky wages because it solves really fast:"
   ]
  },
  {
   "cell_type": "code",
   "execution_count": 1,
   "id": "8f33459d",
   "metadata": {},
   "outputs": [],
   "source": [
    "import copy\n",
    "import numpy as np\n",
    "import matplotlib.pyplot as plt\n",
    "import scipy as sp\n",
    "import random\n",
    "\n",
    "from sequence_jacobian import het, simple, create_model              # functions\n",
    "from sequence_jacobian import interpolate, grids, misc, estimation   # modules\n",
    "\n",
    "def household_guess(a_grid,r,z_grid,gamma,T):\n",
    "    new_z = np.ones((z_grid.shape[0],1))\n",
    "    wel = (1 + r) * a_grid[np.newaxis,:] + new_z + T[:,np.newaxis]\n",
    "    V_prime = (1 + r) * (wel * 0.1) ** (-gamma)\n",
    "    return V_prime\n",
    "\n",
    "@het(exogenous = 'Pi',policy = 'a', backward = 'V_prime', backward_init = household_guess)\n",
    "def household(V_prime_p,a_grid,z_grid,e_grid,r,T,beta,gamma,v,tauc):\n",
    "\n",
    "    c_prime = (beta *(1+tauc)* V_prime_p) ** (-1/gamma) # c_prime is the new guess for c_t\n",
    "\n",
    "    new_grid = (1 + tauc) * c_prime + a_grid[np.newaxis,:] - z_grid[:,np.newaxis] - T[:,np.newaxis]\n",
    "    wel = (1 + r) * a_grid\n",
    "\n",
    "    c = interpolate.interpolate_y(new_grid,wel,c_prime)\n",
    "\n",
    "    a = wel + z_grid[:,np.newaxis] + T[:,np.newaxis] - (1 + tauc) * c\n",
    "    V_prime = (1 + r)/(1+tauc) * c ** (-gamma)\n",
    "\n",
    "    # checks for violations of the condition of minimal assets required and fixes it\n",
    "    indexes_asset = np.nonzero(a < a_grid[0]) #first dimension: labor grid, second dimension: asset grid\n",
    "    if indexes_asset[0].size != 0 and indexes_asset[1].size !=0:\n",
    "        \n",
    "        a[indexes_asset] = a_grid[0]\n",
    "        c[indexes_asset] = (wel[indexes_asset[1]] + z_grid[indexes_asset[0]] \n",
    "                            + T[indexes_asset[0]] - a[indexes_asset])/(1+tauc)\n",
    "        V_prime[indexes_asset] = (1 + r)/(1+tauc) * (c[indexes_asset]) ** (-gamma)\n",
    "        \n",
    "    uce = e_grid[:,np.newaxis] * c ** (-gamma)\n",
    "\n",
    "    return V_prime,a,c,uce\n",
    "\n",
    "def income(e_grid, w, N, taun):\n",
    "    z_grid = (1 - taun) * w * N * e_grid\n",
    "    return z_grid\n",
    "\n",
    "def make_grid(rho_e, sd_e, nE, amin, amax, nA):\n",
    "    e_grid, pi_e, Pi = grids.markov_rouwenhorst(rho=rho_e, sigma=sd_e, N=nE)\n",
    "    a_grid = grids.agrid(amin=amin, amax=amax, n=nA)\n",
    "    return e_grid, Pi, a_grid, pi_e\n",
    "\n",
    "def transfers(pi_e, Div, Transfer, e_grid):\n",
    "    # hardwired incidence rules are proportional to skill; scale does not matter \n",
    "    tax_rule, div_rule = np.ones(e_grid.size), e_grid #np.ones(e_grid.size)\n",
    "    div = Div / np.sum(pi_e * div_rule) * div_rule\n",
    "    transfer =  (Transfer) / np.sum(pi_e * tax_rule) * tax_rule \n",
    "    T = div + transfer\n",
    "    return T\n",
    "\n",
    "hh_inp = household.add_hetinputs([make_grid,transfers,income])\n",
    "\n",
    "@simple\n",
    "def firm(Y, w, Z, pi, mu, kappa):\n",
    "    N = Y / Z\n",
    "    Div = Y - w * N - mu / (mu - 1) / (2 * kappa) * (1 + pi).apply(np.log) ** 2 * Y\n",
    "    return Div, N\n",
    "\n",
    "@simple\n",
    "def monetary(pi, rstar, phi_pi):\n",
    "    r = (1 + rstar(-1) + phi_pi * pi(-1)) / (1 + pi) - 1\n",
    "    return r\n",
    "\n",
    "@simple\n",
    "def fiscal(r, Transfer, B, C, N, tauc, taun, w):\n",
    "    govt_res = Transfer + (1 + r) * B(-1) - tauc * C - taun * w * N - B\n",
    "    return govt_res\n",
    "\n",
    "@simple\n",
    "def mkt_clearing(A, C, Y, B, pi, mu, kappa):\n",
    "    asset_mkt = A - B\n",
    "    goods_mkt = Y - C - mu / (mu - 1) / (2 * kappa) * (1 + pi).apply(np.log) ** 2 * Y\n",
    "    return asset_mkt, goods_mkt\n",
    "\n",
    "@simple\n",
    "def nkpc_ss(Z, mu):\n",
    "    w = Z / mu\n",
    "    return w\n",
    "\n",
    "@simple \n",
    "def union_ss(w, N, UCE, kw, v, muw, tauc, taun):\n",
    "    phi = ((1 - taun) * w * N ** (-v) * UCE) / ((1 + tauc) * muw) # our formula\n",
    "    wnkpc = kw * (phi * N ** (1 + v) - (1 - taun) * w * N * UCE / ((1 + tauc) * muw))\n",
    "    return wnkpc, phi\n",
    "\n",
    "blocks_ss = [hh_inp, firm, monetary, fiscal, mkt_clearing, nkpc_ss, union_ss]\n",
    "\n",
    "hank_ss = create_model(blocks_ss, name = \"One-Asset HANK SS\")\n",
    "\n",
    "calibration = {'gamma': 1.0, 'v': 2.0, 'rho_e': 0.966, 'sd_e': 0.5, 'nE': 7,\n",
    "               'amin': 0, 'amax': 150, 'nA': 500, 'Y': 1.0, 'Z': 1.0, 'pi': 0.0,\n",
    "               'mu': 1.2, 'kappa': 0.1, 'rstar': 0.005, 'phi_pi': 1.5, 'B': 6.0,\n",
    "               'kw': 0.0025, 'muw': 1.2, 'N': 1.0, 'tauc': 0.1, 'taun': 0.0}\n",
    "\n",
    "unknowns_ss = {'beta': 0.986, 'Transfer': -0.03}\n",
    "targets_ss = {'asset_mkt': 0, 'govt_res': 0}\n",
    "\n",
    "ss0 = hank_ss.solve_steady_state(calibration, unknowns_ss, targets_ss, backward_tol = 1E-22, solver=\"hybr\")"
   ]
  },
  {
   "cell_type": "markdown",
   "id": "7e27e857",
   "metadata": {},
   "source": [
    "Nothing controversial so far. Lets define some quantites we need, that come from the problem above:"
   ]
  },
  {
   "cell_type": "code",
   "execution_count": 2,
   "id": "dfdcf8ea",
   "metadata": {},
   "outputs": [],
   "source": [
    "pi_e = ss0.internals['household']['pi_e']\n",
    "e_grid = ss0.internals['household']['e_grid']\n",
    "D = ss0.internals['household']['D']\n",
    "a_grid = ss0.internals['household']['a_grid']\n",
    "a = ss0.internals['household']['a']\n",
    "r = ss0['r']\n",
    "\n",
    "nE = ss0['nE']\n",
    "nA = ss0['nA']"
   ]
  },
  {
   "cell_type": "markdown",
   "id": "901d93a1",
   "metadata": {},
   "source": [
    "I will simulate an economy with one million agents. They will start with a tuple $(\\text{productivity shock}, \\text{assets})$ that follow $D$. Since $D$ is a joint distribution, we need to select the points from the joint distribution (previously, I tried to select a productivity and then a asset quantity in two separate steps, which gives the wrong result):"
   ]
  },
  {
   "cell_type": "code",
   "execution_count": 3,
   "id": "9330d5de",
   "metadata": {},
   "outputs": [],
   "source": [
    "nP = 1_000_000\n",
    "D_vec = np.reshape(D,(nE*nA,1))\n",
    "start_number = random.choices(range(nE*nA),weights = D_vec, k = nP)"
   ]
  },
  {
   "cell_type": "markdown",
   "id": "3b95c29b",
   "metadata": {},
   "source": [
    "Since the `random.choices` expects a vector and not a matrix, there is a small work here: take the matrix `D` and change it to a vector using `reshape`. The `reshape` command glues lines together. The `start_number` just says which position of the vector $D_vec$ (which is $nA \\times nE$) was select. Since it glues lines together (and Python is indexed on 0), then a `start_number` of 500 is the first element of the second line of `D` i.e. zero assets with the second shock in productivity; 501 is the second element of the second line of `D` and so on. To recover the position in the two dimension grid, one recovers the productivity shock by taking the integer part of `start_number/nA` and the modulo (rest of the division) of `start_number` with respect to nA.\n",
    "\n",
    "Example: `start_number` is 654. Take the integer part of the division of nA:"
   ]
  },
  {
   "cell_type": "code",
   "execution_count": 4,
   "id": "8a2bbf61",
   "metadata": {},
   "outputs": [
    {
     "data": {
      "text/plain": [
       "1"
      ]
     },
     "execution_count": 4,
     "metadata": {},
     "output_type": "execute_result"
    }
   ],
   "source": [
    "int(654/nA)"
   ]
  },
  {
   "cell_type": "markdown",
   "id": "41cc0efd",
   "metadata": {},
   "source": [
    "So it is the second position to in the productivity shock. Lets get the position on the asset grid. The `a % b` operator is $a \\mod b$"
   ]
  },
  {
   "cell_type": "code",
   "execution_count": 5,
   "id": "8ab710fb",
   "metadata": {},
   "outputs": [
    {
     "data": {
      "text/plain": [
       "154"
      ]
     },
     "execution_count": 5,
     "metadata": {},
     "output_type": "execute_result"
    }
   ],
   "source": [
    "654 % nA"
   ]
  },
  {
   "cell_type": "markdown",
   "id": "a682f961",
   "metadata": {},
   "source": [
    "So the position on the asset grid is 154.\n",
    "\n",
    "{Note that Python zero indexing makes this a bit easier: for indexes starting in one, both operations above will require we sum one. Example: if the number selected is 42. Then, for a grid of size 500, $42 \\mod nA$ is 42 and the integer part of 42/500 is 0}\n",
    "\n",
    "I will populate two vectors with the productivivty shocks and asset holdings of each of our one million agents:"
   ]
  },
  {
   "cell_type": "code",
   "execution_count": 6,
   "id": "e0f6aa38",
   "metadata": {},
   "outputs": [],
   "source": [
    "e_shock = np.zeros(nP)\n",
    "\n",
    "for i in range(nP):\n",
    "    e_shock[i] = e_grid[int(start_number[i]/nA)]\n",
    "\n",
    "start_asset = np.zeros(nP)\n",
    "\n",
    "for i in range(nP):\n",
    "    start_asset[i] = a_grid[start_number[i] % nA]"
   ]
  },
  {
   "cell_type": "markdown",
   "id": "0bb0cbd5",
   "metadata": {},
   "source": [
    "Now to the part we disagree: I will use the decision rule for the assets `ss0.internals['household']['a']` to select the amount of assets the agents will hold given their endowment and shock. The function dows this for one agent:"
   ]
  },
  {
   "cell_type": "code",
   "execution_count": 7,
   "id": "038947b6",
   "metadata": {},
   "outputs": [],
   "source": [
    "def return_asset(a,e,a_grid,e_grid,decision_rule):\n",
    "    a_index = np.nonzero(a == a_grid)\n",
    "    e_index = np.nonzero(e == e_grid)\n",
    "    return decision_rule[e_index,a_index]"
   ]
  },
  {
   "cell_type": "markdown",
   "id": "c7651ee9",
   "metadata": {},
   "source": [
    "Loop for all agents:"
   ]
  },
  {
   "cell_type": "code",
   "execution_count": 8,
   "id": "2d584215",
   "metadata": {},
   "outputs": [],
   "source": [
    "assets_next = np.zeros(nP)\n",
    "\n",
    "for i in range(nP):\n",
    "\n",
    "    assets_next[i] = return_asset(start_asset[i],e_shock[i],a_grid,e_grid,a)"
   ]
  },
  {
   "cell_type": "markdown",
   "id": "cd130669",
   "metadata": {},
   "source": [
    "What is the distribution of assets now _over the `a_grid`_? Using `digitize`:"
   ]
  },
  {
   "cell_type": "code",
   "execution_count": 9,
   "id": "a17c4433",
   "metadata": {},
   "outputs": [],
   "source": [
    "pos = np.digitize(assets_next,a_grid)"
   ]
  },
  {
   "cell_type": "markdown",
   "id": "c1ebb85a",
   "metadata": {},
   "source": [
    "Small loop to count how many cases for each bin. Note that the bins are indexed starting with 1, against Python 0 indexing system:"
   ]
  },
  {
   "cell_type": "code",
   "execution_count": 10,
   "id": "30e35a78",
   "metadata": {},
   "outputs": [],
   "source": [
    "hist = np.zeros(nA)\n",
    "\n",
    "for i in range(nA):\n",
    "    hist[i] = np.size(np.nonzero(pos == i + 1))"
   ]
  },
  {
   "cell_type": "markdown",
   "id": "48390c51",
   "metadata": {},
   "source": [
    "Graphic that shows the (absolute) differences between the marginal distribution of `D` and the empirical distribution:"
   ]
  },
  {
   "cell_type": "code",
   "execution_count": 11,
   "id": "83572971",
   "metadata": {},
   "outputs": [
    {
     "data": {
      "text/plain": [
       "[<matplotlib.lines.Line2D at 0x7ff1e8597e80>]"
      ]
     },
     "execution_count": 11,
     "metadata": {},
     "output_type": "execute_result"
    },
    {
     "data": {
      "image/png": "[encoded data removed]",
      "text/plain": [
       "<Figure size 432x288 with 1 Axes>"
      ]
     },
     "metadata": {
      "needs_background": "light"
     },
     "output_type": "display_data"
    }
   ],
   "source": [
    "D_marg = np.sum(D,axis=0)\n",
    "plt.plot(np.abs(D_marg - hist/nP))"
   ]
  },
  {
   "cell_type": "markdown",
   "id": "6213965f",
   "metadata": {},
   "source": [
    "I will plot both distributions:"
   ]
  },
  {
   "cell_type": "code",
   "execution_count": 13,
   "id": "0680869e",
   "metadata": {},
   "outputs": [
    {
     "data": {
      "image/png": "[encoded data removed]",
      "text/plain": [
       "<Figure size 432x288 with 1 Axes>"
      ]
     },
     "metadata": {
      "needs_background": "light"
     },
     "output_type": "display_data"
    }
   ],
   "source": [
    "plt.plot(a_grid,hist/nP, label = \"Empirical Frequencies\")\n",
    "plt.plot(a_grid,D_marg, label = \"D\",ls = '--')\n",
    "plt.legend()\n",
    "plt.show()"
   ]
  },
  {
   "cell_type": "code",
   "execution_count": null,
   "id": "f8a312f4",
   "metadata": {},
   "outputs": [],
   "source": []
  }
 ],
 "metadata": {
  "kernelspec": {
   "display_name": "Python 3 (ipykernel)",
   "language": "python",
   "name": "python3"
  },
  "language_info": {
   "codemirror_mode": {
    "name": "ipython",
    "version": 3
   },
   "file_extension": ".py",
   "mimetype": "text/x-python",
   "name": "python",
   "nbconvert_exporter": "python",
   "pygments_lexer": "ipython3",
   "version": "3.9.12"
  }
 },
 "nbformat": 4,
 "nbformat_minor": 5
}
