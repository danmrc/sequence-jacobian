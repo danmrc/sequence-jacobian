{
 "cells": [
  {
   "cell_type": "markdown",
   "id": "75cdc871",
   "metadata": {},
   "source": [
    "# Boilerplate\n",
    "\n",
    "Just load packages:"
   ]
  },
  {
   "cell_type": "code",
   "execution_count": 64,
   "id": "d1e9737d",
   "metadata": {},
   "outputs": [],
   "source": [
    "import copy\n",
    "import numpy as np\n",
    "import matplotlib.pyplot as plt\n",
    "import scipy as sp\n",
    "\n",
    "from sequence_jacobian import het, simple, create_model              # functions\n",
    "from sequence_jacobian import interpolate, grids, misc, estimation   # modules\n",
    "from numba import vectorize"
   ]
  },
  {
   "cell_type": "markdown",
   "id": "19b939ad",
   "metadata": {},
   "source": [
    "This block does bissection, i.e. given a function $f$ and values $a$ and $b$ such that $f(a)$ and $f(b)$ have different signs, we find a root. The function `bissection_onestep` does one step of bissection: given two values $a$ and $b$, it returns new values for $a$ and $b$ that bracket the root. The function `vec_bissection` applies the function `bissection_onestep` until the distance between $a$ and $b$ is small (or we run out of iterations). \n",
    "\n",
    "This is relatively slow, but safe method (and easy to implement!) to find a root. We only use it to find the value for consumption when the minimum asset constrain is binding. \n",
    "\n",
    "The function is written to receive a function that returns an array, each element of the array represents a point in the grids of the state variables:"
   ]
  },
  {
   "cell_type": "code",
   "execution_count": 65,
   "id": "8f062f3a",
   "metadata": {},
   "outputs": [],
   "source": [
    "def bissection_onestep(f,a,b):\n",
    "    if not np.all(f(a)*f(b) <= 0):\n",
    "        raise ValueError(\"No sign change\")\n",
    "    else:\n",
    "        mid_point = (a + b)/2\n",
    "        mid_value = f(mid_point)\n",
    "        new_a = a\n",
    "        new_b = b\n",
    "        indxs_a = np.nonzero(mid_value*f(b) <= 0)\n",
    "        indxs_b = np.nonzero(mid_value*f(a) <= 0)\n",
    "        if indxs_a[0].size != 0:\n",
    "            new_a[indxs_a] = mid_point[indxs_a]\n",
    "        if indxs_b[0].size != 0:\n",
    "            new_b[indxs_b] = mid_point[indxs_b]\n",
    "        return new_a,new_b\n",
    "\n",
    "def vec_bissection(f,a,b,iter_max = 100,tol = 1E-11):\n",
    "    i = 1\n",
    "    err = 1\n",
    "    while i < iter_max and err > tol:\n",
    "        a,b = bissection_onestep(f,a,b)\n",
    "        err = np.max(np.abs(a - b))\n",
    "        i += 1\n",
    "    if i >= iter_max:\n",
    "        raise Error(\"No convergence\")\n",
    "    return a"
   ]
  },
  {
   "cell_type": "markdown",
   "id": "56135325",
   "metadata": {},
   "source": [
    "# Asset Constrain: Binding situation\n",
    "\n",
    "The usual household problem is:\n",
    "\n",
    "\n",
    "$$\n",
    "\\max_{c_t,n_t,b_{t+1}} \\sum_{t=1}^{\\infty} \\beta^t E_{t-1} \\left[\\left(\\frac{c_t^{1-\\gamma}}{1-\\gamma} - \\varphi \\frac{n_t^{1+v}}{1+v}\\right)\\right] \\text{ subject to } c_t + b_{t+1} = (1+r_t)b_t + w_t e_t n_t + T_t\n",
    "$$\n",
    "\n",
    "When the household minimum asset constrain is binding, $b_{t+1} = \\underline{b}$, which changes the problem to:\n",
    "\n",
    "$$\n",
    "\\max_{c_t,n_t} \\sum_{t=1}^{\\infty} \\beta^t E_{t-1} \\left[\\left(\\frac{c_t^{1-\\gamma}}{1-\\gamma} - \\varphi \\frac{n_t^{1+v}}{1+v}\\right)\\right] \\text{ subject to } c_t + \\underline{b} = (1+r_t)b_t + w_t e_t n_t + T_t\n",
    "$$\n",
    "\n",
    "This breaks down the intertemporal problem. The lagrangian for this problem is:\n",
    "\n",
    "$$\n",
    "\\mathcal{L} = \\sum_{t=1}^{\\infty} \\beta^t \\left(\\frac{c_t^{1-\\gamma}}{1-\\gamma} - \\varphi \\frac{n_t^{1+v}}{1+v}\\right) -\\lambda(c_t + \\underline{b} - (1+r_t)b_t - w_t e_t n_t - T_t)\n",
    "$$\n",
    "\n",
    "$$\n",
    "\\frac{\\partial \\mathcal{L}}{\\partial c_t} = \\beta^t c_t^{-\\gamma} - \\lambda = 0 \\quad (i)\\\\\n",
    "\\frac{\\partial \\mathcal{L}}{\\partial n_t} = -\\beta^t \\varphi n_t^{v} + \\lambda w_t e_t = 0 \\quad (ii)\n",
    "$$\n",
    "\n",
    "Working with (i):\n",
    "\n",
    "$$\n",
    "\\beta^t c_t^{-\\gamma} = \\lambda\n",
    "$$\n",
    "\n",
    "Plug it into (ii):\n",
    "\n",
    "$$\n",
    "\\beta^t \\varphi n_t^{v} = \\beta^t c_t^{-\\gamma} w_t e_t \\\\\n",
    "n_t = \\left(\\frac{w_t e_t}{\\varphi c_t^{\\gamma}}\\right)^{1/v}\n",
    "$$\n",
    "\n",
    "Since any solution needs to respect the constrain:\n",
    "\n",
    "$$\n",
    "c_t + \\underline{b} = w_t e_t\\left(\\frac{w_t e_t}{\\varphi c_t^{\\gamma}}\\right)^{1/v} + (1+r_t)b_t + T_t\n",
    "$$\n",
    "\n",
    "The function `consumption` implements the equation above. We are calling $(1+r_t) b_t + T_t - \\underline{b}$ the `rest`; `we` is the product $w_t e_t$. Any value of $c$ that makes the equation above valid solves the constrained problem of the agent. We use the bissection functions of the previous section to do that:"
   ]
  },
  {
   "cell_type": "code",
   "execution_count": 66,
   "id": "21b05086",
   "metadata": {},
   "outputs": [],
   "source": [
    "def consumption(c,we,rest,gamma,v,phi):\n",
    "    return c - we*(we/(phi*c**gamma))**(1/v) - rest"
   ]
  },
  {
   "cell_type": "markdown",
   "id": "23171e34",
   "metadata": {},
   "source": [
    "# Household block\n",
    "\n",
    "This is the block that implements the household problem. We use the Endogenous Grid Method. When the value of the assets is bellow the minimum value $\\underline{b}$, then we have to use the function of the previous section. \n",
    "\n",
    "The first function will simply give a guess to start the iteration:"
   ]
  },
  {
   "cell_type": "code",
   "execution_count": 67,
   "id": "7f891833",
   "metadata": {},
   "outputs": [],
   "source": [
    "def household_guess(a_grid,e_grid,r,w,gamma,T):\n",
    "    wel = (1+r)*a_grid[np.newaxis,:] + w*e_grid[:,np.newaxis] + T[:,np.newaxis]\n",
    "    V_prime = (1+r)*(wel*0.1)**(-gamma)\n",
    "    return V_prime"
   ]
  },
  {
   "cell_type": "markdown",
   "id": "e974d3c5",
   "metadata": {},
   "source": [
    "The function bellow implements _one step_ of the solution of the household problem. The household problem is:\n",
    "\n",
    "$$\n",
    "\\max_{c_t,n_t,b_{t+1}} \\sum_{t=1}^{\\infty} \\beta^t E_{t-1} \\left[\\left(\\frac{c_t^{1-\\gamma}}{1-\\gamma} - \\varphi \\frac{n_t^{1+v}}{1+v}\\right)\\right] \\text{ subject to } c_t + b_{t+1} = (1+r_t)b_t + w_t e_t n_t + T_t\n",
    "$$\n",
    "\n",
    "In value function form:\n",
    "\n",
    "$$\n",
    "V_t(b_t) = \\max_{c_t,n_t,b_{t+1}} \\left(\\frac{c_t^{1-\\gamma}}{1-\\gamma} - \\varphi \\frac{n_t^{1+v}}{1+v}\\right) + \\beta E_t[V_t(b_{t+1})]\n",
    "$$\n",
    "\n",
    "The problem above is subject to $c_t + b_{t+1} = (1+r_t)b_t + w_t e_t n_t + T_t$. Then:\n",
    "\n",
    "$$\n",
    "V_t(b_t) = \\max_{n_t,b_{t+1}} \\left(\\frac{((1+r_t)b_t + w_t e_t n_t + T_t - b_{t+1})^{1-\\gamma}}{1-\\gamma} - \\varphi \\frac{n_t^{1-v}}{1-v}\\right) + \\beta E_t[V_t(b_{t+1})]\n",
    "$$\n",
    "\n",
    "Then:\n",
    "\n",
    "$$\n",
    "\\frac{\\partial V}{\\partial b_{t+1}} = -((1+r_t)b_t + w_t e_t n_t + T_t - b_{t+1})^{-\\gamma} + \\beta E_t\\left[\\frac{\\partial V}{\\partial b_{t+1}}\\right]\\\\\n",
    "\\frac{\\partial V}{\\partial n_{t}} = w_t e_t((1+r_t)b_t + w_t e_t n_t + T_t - b_{t+1})^{-\\gamma} - \\phi n_t^{v}\\\\\n",
    "\\frac{\\partial V}{\\partial b_t} = (1+r_t)((1+r_t)b_t + w_t e_t n_t + T_t - b_{t+1})^{-\\gamma}\n",
    "\\tag{foc}\n",
    "$$\n",
    "\n",
    "By Benveniste Scheinkman, we have that:\n",
    "\n",
    "$$\\frac{\\partial V}{\\partial b_{t+1}} = (1+r_{t+1})(c_{t+1})^{-\\gamma} \\tag{a}$$\n",
    "\n",
    "This will be the variable `V_prime_p` in the problem bellow.\n",
    "\n",
    "Joining the first and the last expression of the block above, and using that $c_t = (1+r_t)b_t + w_t e_t n_t + T_t - b_{t+1}$, we have, in the point of maximum:\n",
    "\n",
    "$$\n",
    "-c_t^{-\\gamma} + \\beta(1+r_{t+1})(c_{t+1})^{-\\gamma} = 0\\\\\n",
    "c_t = (\\beta(1+r_{t+1})(c_{t+1})^{-\\gamma})^{-1/\\gamma}\n",
    "$$\n",
    "\n",
    "This gives the value of the policy ($c_t$) in the current iteration. We can obtain it in terms of $\\frac{\\partial V}{\\partial b_t}$ from (a) as $c_t = \\left(\\beta \\frac{\\partial V}{\\partial b_{t+1}} \\right)^{-1/\\gamma}$. This is the definition of `c_prime`.\n",
    "\n",
    "Using the second equation from the foc block, we obtain:\n",
    "\n",
    "$$\n",
    "n_t = \\left(\\frac{e_t w_t}{\\varphi c_t^{\\gamma}}\\right)^{1/v}\n",
    "$$\n",
    "\n",
    "This is the variable `n_prime`. \n",
    "\n",
    "By the budget constrain:\n",
    "\n",
    "$$\n",
    "b_{t+1} + c_t = (1+r_t)b_t + e_t w_t n_t + T_t\n",
    "$$\n",
    "\n",
    "If we have a grid of today values of the asset `a_grid`, then the values implied by the budget constrain of the asset tomorrow are $c_t + b_{t+1} - w_t e_t n_t - T_t$. This is the variable `new_grid`. We interpolate from these values to obtain the value of the variables $c_t$ and $n_t$. \n",
    "\n",
    "We then compute the assets of the next period that this policy implies. If the policy implies an asset value smaller than the minimum allowed, we then need to compute the best value of consumption given that it is constrained. We then use the calculations of the previous section to do that.  "
   ]
  },
  {
   "cell_type": "code",
   "execution_count": 68,
   "id": "0d7b06e9",
   "metadata": {},
   "outputs": [
    {
     "name": "stdout",
     "output_type": "stream",
     "text": [
      "<HetBlock 'household'>\n",
      "Inputs: ['a_grid', 'e_grid', 'r', 'w', 'T', 'beta', 'gamma', 'v', 'phi', 'Pi']\n",
      "Macro outputs: ['A', 'C', 'N']\n",
      "Micro outputs: ['D', 'Dbeg', 'Pi', 'V_prime', 'a', 'c', 'n']\n"
     ]
    }
   ],
   "source": [
    "@het(exogenous = 'Pi',policy = 'a', backward = 'V_prime', backward_init=household_guess)\n",
    "def household(V_prime_p,a_grid,e_grid,r,w,T,beta,gamma,v,phi):\n",
    "\n",
    "    we = w*e_grid\n",
    "\n",
    "    c_prime = (beta*V_prime_p)**(-1/gamma) #c_prime is quite a misnomer, since this is the new guess for c_t\n",
    "    n_prime = (we[:,np.newaxis]/(phi*c_prime**gamma))**(1/v)\n",
    "\n",
    "    new_grid = (c_prime + a_grid[np.newaxis,:] - we[:,np.newaxis]*n_prime - T[:,np.newaxis])\n",
    "    wel = (1+r)*a_grid\n",
    "\n",
    "    c = interpolate.interpolate_y(new_grid,wel,c_prime)\n",
    "    n = interpolate.interpolate_y(new_grid,wel,n_prime)\n",
    "\n",
    "    a = wel + we[:,np.newaxis]*n + T[:,np.newaxis] - c\n",
    "    V_prime= (1+r)*c**(-gamma)\n",
    "\n",
    "    # checks for violations of the condition of minimal assets required and fixes it\n",
    "\n",
    "    indexes_asset = np.nonzero(a < a_grid[0]) #first dimension: labor grid, second dimension: asset grid\n",
    "    a[indexes_asset] = a_grid[0]\n",
    "\n",
    "    if indexes_asset[0].size != 0 and indexes_asset[1].size !=0:\n",
    "\n",
    "        aa = np.zeros((indexes_asset[0].size)) + 1E-5\n",
    "        rest = -a_grid[0] + wel[indexes_asset[1]] + T[indexes_asset[0]]\n",
    "        bb = c[indexes_asset] + 0.5\n",
    "        \n",
    "        c[indexes_asset] = vec_bissection(lambda c : consumption(c,we[indexes_asset[0]],rest,gamma,v,phi),aa,bb)\n",
    "        n[indexes_asset] = (we[indexes_asset[0]]/(phi*c[indexes_asset]**gamma))**(1/v)\n",
    "        V_prime[indexes_asset] = (1+r)*(c[indexes_asset])**(-gamma)\n",
    "\n",
    "    return V_prime,a,c,n\n",
    "\n",
    "print(household)\n",
    "print(f'Inputs: {household.inputs}')\n",
    "print(f'Macro outputs: {household.outputs}')\n",
    "print(f'Micro outputs: {household.internals}')"
   ]
  },
  {
   "cell_type": "markdown",
   "id": "02925b87",
   "metadata": {},
   "source": [
    "The rest of the code is identical to the HANK example in their notebook on their repo:"
   ]
  },
  {
   "cell_type": "code",
   "execution_count": 69,
   "id": "9aa21c7b",
   "metadata": {},
   "outputs": [
    {
     "name": "stdout",
     "output_type": "stream",
     "text": [
      "<HetBlock 'household' with hetinput 'make_grid_transfers'>\n",
      "Inputs: ['r', 'w', 'beta', 'gamma', 'v', 'phi', 'rho_e', 'sd_e', 'nE', 'amin', 'amax', 'nA', 'Div', 'Transfer']\n"
     ]
    }
   ],
   "source": [
    "def make_grid(rho_e, sd_e, nE, amin, amax, nA):\n",
    "    e_grid, pi_e, Pi = grids.markov_rouwenhorst(rho=rho_e, sigma=sd_e, N=nE)\n",
    "    a_grid = grids.agrid(amin=amin, amax=amax, n=nA)\n",
    "    return e_grid, Pi, a_grid, pi_e\n",
    "\n",
    "def transfers(pi_e, Div, Transfer, e_grid):\n",
    "    # hardwired incidence rules are proportional to skill; scale does not matter \n",
    "    tax_rule, div_rule = np.ones(e_grid.size), e_grid #np.ones(e_grid.size)\n",
    "    div = Div / np.sum(pi_e * div_rule) * div_rule\n",
    "    transfer =  (Transfer) / np.sum(pi_e * tax_rule) * tax_rule \n",
    "    T = div + transfer\n",
    "    return T\n",
    "\n",
    "household_inp= household.add_hetinputs([make_grid,transfers])\n",
    "\n",
    "print(household_inp)\n",
    "print(f'Inputs: {household_inp.inputs}')"
   ]
  },
  {
   "cell_type": "code",
   "execution_count": 70,
   "id": "8f31fec3",
   "metadata": {},
   "outputs": [
    {
     "name": "stdout",
     "output_type": "stream",
     "text": [
      "<HetBlock 'household' with hetinput 'make_grid_transfers' and with hetoutput `labor_supply'>\n",
      "Outputs: ['A', 'C', 'N', 'NE']\n",
      "Inputs: ['r', 'w', 'beta', 'gamma', 'v', 'phi', 'rho_e', 'sd_e', 'nE', 'amin', 'amax', 'nA', 'Div', 'Transfer']\n"
     ]
    }
   ],
   "source": [
    "def labor_supply(n, e_grid):\n",
    "    ne = e_grid[:, np.newaxis] * n\n",
    "    return ne\n",
    "\n",
    "hh_ext = household_inp.add_hetoutputs([labor_supply])\n",
    "\n",
    "print(hh_ext)\n",
    "print(f'Outputs: {hh_ext.outputs}')\n",
    "print(f'Inputs: {household_inp.inputs}')"
   ]
  },
  {
   "cell_type": "code",
   "execution_count": 80,
   "id": "77c6e87c",
   "metadata": {},
   "outputs": [],
   "source": [
    "@simple\n",
    "def firm(Y, w, Z, pi, mu, kappa):\n",
    "    L = Y / Z\n",
    "    Div = Y - w * L - mu/(mu-1)/(2*kappa) * (1+pi).apply(np.log)**2 * Y\n",
    "    return L, Div\n",
    "\n",
    "\n",
    "@simple\n",
    "def monetary(pi, rstar, phi_pi):\n",
    "    i = (rstar(-1))\n",
    "    r =  (1+i  + phi_pi * pi(-1)) / (1 + pi) - 1\n",
    "    return r\n",
    "\n",
    "\n",
    "@simple\n",
    "def fiscal(r,Transfer,A):\n",
    "    B = (1+r)*A(-1) + Transfer #can't reference B(-1) because it is being defined here. No problem, since A = B (??)\n",
    "    return B\n",
    "\n",
    "\n",
    "@simple\n",
    "def mkt_clearing(A, NE, C, L, Y, B, pi, mu, kappa):\n",
    "    asset_mkt = A - B\n",
    "    labor_mkt = NE - L\n",
    "    goods_mkt = Y - C - mu/(mu-1)/(2*kappa) * (1+pi).apply(np.log)**2 * Y\n",
    "    return asset_mkt, labor_mkt, goods_mkt\n",
    "\n",
    "\n",
    "@simple\n",
    "def nkpc_ss(Z, mu):\n",
    "    w = Z / mu\n",
    "    return w"
   ]
  },
  {
   "cell_type": "code",
   "execution_count": 81,
   "id": "a5bb25a7",
   "metadata": {
    "scrolled": true
   },
   "outputs": [
    {
     "name": "stdout",
     "output_type": "stream",
     "text": [
      "<Model 'One-Asset HANK SS'>\n",
      "Inputs: ['beta', 'gamma', 'v', 'phi', 'rho_e', 'sd_e', 'nE', 'amin', 'amax', 'nA', 'Transfer', 'Y', 'Z', 'pi', 'mu', 'kappa', 'rstar', 'phi_pi']\n",
      "Outputs: ['A', 'C', 'N', 'NE', 'L', 'Div', 'r', 'B', 'w', 'asset_mkt', 'labor_mkt', 'goods_mkt']\n"
     ]
    }
   ],
   "source": [
    "blocks_ss = [hh_ext, firm, monetary,fiscal, nkpc_ss, mkt_clearing]\n",
    "\n",
    "hank_ss = create_model(blocks_ss, name=\"One-Asset HANK SS\")\n",
    "\n",
    "print(hank_ss)\n",
    "print(f\"Inputs: {hank_ss.inputs}\")\n",
    "print(f\"Outputs: {hank_ss.outputs}\")"
   ]
  },
  {
   "cell_type": "code",
   "execution_count": 87,
   "id": "cf2f3857",
   "metadata": {},
   "outputs": [],
   "source": [
    "calibration = {'gamma': 1/2, 'v':1/2, 'rho_e': 0.966, 'sd_e': 0.5, 'nE': 7,\n",
    "               'amin': 0, 'amax': 150, 'nA': 500, 'Y': 1.0, 'Z': 1.0, 'pi': 0.0,\n",
    "               'mu': 1.2, 'kappa': 0.1, 'rstar': 0.005, 'phi_pi': 0,'Transfer':-0.03}\n",
    "\n",
    "unknowns_ss = {'beta': 0.986, 'phi': 0.8}\n",
    "targets_ss = {'asset_mkt': 0, 'labor_mkt': 0}\n",
    "\n",
    "ss0 = hank_ss.solve_steady_state(calibration, unknowns_ss, targets_ss, solver=\"hybr\")"
   ]
  },
  {
   "cell_type": "code",
   "execution_count": 83,
   "id": "a1279086",
   "metadata": {},
   "outputs": [
    {
     "name": "stdout",
     "output_type": "stream",
     "text": [
      "Asset market clearing: -1.33e-14\n",
      "Labor market clearing:  5.33e-15\n",
      "Goods market clearing (untargeted): -2.64e-09\n"
     ]
    }
   ],
   "source": [
    "print(f\"Asset market clearing: {ss0['asset_mkt']: 0.2e}\")\n",
    "print(f\"Labor market clearing: {ss0['labor_mkt']: 0.2e}\")\n",
    "print(f\"Goods market clearing (untargeted): {ss0['goods_mkt']: 0.2e}\")"
   ]
  },
  {
   "cell_type": "code",
   "execution_count": 84,
   "id": "10b2077d",
   "metadata": {},
   "outputs": [
    {
     "data": {
      "text/plain": [
       "6.000000000002864"
      ]
     },
     "execution_count": 84,
     "metadata": {},
     "output_type": "execute_result"
    }
   ],
   "source": [
    "ss0['B']"
   ]
  },
  {
   "cell_type": "code",
   "execution_count": 50,
   "id": "7b6baf79",
   "metadata": {},
   "outputs": [
    {
     "data": {
      "image/png": "[encoded data removed]",
      "text/plain": [
       "<Figure size 432x288 with 1 Axes>"
      ]
     },
     "metadata": {
      "needs_background": "light"
     },
     "output_type": "display_data"
    }
   ],
   "source": [
    "plt.plot(ss0.internals['household']['a_grid'], ss0.internals['household']['n'].T)\n",
    "plt.xlabel('Assets'), plt.ylabel('Labor supply')\n",
    "plt.show()"
   ]
  },
  {
   "cell_type": "code",
   "execution_count": 51,
   "id": "8432d5fe",
   "metadata": {},
   "outputs": [
    {
     "name": "stdout",
     "output_type": "stream",
     "text": [
      "<SimpleBlock 'monetary'>\n",
      "<SimpleBlock 'nkpc'>\n",
      "<SimpleBlock 'firm'>\n",
      "<HetBlock 'household' with hetinput 'make_grid_transfers' and with hetoutput `labor_supply'>\n",
      "<SimpleBlock 'fiscal'>\n",
      "<SimpleBlock 'mkt_clearing'>\n"
     ]
    }
   ],
   "source": [
    "@simple\n",
    "def nkpc(pi, w, Z, Y, r, mu, kappa):\n",
    "    nkpc_res = kappa * (w / Z - 1 / mu) + Y(+1) / Y * (1 + pi(+1)).apply(np.log) / (1 + r(+1))\\\n",
    "               - (1 + pi).apply(np.log)\n",
    "    return nkpc_res\n",
    "\n",
    "\n",
    "blocks = [hh_ext, firm, monetary, fiscal, mkt_clearing, nkpc]\n",
    "hank = create_model(blocks, name=\"One-Asset HANK\")\n",
    "\n",
    "print(*hank.blocks, sep='\\n')"
   ]
  },
  {
   "cell_type": "code",
   "execution_count": 52,
   "id": "7c0888cf",
   "metadata": {},
   "outputs": [],
   "source": [
    "ss = hank.steady_state(ss0)\n",
    "\n",
    "for k in ss0.keys():\n",
    "    assert np.all(np.isclose(ss[k], ss0[k]))"
   ]
  },
  {
   "cell_type": "code",
   "execution_count": 53,
   "id": "9e610ab6",
   "metadata": {},
   "outputs": [
    {
     "name": "stdout",
     "output_type": "stream",
     "text": [
      "<JacobianDict outputs=['pi', 'w', 'Y', 'A', 'C', 'N', 'NE', 'L', 'Div', 'r', 'B', 'asset_mkt', 'labor_mkt', 'goods_mkt', 'nkpc_res'], inputs=['rstar', 'Transfer', 'Z']>\n"
     ]
    }
   ],
   "source": [
    "T = 300\n",
    "exogenous = ['rstar','Transfer', 'Z']\n",
    "unknowns = ['pi', 'w', 'Y']\n",
    "targets = ['nkpc_res', 'asset_mkt', 'labor_mkt']\n",
    "\n",
    "# general equilibrium jacobians\n",
    "G = hank.solve_jacobian(ss, unknowns, targets, exogenous, T=T)\n",
    "\n",
    "print(G)"
   ]
  },
  {
   "cell_type": "code",
   "execution_count": 56,
   "id": "69394cd8",
   "metadata": {
    "scrolled": true
   },
   "outputs": [
    {
     "data": {
      "image/png": "[encoded data removed]",
      "text/plain": [
       "<Figure size 432x288 with 1 Axes>"
      ]
     },
     "metadata": {
      "needs_background": "light"
     },
     "output_type": "display_data"
    }
   ],
   "source": [
    "rhos = np.array([0.95])\n",
    "\n",
    "dtstar = 0.001 * rhos ** (np.arange(T)[:, np.newaxis])\n",
    "dpi = (G['C']['Transfer']) @ dtstar\n",
    "\n",
    "plt.plot(10000*dpi[:81])\n",
    "plt.title(r'Consumption responses transfers shocks')\n",
    "plt.xlabel('quarters')\n",
    "plt.ylabel('bp deviation from ss')\n",
    "plt.show()"
   ]
  },
  {
   "cell_type": "code",
   "execution_count": 57,
   "id": "4fa9cddf",
   "metadata": {
    "scrolled": true
   },
   "outputs": [
    {
     "data": {
      "image/png": "[encoded data removed]",
      "text/plain": [
       "<Figure size 432x288 with 1 Axes>"
      ]
     },
     "metadata": {
      "needs_background": "light"
     },
     "output_type": "display_data"
    }
   ],
   "source": [
    "dpi = G['A']['Transfer'] @ dtstar\n",
    "\n",
    "plt.plot(10000*dpi[:80])\n",
    "plt.title(r'Bond responses transfers shocks')\n",
    "plt.xlabel('quarters')\n",
    "plt.ylabel('bp deviation from ss')\n",
    "plt.show()"
   ]
  },
  {
   "cell_type": "code",
   "execution_count": 58,
   "id": "0c15a19c",
   "metadata": {},
   "outputs": [
    {
     "data": {
      "image/png": "[encoded data removed]",
      "text/plain": [
       "<Figure size 432x288 with 1 Axes>"
      ]
     },
     "metadata": {
      "needs_background": "light"
     },
     "output_type": "display_data"
    }
   ],
   "source": [
    "dpi = (G['r']['Transfer']) @ dtstar\n",
    "\n",
    "plt.plot(10000*dpi[:21])\n",
    "plt.title(r'Interest rate responses transfers shocks')\n",
    "plt.xlabel('quarters')\n",
    "plt.ylabel('bp deviation from ss')\n",
    "plt.show()"
   ]
  },
  {
   "cell_type": "code",
   "execution_count": 59,
   "id": "cbf9f76e",
   "metadata": {
    "scrolled": false
   },
   "outputs": [
    {
     "data": {
      "image/png": "[encoded data removed]",
      "text/plain": [
       "<Figure size 432x288 with 1 Axes>"
      ]
     },
     "metadata": {
      "needs_background": "light"
     },
     "output_type": "display_data"
    }
   ],
   "source": [
    "dpi = (G['pi']['Transfer']) @ dtstar\n",
    "\n",
    "plt.plot(10000*dpi[:21])\n",
    "plt.title(r'Inflation response transfers shocks')\n",
    "plt.xlabel('quarters')\n",
    "plt.ylabel('bp deviation from ss')\n",
    "plt.show()"
   ]
  },
  {
   "cell_type": "code",
   "execution_count": 60,
   "id": "407dbf5e",
   "metadata": {},
   "outputs": [
    {
     "data": {
      "image/png": "[encoded data removed]",
      "text/plain": [
       "<Figure size 432x288 with 1 Axes>"
      ]
     },
     "metadata": {
      "needs_background": "light"
     },
     "output_type": "display_data"
    }
   ],
   "source": [
    "dpi = (G['L']['Transfer']) @ dtstar\n",
    "\n",
    "plt.plot(10000*dpi[:21])\n",
    "plt.title(r'Labor response transfers shocks')\n",
    "plt.xlabel('quarters')\n",
    "plt.ylabel('bp deviation from ss')\n",
    "plt.show()"
   ]
  },
  {
   "cell_type": "code",
   "execution_count": 63,
   "id": "c9329195",
   "metadata": {},
   "outputs": [
    {
     "data": {
      "image/png": "[encoded data removed]",
      "text/plain": [
       "<Figure size 432x288 with 1 Axes>"
      ]
     },
     "metadata": {
      "needs_background": "light"
     },
     "output_type": "display_data"
    }
   ],
   "source": [
    "dpi = (G['w']['Transfer']) @ dtstar\n",
    "\n",
    "plt.plot(10000*dpi[:21])\n",
    "plt.title(r'Wage response transfers shocks')\n",
    "plt.xlabel('quarters')\n",
    "plt.ylabel('bp deviation from ss')\n",
    "plt.show()"
   ]
  },
  {
   "cell_type": "code",
   "execution_count": 117,
   "id": "8630716c",
   "metadata": {},
   "outputs": [
    {
     "data": {
      "text/plain": [
       "[<matplotlib.lines.Line2D at 0x11f7ad0a0>]"
      ]
     },
     "execution_count": 117,
     "metadata": {},
     "output_type": "execute_result"
    },
    {
     "data": {
      "image/png": "[encoded data removed]",
      "text/plain": [
       "<Figure size 432x288 with 1 Axes>"
      ]
     },
     "metadata": {
      "needs_background": "light"
     },
     "output_type": "display_data"
    }
   ],
   "source": [
    "plt.plot(dtstar[:31])"
   ]
  },
  {
   "cell_type": "code",
   "execution_count": 118,
   "id": "994f6744",
   "metadata": {},
   "outputs": [
    {
     "data": {
      "image/svg+xml": [
       "<?xml version=\"1.0\" encoding=\"UTF-8\" standalone=\"no\"?>\n",
       "<!DOCTYPE svg PUBLIC \"-//W3C//DTD SVG 1.1//EN\"\n",
       " \"http://www.w3.org/Graphics/SVG/1.1/DTD/svg11.dtd\">\n",
       "<!-- Generated by graphviz version 2.47.1 (0)\n",
       " -->\n",
       "<!-- Pages: 1 -->\n",
       "<svg width=\"411pt\" height=\"566pt\"\n",
       " viewBox=\"0.00 0.00 410.84 566.00\" xmlns=\"http://www.w3.org/2000/svg\" xmlns:xlink=\"http://www.w3.org/1999/xlink\">\n",
       "<g id=\"graph0\" class=\"graph\" transform=\"scale(1 1) rotate(0) translate(4 562)\">\n",
       "<polygon fill=\"white\" stroke=\"transparent\" points=\"-4,4 -4,-562 406.84,-562 406.84,4 -4,4\"/>\n",
       "<!-- exog -->\n",
       "<g id=\"node1\" class=\"node\">\n",
       "<title>exog</title>\n",
       "<polygon fill=\"none\" stroke=\"black\" points=\"90,-558 14,-558 14,-522 90,-522 90,-558\"/>\n",
       "<text text-anchor=\"middle\" x=\"52\" y=\"-536.3\" font-family=\"Times,serif\" font-size=\"14.00\">exogenous</text>\n",
       "</g>\n",
       "<!-- 0 -->\n",
       "<g id=\"node4\" class=\"node\">\n",
       "<title>0</title>\n",
       "<ellipse fill=\"none\" stroke=\"black\" cx=\"116\" cy=\"-453\" rx=\"52.79\" ry=\"18\"/>\n",
       "<text text-anchor=\"middle\" x=\"116\" y=\"-449.3\" font-family=\"Times,serif\" font-size=\"14.00\">nkpc_ss [0]</text>\n",
       "</g>\n",
       "<!-- exog&#45;&gt;0 -->\n",
       "<g id=\"edge1\" class=\"edge\">\n",
       "<title>exog&#45;&gt;0</title>\n",
       "<path fill=\"none\" stroke=\"black\" d=\"M64.95,-521.8C74.26,-509.43 86.97,-492.55 97.37,-478.74\"/>\n",
       "<polygon fill=\"black\" stroke=\"black\" points=\"100.28,-480.69 103.5,-470.6 94.69,-476.48 100.28,-480.69\"/>\n",
       "<text text-anchor=\"middle\" x=\"92.5\" y=\"-492.8\" font-family=\"Times,serif\" font-size=\"14.00\">Z</text>\n",
       "</g>\n",
       "<!-- 1 -->\n",
       "<g id=\"node5\" class=\"node\">\n",
       "<title>1</title>\n",
       "<ellipse fill=\"none\" stroke=\"black\" cx=\"39\" cy=\"-366\" rx=\"38.99\" ry=\"18\"/>\n",
       "<text text-anchor=\"middle\" x=\"39\" y=\"-362.3\" font-family=\"Times,serif\" font-size=\"14.00\">firm [1]</text>\n",
       "</g>\n",
       "<!-- exog&#45;&gt;1 -->\n",
       "<g id=\"edge2\" class=\"edge\">\n",
       "<title>exog&#45;&gt;1</title>\n",
       "<path fill=\"none\" stroke=\"black\" d=\"M50.03,-521.97C48.49,-508.23 46.39,-488.39 45,-471 42.91,-445.06 41.28,-415.41 40.24,-394.43\"/>\n",
       "<polygon fill=\"black\" stroke=\"black\" points=\"43.73,-394.13 39.76,-384.31 36.74,-394.47 43.73,-394.13\"/>\n",
       "<text text-anchor=\"middle\" x=\"49.5\" y=\"-449.3\" font-family=\"Times,serif\" font-size=\"14.00\">Z</text>\n",
       "</g>\n",
       "<!-- unknowns -->\n",
       "<g id=\"node2\" class=\"node\">\n",
       "<title>unknowns</title>\n",
       "<polygon fill=\"none\" stroke=\"black\" points=\"260,-384 186,-384 186,-348 260,-348 260,-384\"/>\n",
       "<text text-anchor=\"middle\" x=\"223\" y=\"-362.3\" font-family=\"Times,serif\" font-size=\"14.00\">unknowns</text>\n",
       "</g>\n",
       "<!-- 3 -->\n",
       "<g id=\"node7\" class=\"node\">\n",
       "<title>3</title>\n",
       "<ellipse fill=\"none\" stroke=\"black\" cx=\"116\" cy=\"-279\" rx=\"78.79\" ry=\"18\"/>\n",
       "<text text-anchor=\"middle\" x=\"116\" y=\"-275.3\" font-family=\"Times,serif\" font-size=\"14.00\">household [HA, 3]</text>\n",
       "</g>\n",
       "<!-- unknowns&#45;&gt;3 -->\n",
       "<g id=\"edge4\" class=\"edge\">\n",
       "<title>unknowns&#45;&gt;3</title>\n",
       "<path fill=\"none\" stroke=\"black\" d=\"M188.26,-347.99C179.01,-342.78 169.29,-336.65 161,-330 151.88,-322.69 143.02,-313.46 135.61,-304.92\"/>\n",
       "<polygon fill=\"black\" stroke=\"black\" points=\"138.09,-302.44 128.98,-297.04 132.73,-306.95 138.09,-302.44\"/>\n",
       "<text text-anchor=\"middle\" x=\"185\" y=\"-318.8\" font-family=\"Times,serif\" font-size=\"14.00\">Transfer</text>\n",
       "</g>\n",
       "<!-- 4 -->\n",
       "<g id=\"node8\" class=\"node\">\n",
       "<title>4</title>\n",
       "<ellipse fill=\"none\" stroke=\"black\" cx=\"294\" cy=\"-192\" rx=\"42.79\" ry=\"18\"/>\n",
       "<text text-anchor=\"middle\" x=\"294\" y=\"-188.3\" font-family=\"Times,serif\" font-size=\"14.00\">fiscal [4]</text>\n",
       "</g>\n",
       "<!-- unknowns&#45;&gt;4 -->\n",
       "<g id=\"edge8\" class=\"edge\">\n",
       "<title>unknowns&#45;&gt;4</title>\n",
       "<path fill=\"none\" stroke=\"black\" d=\"M230.06,-347.88C242.54,-317.67 268.52,-254.72 283.23,-219.08\"/>\n",
       "<polygon fill=\"black\" stroke=\"black\" points=\"286.48,-220.38 287.06,-209.8 280.01,-217.71 286.48,-220.38\"/>\n",
       "<text text-anchor=\"middle\" x=\"289\" y=\"-275.3\" font-family=\"Times,serif\" font-size=\"14.00\">Transfer</text>\n",
       "</g>\n",
       "<!-- 5 -->\n",
       "<g id=\"node9\" class=\"node\">\n",
       "<title>5</title>\n",
       "<ellipse fill=\"none\" stroke=\"black\" cx=\"179\" cy=\"-105\" rx=\"71.49\" ry=\"18\"/>\n",
       "<text text-anchor=\"middle\" x=\"179\" y=\"-101.3\" font-family=\"Times,serif\" font-size=\"14.00\">mkt_clearing [5]</text>\n",
       "</g>\n",
       "<!-- unknowns&#45;&gt;5 -->\n",
       "<g id=\"edge11\" class=\"edge\">\n",
       "<title>unknowns&#45;&gt;5</title>\n",
       "<path fill=\"none\" stroke=\"black\" d=\"M223.68,-347.83C224.59,-314 224.6,-236.59 209,-174 205.43,-159.68 199.05,-144.57 193.1,-132.25\"/>\n",
       "<polygon fill=\"black\" stroke=\"black\" points=\"196.09,-130.4 188.47,-123.03 189.83,-133.53 196.09,-130.4\"/>\n",
       "<text text-anchor=\"middle\" x=\"232.5\" y=\"-231.8\" font-family=\"Times,serif\" font-size=\"14.00\">L, B</text>\n",
       "</g>\n",
       "<!-- targets -->\n",
       "<g id=\"node3\" class=\"node\">\n",
       "<title>targets</title>\n",
       "<polygon fill=\"none\" stroke=\"black\" points=\"179,-36 129.23,-18 179,0 228.77,-18 179,-36\"/>\n",
       "<text text-anchor=\"middle\" x=\"179\" y=\"-14.3\" font-family=\"Times,serif\" font-size=\"14.00\">targets</text>\n",
       "</g>\n",
       "<!-- 0&#45;&gt;1 -->\n",
       "<g id=\"edge3\" class=\"edge\">\n",
       "<title>0&#45;&gt;1</title>\n",
       "<path fill=\"none\" stroke=\"black\" d=\"M101.15,-435.61C89.5,-422.75 73.13,-404.68 60.11,-390.31\"/>\n",
       "<polygon fill=\"black\" stroke=\"black\" points=\"62.58,-387.83 53.28,-382.76 57.4,-392.52 62.58,-387.83\"/>\n",
       "<text text-anchor=\"middle\" x=\"88.5\" y=\"-405.8\" font-family=\"Times,serif\" font-size=\"14.00\">w</text>\n",
       "</g>\n",
       "<!-- 0&#45;&gt;3 -->\n",
       "<g id=\"edge6\" class=\"edge\">\n",
       "<title>0&#45;&gt;3</title>\n",
       "<path fill=\"none\" stroke=\"black\" d=\"M116,-434.88C116,-405 116,-343.11 116,-307.27\"/>\n",
       "<polygon fill=\"black\" stroke=\"black\" points=\"119.5,-307.05 116,-297.05 112.5,-307.05 119.5,-307.05\"/>\n",
       "<text text-anchor=\"middle\" x=\"121.5\" y=\"-362.3\" font-family=\"Times,serif\" font-size=\"14.00\">w</text>\n",
       "</g>\n",
       "<!-- 1&#45;&gt;3 -->\n",
       "<g id=\"edge7\" class=\"edge\">\n",
       "<title>1&#45;&gt;3</title>\n",
       "<path fill=\"none\" stroke=\"black\" d=\"M51.48,-348.85C59.38,-338.86 69.97,-325.91 80,-315 83.36,-311.34 87.01,-307.58 90.65,-303.93\"/>\n",
       "<polygon fill=\"black\" stroke=\"black\" points=\"93.33,-306.21 98.02,-296.7 88.43,-301.21 93.33,-306.21\"/>\n",
       "<text text-anchor=\"middle\" x=\"91\" y=\"-318.8\" font-family=\"Times,serif\" font-size=\"14.00\">Div</text>\n",
       "</g>\n",
       "<!-- 1&#45;&gt;5 -->\n",
       "<g id=\"edge15\" class=\"edge\">\n",
       "<title>1&#45;&gt;5</title>\n",
       "<path fill=\"none\" stroke=\"black\" d=\"M32.42,-348.1C25.24,-326.93 16.23,-289.93 28,-261 51.71,-202.68 109.07,-154.3 145.88,-127.83\"/>\n",
       "<polygon fill=\"black\" stroke=\"black\" points=\"148.14,-130.52 154.3,-121.9 144.11,-124.79 148.14,-130.52\"/>\n",
       "<text text-anchor=\"middle\" x=\"49.5\" y=\"-231.8\" font-family=\"Times,serif\" font-size=\"14.00\">L</text>\n",
       "</g>\n",
       "<!-- 2 -->\n",
       "<g id=\"node6\" class=\"node\">\n",
       "<title>2</title>\n",
       "<ellipse fill=\"none\" stroke=\"black\" cx=\"345\" cy=\"-366\" rx=\"57.69\" ry=\"18\"/>\n",
       "<text text-anchor=\"middle\" x=\"345\" y=\"-362.3\" font-family=\"Times,serif\" font-size=\"14.00\">monetary [2]</text>\n",
       "</g>\n",
       "<!-- 2&#45;&gt;3 -->\n",
       "<g id=\"edge5\" class=\"edge\">\n",
       "<title>2&#45;&gt;3</title>\n",
       "<path fill=\"none\" stroke=\"black\" d=\"M310.04,-351.58C283.46,-341.43 245.98,-327.2 213,-315 197.84,-309.4 181.32,-303.4 166.28,-297.97\"/>\n",
       "<polygon fill=\"black\" stroke=\"black\" points=\"167.23,-294.6 156.64,-294.5 164.86,-301.18 167.23,-294.6\"/>\n",
       "<text text-anchor=\"middle\" x=\"254.5\" y=\"-318.8\" font-family=\"Times,serif\" font-size=\"14.00\">r</text>\n",
       "</g>\n",
       "<!-- 2&#45;&gt;4 -->\n",
       "<g id=\"edge9\" class=\"edge\">\n",
       "<title>2&#45;&gt;4</title>\n",
       "<path fill=\"none\" stroke=\"black\" d=\"M341.87,-347.86C337.88,-327.07 330.38,-291.07 321,-261 316.61,-246.94 310.65,-231.66 305.45,-219.15\"/>\n",
       "<polygon fill=\"black\" stroke=\"black\" points=\"308.61,-217.63 301.49,-209.79 302.17,-220.36 308.61,-217.63\"/>\n",
       "<text text-anchor=\"middle\" x=\"332.5\" y=\"-275.3\" font-family=\"Times,serif\" font-size=\"14.00\">r</text>\n",
       "</g>\n",
       "<!-- 3&#45;&gt;4 -->\n",
       "<g id=\"edge10\" class=\"edge\">\n",
       "<title>3&#45;&gt;4</title>\n",
       "<path fill=\"none\" stroke=\"black\" d=\"M137.07,-261.5C151.39,-250.88 171.1,-237.35 190,-228 208.52,-218.83 230.03,-211.15 248.66,-205.34\"/>\n",
       "<polygon fill=\"black\" stroke=\"black\" points=\"249.83,-208.64 258.39,-202.39 247.8,-201.94 249.83,-208.64\"/>\n",
       "<text text-anchor=\"middle\" x=\"195.5\" y=\"-231.8\" font-family=\"Times,serif\" font-size=\"14.00\">A</text>\n",
       "</g>\n",
       "<!-- 3&#45;&gt;5 -->\n",
       "<g id=\"edge14\" class=\"edge\">\n",
       "<title>3&#45;&gt;5</title>\n",
       "<path fill=\"none\" stroke=\"black\" d=\"M122.27,-260.88C133.26,-230.87 156.08,-168.58 169.18,-132.81\"/>\n",
       "<polygon fill=\"black\" stroke=\"black\" points=\"172.6,-133.65 172.75,-123.05 166.03,-131.24 172.6,-133.65\"/>\n",
       "<text text-anchor=\"middle\" x=\"179.5\" y=\"-188.3\" font-family=\"Times,serif\" font-size=\"14.00\">A, NE, C</text>\n",
       "</g>\n",
       "<!-- 4&#45;&gt;5 -->\n",
       "<g id=\"edge16\" class=\"edge\">\n",
       "<title>4&#45;&gt;5</title>\n",
       "<path fill=\"none\" stroke=\"black\" d=\"M277.69,-175.31C266.63,-165.02 251.45,-151.57 237,-141 230.39,-136.17 223.09,-131.37 215.96,-126.96\"/>\n",
       "<polygon fill=\"black\" stroke=\"black\" points=\"217.45,-123.77 207.08,-121.59 213.82,-129.76 217.45,-123.77\"/>\n",
       "<text text-anchor=\"middle\" x=\"259\" y=\"-144.8\" font-family=\"Times,serif\" font-size=\"14.00\">B</text>\n",
       "</g>\n",
       "<!-- 5&#45;&gt;targets -->\n",
       "<g id=\"edge12\" class=\"edge\">\n",
       "<title>5&#45;&gt;targets</title>\n",
       "<path fill=\"none\" stroke=\"black\" d=\"M155.03,-87.93C144.46,-78.7 135.52,-66.48 141,-54 143.85,-47.49 148.58,-41.65 153.76,-36.7\"/>\n",
       "<polygon fill=\"black\" stroke=\"black\" points=\"156.15,-39.25 161.48,-30.1 151.6,-33.93 156.15,-39.25\"/>\n",
       "<text text-anchor=\"middle\" x=\"169\" y=\"-57.8\" font-family=\"Times,serif\" font-size=\"14.00\">asset_mkt</text>\n",
       "</g>\n",
       "<!-- 5&#45;&gt;targets -->\n",
       "<g id=\"edge13\" class=\"edge\">\n",
       "<title>5&#45;&gt;targets</title>\n",
       "<path fill=\"none\" stroke=\"black\" d=\"M189.68,-87.19C192.66,-81.62 195.49,-75.24 197,-69 199.18,-59.98 196.87,-50.32 193.25,-41.93\"/>\n",
       "<polygon fill=\"black\" stroke=\"black\" points=\"196.25,-40.1 188.61,-32.76 190.01,-43.26 196.25,-40.1\"/>\n",
       "<text text-anchor=\"middle\" x=\"226\" y=\"-57.8\" font-family=\"Times,serif\" font-size=\"14.00\">labor_mkt</text>\n",
       "</g>\n",
       "</g>\n",
       "</svg>\n"
      ],
      "text/plain": [
       "<graphviz.graphs.Digraph at 0x11faf4400>"
      ]
     },
     "metadata": {},
     "output_type": "display_data"
    }
   ],
   "source": [
    "from sequence_jacobian import drawdag\n",
    "\n",
    "unknowns = ['B', 'L', 'Transfer']\n",
    "targets = ['asset_mkt', 'labor_mkt']\n",
    "inputs = ['Z','Tstar']\n",
    "\n",
    "drawdag(hank_ss, inputs, unknowns, targets)"
   ]
  },
  {
   "cell_type": "code",
   "execution_count": null,
   "id": "2798aa7e",
   "metadata": {},
   "outputs": [],
   "source": []
  }
 ],
 "metadata": {
  "@webio": {
   "lastCommId": null,
   "lastKernelId": null
  },
  "kernelspec": {
   "display_name": "Python 3 (ipykernel)",
   "language": "python",
   "name": "python3"
  },
  "language_info": {
   "codemirror_mode": {
    "name": "ipython",
    "version": 3
   },
   "file_extension": ".py",
   "mimetype": "text/x-python",
   "name": "python",
   "nbconvert_exporter": "python",
   "pygments_lexer": "ipython3",
   "version": "3.9.7"
  }
 },
 "nbformat": 4,
 "nbformat_minor": 5
}
