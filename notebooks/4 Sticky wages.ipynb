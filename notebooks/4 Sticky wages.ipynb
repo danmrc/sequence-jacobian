{
 "cells": [
  {
   "cell_type": "code",
   "execution_count": 156,
   "metadata": {},
   "outputs": [
    {
     "name": "stdout",
     "output_type": "stream",
     "text": [
      "<HetBlock 'household'>\n",
      "Inputs: ['a_grid', 'z_grid', 'e_grid', 'r', 'T', 'beta', 'gamma', 'v', 'tauc', 'Pi']\n",
      "Macro outputs: ['A', 'C', 'UCE']\n",
      "Micro outputs: ['D', 'Dbeg', 'Pi', 'V_prime', 'a', 'c', 'uce']\n"
     ]
    }
   ],
   "source": [
    "import copy\n",
    "import numpy as np\n",
    "import matplotlib.pyplot as plt\n",
    "import scipy as sp\n",
    "\n",
    "from sequence_jacobian import het, simple, create_model              # functions\n",
    "from sequence_jacobian import interpolate, grids, misc, estimation   # modules\n",
    "\n",
    "def household_guess(a_grid,r,z_grid,gamma,T):\n",
    "    new_z = np.ones((z_grid.shape[0],1))\n",
    "    wel = (1 + r) * a_grid[np.newaxis,:] + new_z + T[:,np.newaxis]\n",
    "    V_prime = (1 + r) * (wel * 0.1) ** (-gamma)\n",
    "    return V_prime\n",
    "\n",
    "@het(exogenous = 'Pi',policy = 'a', backward = 'V_prime', backward_init = household_guess)\n",
    "def household(V_prime_p,a_grid,z_grid,e_grid,r,T,beta,gamma,v,tauc):\n",
    "\n",
    "    c_prime = (beta * V_prime_p) ** (-1/gamma) # c_prime is the new guess for c_t\n",
    "\n",
    "    new_grid = (1 + tauc) * c_prime + a_grid[np.newaxis,:] - z_grid[:,np.newaxis] - T[:,np.newaxis]\n",
    "    wel = (1 + r) * a_grid\n",
    "\n",
    "    c = interpolate.interpolate_y(new_grid,wel,c_prime)\n",
    "\n",
    "    a = wel + z_grid[:,np.newaxis] + T[:,np.newaxis] - (1 + tauc) * c\n",
    "    V_prime = (1 + r) * c ** (-gamma)\n",
    "\n",
    "    # checks for violations of the condition of minimal assets required and fixes it\n",
    "    indexes_asset = np.nonzero(a < a_grid[0]) #first dimension: labor grid, second dimension: asset grid\n",
    "    if indexes_asset[0].size != 0 and indexes_asset[1].size !=0:\n",
    "        \n",
    "        a[indexes_asset] = a_grid[0]\n",
    "        c[indexes_asset] = (wel[indexes_asset[1]] + z_grid[indexes_asset[0]] \n",
    "                            + T[indexes_asset[0]] - a[indexes_asset]) / (1 + tauc)\n",
    "        V_prime[indexes_asset] = (1 + r) * (c[indexes_asset]) ** (-gamma)\n",
    "        \n",
    "    uce = e_grid[:,np.newaxis] * c ** (-gamma)\n",
    "\n",
    "    return V_prime,a,c,uce\n",
    "\n",
    "print(household)\n",
    "print(f'Inputs: {household.inputs}')\n",
    "print(f'Macro outputs: {household.outputs}')\n",
    "print(f'Micro outputs: {household.internals}')"
   ]
  },
  {
   "cell_type": "code",
   "execution_count": 157,
   "metadata": {},
   "outputs": [
    {
     "name": "stdout",
     "output_type": "stream",
     "text": [
      "<HetBlock 'household' with hetinput 'make_grid_transfers'>\n",
      "Inputs: ['r', 'beta', 'gamma', 'v', 'tauc', 'rho_e', 'sd_e', 'nE', 'amin', 'amax', 'nA', 'Div', 'Transfer', 'w', 'N', 'taun']\n",
      "Outputs: ['A', 'C', 'UCE']\n"
     ]
    }
   ],
   "source": [
    "def income(e_grid, w, N, taun):\n",
    "    z_grid = (1 - taun) * w * N * e_grid\n",
    "    return z_grid\n",
    "\n",
    "def make_grid(rho_e, sd_e, nE, amin, amax, nA):\n",
    "    e_grid, pi_e, Pi = grids.markov_rouwenhorst(rho=rho_e, sigma=sd_e, N=nE)\n",
    "    a_grid = grids.agrid(amin=amin, amax=amax, n=nA)\n",
    "    return e_grid, Pi, a_grid, pi_e\n",
    "\n",
    "def transfers(pi_e, Div, Transfer, e_grid):\n",
    "    # hardwired incidence rules are proportional to skill; scale does not matter \n",
    "    tax_rule, div_rule = np.ones(e_grid.size), e_grid #np.ones(e_grid.size)\n",
    "    div = Div / np.sum(pi_e * div_rule) * div_rule\n",
    "    transfer =  (Transfer) / np.sum(pi_e * tax_rule) * tax_rule \n",
    "    T = div + transfer\n",
    "    return T\n",
    "\n",
    "hh_inp = household.add_hetinputs([make_grid,transfers,income])\n",
    "\n",
    "print(hh_inp)\n",
    "print(f'Inputs: {hh_inp.inputs}')\n",
    "print(f'Outputs: {hh_inp.outputs}')"
   ]
  },
  {
   "cell_type": "code",
   "execution_count": 191,
   "metadata": {},
   "outputs": [],
   "source": [
    "@simple\n",
    "def firm(Y, w, Z, pi, mu, kappa):\n",
    "    N = Y / Z\n",
    "    Div = Y - w * N - mu / (mu - 1) / (2 * kappa) * (1 + pi).apply(np.log) ** 2 * Y\n",
    "    return Div, N\n",
    "\n",
    "@simple\n",
    "def monetary(pi, rstar, phi_pi):\n",
    "    r = (1 + rstar(-1) + phi_pi * pi(-1)) / (1 + pi) - 1\n",
    "    return r\n",
    "\n",
    "@simple\n",
    "def fiscal(r, Transfer, B, C, N, tauc, taun, w):\n",
    "    govt_res = Transfer + (1 + r) * B(-1) - tauc * C - taun * w * N - B\n",
    "    deficit = Transfer - tauc * C - taun * w * N # primary deficit\n",
    "    return govt_res, deficit\n",
    "\n",
    "@simple\n",
    "def mkt_clearing(A, C, Y, B, pi, mu, kappa):\n",
    "    asset_mkt = A - B\n",
    "    goods_mkt = Y - C - mu / (mu - 1) / (2 * kappa) * (1 + pi).apply(np.log) ** 2 * Y\n",
    "    return asset_mkt, goods_mkt\n",
    "\n",
    "@simple\n",
    "def nkpc_ss(Z, mu):\n",
    "    w = Z / mu\n",
    "    return w\n",
    "\n",
    "@simple \n",
    "def union_ss(w, N, UCE, kw, v, muw, tauc, taun):\n",
    "    phi = ((1 - taun) * w * N ** (-v) * UCE) / ((1 + tauc) * muw) # our formula\n",
    "    wnkpc = kw * (phi * N ** (1 + v) - (1 - taun) * w * N * UCE / ((1 + tauc) * muw))\n",
    "    return wnkpc, phi\n",
    "\n",
    "@simple \n",
    "def auclert_union_ss(w, N, UCE, kw, v, muw, tauc, taun):\n",
    "    phi = (w * UCE) / (muw * N ** (1 + v)) # our formula\n",
    "    wnkpc = kw * (phi * N ** (1 + v) - w / muw * UCE)\n",
    "    \n",
    "    #vphi = w * UCE / muw / N ** (1 + 1 / v) # their formula\n",
    "    #wnkpc = vphi * N ** (1 + 1 / frisch) - (1 - tax) * w * UCE / muw\n",
    "    return wnkpc, phi"
   ]
  },
  {
   "cell_type": "code",
   "execution_count": 192,
   "metadata": {},
   "outputs": [
    {
     "name": "stdout",
     "output_type": "stream",
     "text": [
      "<Model 'One-Asset HANK SS'>\n",
      "Inputs: ['beta', 'gamma', 'v', 'tauc', 'rho_e', 'sd_e', 'nE', 'amin', 'amax', 'nA', 'Transfer', 'taun', 'Y', 'Z', 'pi', 'mu', 'kappa', 'rstar', 'phi_pi', 'B', 'kw', 'muw']\n"
     ]
    }
   ],
   "source": [
    "blocks_ss = [hh_inp, firm, monetary, fiscal, mkt_clearing, nkpc_ss, union_ss]\n",
    "\n",
    "hank_ss = create_model(blocks_ss, name = \"One-Asset HANK SS\")\n",
    "\n",
    "print(hank_ss)\n",
    "print(f\"Inputs: {hank_ss.inputs}\")"
   ]
  },
  {
   "cell_type": "code",
   "execution_count": 199,
   "metadata": {},
   "outputs": [],
   "source": [
    "calibration = {'gamma': 1.0, 'v': 2.0, 'rho_e': 0.966, 'sd_e': 0.5, 'nE': 7,\n",
    "               'amin': 0, 'amax': 150, 'nA': 500, 'Y': 1.0, 'Z': 1.0, 'pi': 0.0,\n",
    "               'mu': 1.2, 'kappa': 0.1, 'rstar': 0.005, 'phi_pi': 0.0, 'B': 6.0,\n",
    "               'kw': 100.0, 'muw': 1.2, 'N': 1.0, 'tauc': 0.2, 'taun': 0.0}\n",
    "\n",
    "unknowns_ss = {'beta': 0.986, 'Transfer': -0.03}\n",
    "targets_ss = {'asset_mkt': 0, 'govt_res': 0}\n",
    "\n",
    "ss0 = hank_ss.solve_steady_state(calibration, unknowns_ss, targets_ss, solver=\"hybr\")"
   ]
  },
  {
   "cell_type": "code",
   "execution_count": 200,
   "metadata": {},
   "outputs": [
    {
     "name": "stdout",
     "output_type": "stream",
     "text": [
      "PARAMETERS\n",
      "Discount factor:          0.99       Intertemporal elasticity: 1.0\n",
      "Labor supply elasticity:  0.5        Labor disutility:         0.557\n",
      "Goods substitutability:   6.0        Price markup:             1.2\n",
      "Labor substitutability:   6.0        Wage markup:              1.2\n",
      "Price Phillips slope:     0.1       Wage Phillips slope:      1e+02\n",
      "Taylor inflation:         0.0\n",
      "Consumption tax rate:     0.2        Labor tax rate:           0.0\n",
      "\n",
      "STEADY STATE\n",
      "Output:                   1.0        Government debt:          6.0\n",
      "Hours:                    1.0        Transfers:                0.17\n",
      "Consumption:              1.0        Dividends:                0.167\n",
      "Wage:                     0.833      Deficit:                 -0.03\n",
      "Inflation:                0.0        Consumption tax revenue:  0.2\n",
      "Nominal interest rate:    0.005      Labor tax revenue:        0.0\n",
      "Real interest rate:       0.005      Debt servicing cost:      0.03\n",
      "\n",
      "MARKET CLEARING\n",
      "Bond market:              1.1e-09    Goods market (resid):    -6.7e-09\n",
      "Government budget:       -7.1e-15\n"
     ]
    }
   ],
   "source": [
    "# Show steady state\n",
    "eps = ss0['mu'] / (ss0['mu'] - 1)\n",
    "epsw = ss0['muw'] / (ss0['muw'] - 1)\n",
    "print(\"PARAMETERS\")\n",
    "print(f\"Discount factor:         {ss0['beta']: .3}\", f\"      Intertemporal elasticity: {ss0['gamma']}\")\n",
    "print(f\"Labor supply elasticity:  {1 / ss0['v']}\", f\"       Labor disutility:        {ss0['phi']: .3}\")\n",
    "print(f\"Goods substitutability:  {eps : .3}\", f\"       Price markup:            {ss0['mu']: .3}\")\n",
    "print(f\"Labor substitutability:  {epsw : .3}\", f\"       Wage markup:             {ss0['muw']: .3}\")\n",
    "print(f\"Price Phillips slope:    {ss0['kappa']: .3}\", f\"      Wage Phillips slope:     {ss0['kw']: .3}\")\n",
    "print(f\"Taylor inflation:        {ss0['phi_pi']: .3}\")\n",
    "print(f\"Consumption tax rate:    {ss0['tauc']: .3}\", f\"       Labor tax rate:          {ss0['taun']: .3}\")\n",
    "\n",
    "print()\n",
    "print(\"STEADY STATE\")\n",
    "print(f\"Output:                  {ss0['N'] * ss0['Z']: .3}\", f\"       Government debt:         {ss0['A']: .3}\")\n",
    "print(f\"Hours:                   {ss0['N']: .3}\", f\"       Transfers:               {ss0['Transfer']: .3}\")\n",
    "print(f\"Consumption:             {ss0['C']: .3}\", f\"       Dividends:               {ss0['Div']: .3}\")\n",
    "print(f\"Wage:                    {ss0['w']: .3}\", f\"     Deficit:                 {ss0['deficit']: .3}\")\n",
    "print(f\"Inflation:               {ss0['pi']: .3}\", f\"       Consumption tax revenue: {ss0['tauc']*ss0['C']: .3}\")\n",
    "print(f\"Nominal interest rate:   {ss0['r']: .3}\", f\"     Labor tax revenue:       {ss0['taun']*ss0['N']*ss0['w']: .3}\")\n",
    "print(f\"Real interest rate:      {ss0['r']: .3}\" , f\"     Debt servicing cost:     {ss0['r'] * ss0['A']: .3}\") \n",
    "\n",
    "print()\n",
    "print(\"MARKET CLEARING\")\n",
    "print(f\"Bond market:             {ss0['asset_mkt']: 0.1e}\", f\"   Goods market (resid):    {ss0['goods_mkt']: 0.1e}\")\n",
    "print(f\"Government budget:       {ss0['govt_res']: 0.1e}\",)\n"
   ]
  },
  {
   "cell_type": "code",
   "execution_count": 201,
   "metadata": {},
   "outputs": [],
   "source": [
    "@simple\n",
    "def wage(pi, w):\n",
    "    piw = (1 + pi) * w / w(-1) - 1\n",
    "    return piw\n",
    "\n",
    "@simple\n",
    "def union(piw,w,N,UCE,kw,phi,v,muw,beta,tauc,taun):\n",
    "    wnkpc = (kw * (phi * N ** (1+v) - (1 - taun) * w * N * UCE / ((1 + tauc) * muw)) \n",
    "             + beta * (1 + piw(+1)).apply(np.log) - (1 + piw).apply(np.log))\n",
    "    return wnkpc\n",
    "\n",
    "@simple\n",
    "def nkpc(pi, w, Z, Y, r, mu, kappa):\n",
    "    nkpc_res = kappa * (w / Z - 1 / mu) + Y(+1) / Y * (1 + pi(+1)).apply(np.log) / (1 + r(+1))\\\n",
    "               - (1 + pi).apply(np.log)\n",
    "    return nkpc_res\n",
    "\n",
    "blocks = [hh_inp, firm, monetary, fiscal, mkt_clearing, nkpc,wage,union]\n",
    "hank = create_model(blocks, name = \"One-Asset HANK\")"
   ]
  },
  {
   "cell_type": "code",
   "execution_count": 202,
   "metadata": {},
   "outputs": [],
   "source": [
    "ss = hank.steady_state(ss0)\n",
    "\n",
    "for k in ss0.keys():\n",
    "    assert np.all(np.isclose(ss[k], ss0[k]))"
   ]
  },
  {
   "cell_type": "code",
   "execution_count": 203,
   "metadata": {},
   "outputs": [
    {
     "name": "stdout",
     "output_type": "stream",
     "text": [
      "<JacobianDict outputs=['pi', 'w', 'Y', 'B', 'A', 'C', 'UCE', 'Div', 'N', 'r', 'govt_res', 'deficit', 'asset_mkt', 'goods_mkt', 'nkpc_res', 'piw', 'wnkpc'], inputs=['rstar', 'Transfer', 'Z', 'tauc']>\n"
     ]
    }
   ],
   "source": [
    "T = 300\n",
    "exogenous = ['rstar','Transfer', 'Z', 'tauc']\n",
    "unknowns = ['pi', 'w', 'Y', 'B']\n",
    "targets = ['nkpc_res', 'asset_mkt', 'wnkpc', 'govt_res']\n",
    "\n",
    "# general equilibrium jacobians\n",
    "G = hank.solve_jacobian(ss, unknowns, targets, exogenous, T=T)\n",
    "\n",
    "print(G)"
   ]
  },
  {
   "cell_type": "code",
   "execution_count": 217,
   "metadata": {},
   "outputs": [
    {
     "data": {
      "image/png": "[encoded data removed]",
      "text/plain": [
       "<Figure size 1152x504 with 8 Axes>"
      ]
     },
     "metadata": {
      "needs_background": "light"
     },
     "output_type": "display_data"
    }
   ],
   "source": [
    "rhos = 0.9\n",
    "drstar = -0.25 * 0 * rhos ** (np.arange(T)[:, np.newaxis])\n",
    "dtstar = 0.1 * rhos ** (np.arange(T)[:, np.newaxis])\n",
    "dtauc = - 0.1 * rhos ** (np.arange(T)[:, np.newaxis])\n",
    "\n",
    "dY_r = G['Y']['rstar'] @ drstar\n",
    "dC_r = G['C']['rstar'] @ drstar\n",
    "dN_r = G['N']['rstar'] @ drstar\n",
    "dB_r = G['A']['rstar'] @ drstar\n",
    "dw_r = G['w']['rstar'] @ drstar\n",
    "dpi_r = G['pi']['rstar'] @ drstar\n",
    "dr_r = G['r']['rstar'] @ drstar\n",
    "#di = G['i']['rstar'] @ drstar\n",
    "\n",
    "dY_t = G['Y']['Transfer'] @ dtstar\n",
    "dC_t = G['C']['Transfer'] @ dtstar\n",
    "dN_t = G['N']['Transfer'] @ dtstar\n",
    "dB_t = G['A']['Transfer'] @ dtstar\n",
    "dD_t = G['deficit']['Transfer'] @ dtstar\n",
    "dw_t = G['w']['Transfer'] @ dtstar\n",
    "dpi_t = G['pi']['Transfer'] @ dtstar\n",
    "dr_t = G['r']['Transfer'] @ dtstar\n",
    "#dit = G['i']['Transfer'] @ dtstar\n",
    "\n",
    "dY_c = G['Y']['tauc'] @ dtauc\n",
    "dC_c = G['C']['tauc'] @ dtauc\n",
    "dN_c = G['N']['tauc'] @ dtauc\n",
    "dB_c = G['A']['tauc'] @ dtauc\n",
    "dD_c = G['deficit']['tauc'] @ dtauc\n",
    "dw_c = G['w']['tauc'] @ dtauc\n",
    "dpi_c = G['pi']['tauc'] @ dtauc\n",
    "dr_c = G['r']['tauc'] @ dtauc\n",
    "#dic = G['i']['tauc'] @ dtauc\n",
    "\n",
    "plt.rcParams[\"figure.figsize\"] = (16,7)\n",
    "fig, ax = plt.subplots(2, 4)\n",
    "l1, = ax[0, 0].plot(dY_c[:50, :])\n",
    "l2, = ax[0, 0].plot(dY_t[:50, :],'-.')\n",
    "ax[0, 0].set_title(r'Output $Y$')\n",
    "\n",
    "ax[0, 1].plot(dC_c[:50, :])\n",
    "ax[0, 1].plot(dC_t[:50, :],'-.')\n",
    "ax[0, 1].set_title(r'Consumption $C$')\n",
    "\n",
    "ax[0, 2].plot(dB_c[:50, :])\n",
    "ax[0, 2].plot(dB_t[:50, :],'-.')\n",
    "ax[0, 2].set_title(r'Government $B$')\n",
    "\n",
    "ax[0, 3].plot(np.zeros(50))\n",
    "ax[0, 3].plot(dtstar[:50],'-.')\n",
    "ax[0, 3].set_title(r'Transfer $\\tau$')\n",
    "\n",
    "ax[1, 0].plot(dw_c[:50, :])\n",
    "ax[1, 0].plot(dw_t[:50, :],'-.')\n",
    "ax[1, 0].set_title(r'Wage $w$')\n",
    "\n",
    "ax[1, 1].plot(dpi_c[:50, :])\n",
    "ax[1, 1].plot(dpi_t[:50, :],'-.')\n",
    "ax[1, 1].set_title(r'Inflation $\\pi$')\n",
    "\n",
    "ax[1, 2].plot(dr_c[:50, :])\n",
    "ax[1, 2].plot(dr_t[:50, :],'-.')\n",
    "ax[1, 2].set_title(r'Real interest rate $r$')\n",
    "\n",
    "#ax[1, 3].plot(10000 * drstar[:50])\n",
    "#ax[1, 3].plot(10000 * np.zeros(50),'-.')\n",
    "#ax[1, 3].set_title(r'Nominal interest rate $i$')\n",
    "\n",
    "ax[1, 3].plot(dtauc[:50])\n",
    "ax[1, 3].plot(np.zeros(50),'-.')\n",
    "ax[1, 3].set_title(r'Consumption tax $\\tau_c$')\n",
    "\n",
    "#ax.legend((l1, l2), ('MonPol', 'Check'), loc='upper right', shadow=True)\n",
    "plt.show()"
   ]
  },
  {
   "cell_type": "code",
   "execution_count": 213,
   "metadata": {},
   "outputs": [
    {
     "data": {
      "text/plain": [
       "array([-0.00288929])"
      ]
     },
     "execution_count": 213,
     "metadata": {},
     "output_type": "execute_result"
    }
   ],
   "source": [
    "100 * dY_c[0] - 100 * dY_t[0]"
   ]
  },
  {
   "cell_type": "code",
   "execution_count": 227,
   "metadata": {},
   "outputs": [
    {
     "data": {
      "text/plain": [
       "array([[0.],\n",
       "       [0.],\n",
       "       [0.],\n",
       "       [0.],\n",
       "       [0.],\n",
       "       [0.],\n",
       "       [0.],\n",
       "       [0.],\n",
       "       [0.],\n",
       "       [0.]])"
      ]
     },
     "execution_count": 227,
     "metadata": {},
     "output_type": "execute_result"
    }
   ],
   "source": [
    "dtstar[0:10,:] + dtauc[0:10,:]"
   ]
  },
  {
   "cell_type": "code",
   "execution_count": null,
   "metadata": {},
   "outputs": [],
   "source": []
  }
 ],
 "metadata": {
  "kernelspec": {
   "display_name": "Python 3",
   "language": "python",
   "name": "python3"
  },
  "language_info": {
   "codemirror_mode": {
    "name": "ipython",
    "version": 3
   },
   "file_extension": ".py",
   "mimetype": "text/x-python",
   "name": "python",
   "nbconvert_exporter": "python",
   "pygments_lexer": "ipython3",
   "version": "3.7.6"
  }
 },
 "nbformat": 4,
 "nbformat_minor": 5
}
