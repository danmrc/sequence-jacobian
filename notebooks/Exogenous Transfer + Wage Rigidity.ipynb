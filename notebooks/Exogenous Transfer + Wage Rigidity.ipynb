{
 "cells": [
  {
   "cell_type": "code",
   "execution_count": 1,
   "id": "268030b3",
   "metadata": {},
   "outputs": [
    {
     "name": "stdout",
     "output_type": "stream",
     "text": [
      "<HetBlock 'household'>\n",
      "Inputs: ['a_grid', 'z_grid', 'e_grid', 'r', 'T', 'beta', 'gamma', 'v', 'Pi']\n",
      "Macro outputs: ['A', 'C', 'UCE']\n",
      "Micro outputs: ['D', 'Dbeg', 'Pi', 'V_prime', 'a', 'c', 'uce']\n"
     ]
    }
   ],
   "source": [
    "import copy\n",
    "import numpy as np\n",
    "import matplotlib.pyplot as plt\n",
    "import scipy as sp\n",
    "\n",
    "from sequence_jacobian import het, simple, create_model              # functions\n",
    "from sequence_jacobian import interpolate, grids, misc, estimation   # modules\n",
    "\n",
    "def household_guess(a_grid,r,z_grid,gamma,T):\n",
    "    new_z = np.ones((z_grid.shape[0],1))\n",
    "    wel = (1+r)*a_grid[np.newaxis,:] + new_z + T[:,np.newaxis]\n",
    "    V_prime = (1+r)*(wel*0.1)**(-gamma)\n",
    "    return V_prime\n",
    "\n",
    "@het(exogenous = 'Pi',policy = 'a', backward = 'V_prime', backward_init=household_guess)\n",
    "def household(V_prime_p,a_grid,z_grid,e_grid,r,T,beta,gamma,v):\n",
    "\n",
    "    c_prime = (beta*V_prime_p)**(-1/gamma) #c_prime is quite a misnomer, since this is the new guess for c_t\n",
    "\n",
    "    new_grid = (c_prime + a_grid[np.newaxis,:] - z_grid[:,np.newaxis] - T[:,np.newaxis])\n",
    "    wel = (1+r)*a_grid\n",
    "\n",
    "    c = interpolate.interpolate_y(new_grid,wel,c_prime)\n",
    "\n",
    "    a = wel + z_grid[:,np.newaxis] + T[:,np.newaxis] - c\n",
    "    V_prime = (1+r)*c**(-gamma)\n",
    "\n",
    "    # checks for violations of the condition of minimal assets required and fixes it\n",
    "\n",
    "    indexes_asset = np.nonzero(a < a_grid[0]) #first dimension: labor grid, second dimension: asset grid\n",
    "\n",
    "    if indexes_asset[0].size != 0 and indexes_asset[1].size !=0:\n",
    "        \n",
    "        a[indexes_asset] = a_grid[0]\n",
    "        \n",
    "        c[indexes_asset] = wel[indexes_asset[1]] + z_grid[indexes_asset[0]] + T[indexes_asset[0]] - a[indexes_asset]\n",
    "        \n",
    "        V_prime[indexes_asset] = (1+r)*(c[indexes_asset])**(-gamma)\n",
    "        \n",
    "    uce = e_grid[:,np.newaxis]*c**(-gamma)\n",
    "\n",
    "    return V_prime,a,c,uce\n",
    "\n",
    "print(household)\n",
    "print(f'Inputs: {household.inputs}')\n",
    "print(f'Macro outputs: {household.outputs}')\n",
    "print(f'Micro outputs: {household.internals}')"
   ]
  },
  {
   "cell_type": "code",
   "execution_count": 2,
   "id": "b2800082",
   "metadata": {},
   "outputs": [
    {
     "name": "stdout",
     "output_type": "stream",
     "text": [
      "<HetBlock 'household' with hetinput 'make_grid_transfers'>\n",
      "Inputs: ['r', 'beta', 'gamma', 'v', 'rho_e', 'sd_e', 'nE', 'amin', 'amax', 'nA', 'Div', 'Transfer', 'w', 'N']\n",
      "Outputs: ['A', 'C', 'UCE']\n"
     ]
    }
   ],
   "source": [
    "def income(e_grid, w, N):\n",
    "    z_grid = w * N * e_grid\n",
    "    return z_grid\n",
    "\n",
    "def make_grid(rho_e, sd_e, nE, amin, amax, nA):\n",
    "    e_grid, pi_e, Pi = grids.markov_rouwenhorst(rho=rho_e, sigma=sd_e, N=nE)\n",
    "    a_grid = grids.agrid(amin=amin, amax=amax, n=nA)\n",
    "    return e_grid, Pi, a_grid, pi_e\n",
    "\n",
    "def transfers(pi_e, Div, Transfer, e_grid):\n",
    "    # hardwired incidence rules are proportional to skill; scale does not matter \n",
    "    tax_rule, div_rule = np.ones(e_grid.size), e_grid #np.ones(e_grid.size)\n",
    "    div = Div / np.sum(pi_e * div_rule) * div_rule\n",
    "    transfer =  (Transfer) / np.sum(pi_e * tax_rule) * tax_rule \n",
    "    T = div + transfer\n",
    "    return T\n",
    "\n",
    "hh_inp = household.add_hetinputs([make_grid,transfers,income])\n",
    "\n",
    "print(hh_inp)\n",
    "print(f'Inputs: {hh_inp.inputs}')\n",
    "print(f'Outputs: {hh_inp.outputs}')"
   ]
  },
  {
   "cell_type": "code",
   "execution_count": 29,
   "id": "b02aa6ba",
   "metadata": {},
   "outputs": [],
   "source": [
    "@simple\n",
    "def firm(Y, w, Z, pi, mu, kappa):\n",
    "    N = Y/Z\n",
    "    Div = Y - w * N - mu/(mu-1)/(2*kappa) * (1+pi).apply(np.log)**2 * Y\n",
    "    return Div,N\n",
    "\n",
    "\n",
    "@simple\n",
    "def monetary(pi, rstar, phi_pi):\n",
    "    r = (1 + rstar(-1) + phi_pi * pi(-1)) / (1 + pi) - 1\n",
    "    return r\n",
    "\n",
    "\n",
    "@simple\n",
    "def fiscal(r,Transfer,B):\n",
    "    govt_res = (1+r)*B(-1) + Transfer - B\n",
    "    return govt_res\n",
    "\n",
    "@simple\n",
    "def mkt_clearing(A, C, Y, B, pi, mu, kappa):\n",
    "    asset_mkt = A - B\n",
    "    goods_mkt = Y - C - mu/(mu-1)/(2*kappa) * (1+pi).apply(np.log)**2 * Y\n",
    "    return asset_mkt, goods_mkt\n",
    "\n",
    "\n",
    "@simple\n",
    "def nkpc_ss(Z, mu):\n",
    "    w = Z / mu\n",
    "    return w\n",
    "\n",
    "@simple \n",
    "def union_ss(w,N,UCE,kw,v,muw):\n",
    "    phi = (w * N * UCE) / (muw * N ** (1 + v)) # our formula\n",
    "    wnkpc = kw * (phi * N ** (1 + v) - w * N / muw * UCE)\n",
    "    \n",
    "    #vphi = w * UCE / muw / N ** (1 + 1 / v) # their formula\n",
    "    #wnkpc = vphi * N ** (1 + 1 / frisch) - (1 - tax) * w * UCE / muw\n",
    "    return wnkpc, phi\n",
    "\n",
    "@simple \n",
    "def auclert_union_ss(w,N,UCE,kw,v,muw):\n",
    "    phi = (w * UCE) / (muw * N ** (1 + v)) # our formula\n",
    "    wnkpc = kw * (phi * N ** (1 + v) - w / muw * UCE)\n",
    "    \n",
    "    #vphi = w * UCE / muw / N ** (1 + 1 / v) # their formula\n",
    "    #wnkpc = vphi * N ** (1 + 1 / frisch) - (1 - tax) * w * UCE / muw\n",
    "    return wnkpc, phi"
   ]
  },
  {
   "cell_type": "code",
   "execution_count": 30,
   "id": "192e0892",
   "metadata": {},
   "outputs": [
    {
     "name": "stdout",
     "output_type": "stream",
     "text": [
      "<Model 'One-Asset HANK SS'>\n",
      "Inputs: ['beta', 'gamma', 'v', 'rho_e', 'sd_e', 'nE', 'amin', 'amax', 'nA', 'Transfer', 'Y', 'Z', 'pi', 'mu', 'kappa', 'rstar', 'phi_pi', 'B', 'kw', 'muw']\n"
     ]
    }
   ],
   "source": [
    "blocks_ss = [hh_inp, firm, monetary, fiscal, mkt_clearing, nkpc_ss, union_ss]\n",
    "\n",
    "hank_ss = create_model(blocks_ss, name=\"One-Asset HANK SS\")\n",
    "\n",
    "print(hank_ss)\n",
    "print(f\"Inputs: {hank_ss.inputs}\")"
   ]
  },
  {
   "cell_type": "code",
   "execution_count": 31,
   "id": "424e1048",
   "metadata": {},
   "outputs": [],
   "source": [
    "calibration = {'gamma': 1.0, 'v':1.0, 'rho_e': 0.966, 'sd_e': 0.5, 'nE': 7,\n",
    "               'amin': 0, 'amax': 150, 'nA': 500, 'Y': 1.0, 'Z': 1.0, 'pi': 0.0,\n",
    "               'mu': 1.2, 'kappa': 0.1, 'rstar': 0.005, 'phi_pi': 0,'B':5.6,\n",
    "                'kw': 0.1, 'muw': 1.1, 'N': 1.0}\n",
    "\n",
    "unknowns_ss = {'beta': 0.986, 'Transfer': -0.03}\n",
    "targets_ss = {'asset_mkt': 0, 'govt_res': 0}\n",
    "\n",
    "ss0 = hank_ss.solve_steady_state(calibration, unknowns_ss, targets_ss, solver=\"hybr\")"
   ]
  },
  {
   "cell_type": "code",
   "execution_count": 32,
   "id": "67b198b2",
   "metadata": {},
   "outputs": [
    {
     "name": "stdout",
     "output_type": "stream",
     "text": [
      "Asset market clearing:  6.22e-15\n",
      "Govt Budget Constrain:  0.00e+00\n",
      "Goods market clearing (untargeted): -6.67e-09\n"
     ]
    }
   ],
   "source": [
    "print(f\"Asset market clearing: {ss0['asset_mkt']: 0.2e}\")\n",
    "print(f\"Govt Budget Constrain: {ss0['govt_res']: 0.2e}\")\n",
    "print(f\"Goods market clearing (untargeted): {ss0['goods_mkt']: 0.2e}\")"
   ]
  },
  {
   "cell_type": "code",
   "execution_count": 33,
   "id": "14824e2c",
   "metadata": {},
   "outputs": [],
   "source": [
    "@simple\n",
    "def wage(pi, w):\n",
    "    piw = (1 + pi) * w / w(-1) - 1\n",
    "    return piw\n",
    "\n",
    "@simple\n",
    "def union(piw,w,N,UCE,kw,phi,v,muw,beta):\n",
    "    wnkpc = kw*(phi*N**(1+v) - w*N/muw*UCE) + beta*(1 + piw(+1)).apply(np.log) - (1 + piw).apply(np.log)\n",
    "    return wnkpc\n",
    "\n",
    "@simple\n",
    "def nkpc(pi, w, Z, Y, r, mu, kappa):\n",
    "    nkpc_res = kappa * (w / Z - 1 / mu) + Y(+1) / Y * (1 + pi(+1)).apply(np.log) / (1 + r(+1))\\\n",
    "               - (1 + pi).apply(np.log)\n",
    "    return nkpc_res\n",
    "\n",
    "blocks = [hh_inp, firm, monetary, fiscal, mkt_clearing, nkpc,wage,union]\n",
    "hank = create_model(blocks, name=\"One-Asset HANK\")"
   ]
  },
  {
   "cell_type": "code",
   "execution_count": 34,
   "id": "96513236",
   "metadata": {},
   "outputs": [],
   "source": [
    "ss = hank.steady_state(ss0)\n",
    "\n",
    "for k in ss0.keys():\n",
    "    assert np.all(np.isclose(ss[k], ss0[k]))"
   ]
  },
  {
   "cell_type": "code",
   "execution_count": 35,
   "id": "8640db72",
   "metadata": {},
   "outputs": [
    {
     "name": "stdout",
     "output_type": "stream",
     "text": [
      "<JacobianDict outputs=['pi', 'w', 'Y', 'B', 'A', 'C', 'UCE', 'Div', 'N', 'r', 'govt_res', 'asset_mkt', 'goods_mkt', 'nkpc_res', 'piw', 'wnkpc'], inputs=['rstar', 'Transfer', 'Z']>\n"
     ]
    }
   ],
   "source": [
    "T = 300\n",
    "exogenous = ['rstar','Transfer', 'Z']\n",
    "unknowns = ['pi', 'w', 'Y', 'B']\n",
    "targets = ['nkpc_res', 'asset_mkt', 'wnkpc', 'govt_res']\n",
    "\n",
    "# general equilibrium jacobians\n",
    "G = hank.solve_jacobian(ss, unknowns, targets, exogenous, T=T)\n",
    "\n",
    "print(G)"
   ]
  },
  {
   "cell_type": "code",
   "execution_count": 36,
   "id": "30eeaf6b",
   "metadata": {},
   "outputs": [
    {
     "data": {
      "image/png": "[encoded data removed]",
      "text/plain": [
       "<Figure size 1152x504 with 8 Axes>"
      ]
     },
     "metadata": {
      "needs_background": "light"
     },
     "output_type": "display_data"
    }
   ],
   "source": [
    "rhos = 0.9\n",
    "drstar = -0.0025 * 0 * rhos ** (np.arange(T)[:, np.newaxis])\n",
    "dtstar = 0.00095 * rhos ** (np.arange(T)[:, np.newaxis])\n",
    "\n",
    "dY = G['Y']['rstar'] @ drstar\n",
    "dC = G['C']['rstar'] @ drstar\n",
    "dN = G['N']['rstar'] @ drstar\n",
    "dB = G['A']['rstar'] @ drstar\n",
    "dw = G['w']['rstar'] @ drstar\n",
    "dpi = G['pi']['rstar'] @ drstar\n",
    "dr = G['r']['rstar'] @ drstar\n",
    "#di = G['i']['rstar'] @ drstar\n",
    "\n",
    "dYt = G['Y']['Transfer'] @ dtstar\n",
    "dCt = G['C']['Transfer'] @ dtstar\n",
    "dNt = G['N']['Transfer'] @ dtstar\n",
    "dBt = G['A']['Transfer'] @ dtstar\n",
    "dwt = G['w']['Transfer'] @ dtstar\n",
    "dpit = G['pi']['Transfer'] @ dtstar\n",
    "drt = G['r']['Transfer'] @ dtstar\n",
    "#dit = G['i']['Transfer'] @ drstar\n",
    "\n",
    "plt.rcParams[\"figure.figsize\"] = (16,7)\n",
    "fig, ax = plt.subplots(2, 4)\n",
    "l1, = ax[0, 0].plot(100 * dY[:500, :])\n",
    "l2, = ax[0, 0].plot(100 * dYt[:500, :])\n",
    "ax[0, 0].set_title(r'Output $Y$')\n",
    "\n",
    "ax[0, 1].plot(100 * dC[:50, :])\n",
    "ax[0, 1].plot(100 * dCt[:50, :])\n",
    "ax[0, 1].set_title(r'Consumption $C$')\n",
    "\n",
    "ax[0, 2].plot(100 * dB[:50, :])\n",
    "ax[0, 2].plot(100 * dBt[:50, :])\n",
    "ax[0, 2].set_title(r'Government debt $B$')\n",
    "\n",
    "ax[0, 3].plot(10000 * np.zeros(50))\n",
    "ax[0, 3].plot(10000 * dtstar[:50])\n",
    "ax[0, 3].set_title(r'Transfers $\\tau$')\n",
    "\n",
    "ax[1, 0].plot(10000 * dw[:50, :])\n",
    "ax[1, 0].plot(10000 * dwt[:50, :])\n",
    "ax[1, 0].set_title(r'Wage $w$')\n",
    "\n",
    "ax[1, 1].plot(10000 * dpi[:50, :])\n",
    "ax[1, 1].plot(10000 * dpit[:50, :])\n",
    "ax[1, 1].set_title(r'Inflation $\\pi$')\n",
    "\n",
    "ax[1, 2].plot(10000 * dr[:50, :])\n",
    "ax[1, 2].plot(10000 * drt[:50, :])\n",
    "ax[1, 2].set_title(r'Real interest rate $r$')\n",
    "\n",
    "#ax[1, 3].plot(10000 * di[:50])\n",
    "#ax[1, 3].plot(10000 * np.zeros(50))\n",
    "#ax[1, 3].plot(10000 * dit[:50, :])\n",
    "#ax[1, 3].set_title(r'Nominal interest rate $i$')\n",
    "\n",
    "#ax.legend((l1, l2), ('MonPol', 'Check'), loc='upper right', shadow=True)\n",
    "plt.show()"
   ]
  },
  {
   "cell_type": "code",
   "execution_count": null,
   "id": "fe00bb17",
   "metadata": {},
   "outputs": [],
   "source": []
  }
 ],
 "metadata": {
  "kernelspec": {
   "display_name": "Python 3 (ipykernel)",
   "language": "python",
   "name": "python3"
  },
  "language_info": {
   "codemirror_mode": {
    "name": "ipython",
    "version": 3
   },
   "file_extension": ".py",
   "mimetype": "text/x-python",
   "name": "python",
   "nbconvert_exporter": "python",
   "pygments_lexer": "ipython3",
   "version": "3.10.4"
  }
 },
 "nbformat": 4,
 "nbformat_minor": 5
}
