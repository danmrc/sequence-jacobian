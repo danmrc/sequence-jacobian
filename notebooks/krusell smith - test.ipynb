{
 "cells": [
  {
   "cell_type": "code",
   "execution_count": null,
   "id": "fbf547f1",
   "metadata": {},
   "outputs": [],
   "source": [
    "import copy\n",
    "import numpy as np\n",
    "import matplotlib.pyplot as plt\n",
    "\n",
    "from sequence_jacobian import het, simple, create_model              # functions\n",
    "from sequence_jacobian import interpolate, grids, misc, estimation   # modules\n",
    "\n",
    "def household_guess(a_grid,e_grid,r,w,gamma):\n",
    "    wel = (1+r)*a_grid[np.newaxis,:] + w*e_grid[:,np.newaxis]\n",
    "    V_prime = (1+r)*(wel/2)**(-gamma)\n",
    "    return V_prime\n",
    "\n",
    "# Important: V_prime MUST be named v_prime_p in the argument of the function! Otherwise, raises error\n",
    "\n",
    "@het(exogenous = 'Pi',policy = 'a', backward = 'V_prime', backward_init=household_guess)\n",
    "def household(V_prime_p,a_grid,e_grid,r,w,beta,gamma):\n",
    "    c_prime = (beta*V_prime_p)**(-1/gamma)\n",
    "    new_grid = c_prime + a_grid\n",
    "    wel = (1+r)*a_grid[np.newaxis,:] + w*e_grid[:,np.newaxis]\n",
    "\n",
    "    a = interpolate.interpolate_y(new_grid,wel,a_grid)\n",
    "    misc.setmin(a,a_grid[0])\n",
    "    c = wel - a\n",
    "    V_prime= (1+r)*c**(-gamma)\n",
    "\n",
    "    return V_prime,a,c\n",
    "\n",
    "print(household)\n",
    "print(f'Inputs: {household.inputs}')\n",
    "print(f'Macro outputs: {household.outputs}')\n",
    "print(f'Micro outputs: {household.internals}')"
   ]
  },
  {
   "cell_type": "code",
   "execution_count": 22,
   "id": "19a15a89",
   "metadata": {},
   "outputs": [
    {
     "name": "stdout",
     "output_type": "stream",
     "text": [
      "<HetBlock 'household'>\n",
      "Inputs: ['a_grid', 'e_grid', 'r', 'w', 'beta', 'gamma', 'backward_init', 'Pi']\n",
      "Macro outputs: ['A', 'C']\n",
      "Micro outputs: ['D', 'Dbeg', 'Pi', 'V_prime', 'a', 'c']\n"
     ]
    }
   ],
   "source": [
    "def make_grid(rho_e, sd_e, nE, amin, amax, nA):\n",
    "    e_grid, _, Pi = grids.markov_rouwenhorst(rho=rho_e, sigma=sd_e, N=nE)\n",
    "    a_grid = grids.agrid(amin=amin, amax=amax, n=nA)\n",
    "    return e_grid, Pi, a_grid\n",
    "\n",
    "\n",
    "household_ext = household.add_hetinputs([make_grid])\n",
    "\n",
    "print(household_ext)\n",
    "print(f'Inputs: {household_ext.inputs}')"
   ]
  },
  {
   "cell_type": "code",
   "execution_count": 23,
   "id": "8b373837",
   "metadata": {},
   "outputs": [
    {
     "name": "stdout",
     "output_type": "stream",
     "text": [
      "<HetBlock 'household' with hetinput 'make_grid'>\n",
      "Inputs: ['r', 'w', 'beta', 'gamma', 'backward_init', 'rho_e', 'sd_e', 'nE', 'amin', 'amax', 'nA']\n"
     ]
    }
   ],
   "source": [
    "@simple\n",
    "def firm(K, L, Z, alpha, delta):\n",
    "    r = alpha * Z * (K(-1) / L) ** (alpha-1) - delta\n",
    "    w = (1 - alpha) * Z * (K(-1) / L) ** alpha\n",
    "    Y = Z * K(-1) ** alpha * L ** (1 - alpha)\n",
    "    return r, w, Y\n",
    "\n",
    "\n",
    "@simple\n",
    "def mkt_clearing(K, A, Y, C, delta):\n",
    "    asset_mkt = A - K\n",
    "    goods_mkt = Y - C - delta * K\n",
    "    return asset_mkt, goods_mkt\n",
    "\n",
    "ks = create_model([household_ext, firm, mkt_clearing], name=\"Krusell-Smith\")\n",
    "print(ks.inputs)"
   ]
  },
  {
   "cell_type": "code",
   "execution_count": 24,
   "id": "cc96512d",
   "metadata": {},
   "outputs": [
    {
     "name": "stdout",
     "output_type": "stream",
     "text": [
      "['beta', 'gamma', 'backward_init', 'rho_e', 'sd_e', 'nE', 'amin', 'amax', 'nA', 'K', 'L', 'Z', 'alpha', 'delta']\n"
     ]
    }
   ],
   "source": [
    "\n",
    "calibration = {'eis': 1, 'delta': 0.025, 'alpha': 0.11, 'rho_e': 0.966, 'sd_e': 0.5, 'L': 1.0,\n",
    "               'nE': 7, 'nA': 500, 'amin': 0, 'amax': 200}\n",
    "unknowns_ss = {'beta': 0.98, 'Z': 0.85, 'K': 3.}\n",
    "targets_ss = {'r': 0.01, 'Y': 1., 'asset_mkt': 0.}\n",
    "\n",
    "ss = ks.solve_steady_state(calibration, unknowns_ss, targets_ss, solver='hybr')\n",
    "\n",
    "print(ss)"
   ]
  },
  {
   "cell_type": "code",
   "execution_count": 25,
   "id": "d4fa3725",
   "metadata": {},
   "outputs": [
    {
     "ename": "KeyError",
     "evalue": "'backward_init'",
     "output_type": "error",
     "traceback": [
      "\u001b[0;31m---------------------------------------------------------------------------\u001b[0m",
      "\u001b[0;31mKeyError\u001b[0m                                  Traceback (most recent call last)",
      "Input \u001b[0;32mIn [25]\u001b[0m, in \u001b[0;36m<cell line: 6>\u001b[0;34m()\u001b[0m\n\u001b[1;32m      3\u001b[0m unknowns_ss \u001b[38;5;241m=\u001b[39m {\u001b[38;5;124m'\u001b[39m\u001b[38;5;124mbeta\u001b[39m\u001b[38;5;124m'\u001b[39m: \u001b[38;5;241m0.98\u001b[39m, \u001b[38;5;124m'\u001b[39m\u001b[38;5;124mZ\u001b[39m\u001b[38;5;124m'\u001b[39m: \u001b[38;5;241m0.85\u001b[39m, \u001b[38;5;124m'\u001b[39m\u001b[38;5;124mK\u001b[39m\u001b[38;5;124m'\u001b[39m: \u001b[38;5;241m3.\u001b[39m}\n\u001b[1;32m      4\u001b[0m targets_ss \u001b[38;5;241m=\u001b[39m {\u001b[38;5;124m'\u001b[39m\u001b[38;5;124mr\u001b[39m\u001b[38;5;124m'\u001b[39m: \u001b[38;5;241m0.01\u001b[39m, \u001b[38;5;124m'\u001b[39m\u001b[38;5;124mY\u001b[39m\u001b[38;5;124m'\u001b[39m: \u001b[38;5;241m1.\u001b[39m, \u001b[38;5;124m'\u001b[39m\u001b[38;5;124masset_mkt\u001b[39m\u001b[38;5;124m'\u001b[39m: \u001b[38;5;241m0.\u001b[39m}\n\u001b[0;32m----> 6\u001b[0m ss \u001b[38;5;241m=\u001b[39m \u001b[43mks\u001b[49m\u001b[38;5;241;43m.\u001b[39;49m\u001b[43msolve_steady_state\u001b[49m\u001b[43m(\u001b[49m\u001b[43mcalibration\u001b[49m\u001b[43m,\u001b[49m\u001b[43m \u001b[49m\u001b[43munknowns_ss\u001b[49m\u001b[43m,\u001b[49m\u001b[43m \u001b[49m\u001b[43mtargets_ss\u001b[49m\u001b[43m,\u001b[49m\u001b[43m \u001b[49m\u001b[43msolver\u001b[49m\u001b[38;5;241;43m=\u001b[39;49m\u001b[38;5;124;43m'\u001b[39;49m\u001b[38;5;124;43mhybr\u001b[39;49m\u001b[38;5;124;43m'\u001b[39;49m\u001b[43m)\u001b[49m\n\u001b[1;32m      8\u001b[0m \u001b[38;5;28mprint\u001b[39m(ss)\n",
      "File \u001b[0;32m~/.local/lib/python3.10/site-packages/sequence_jacobian/blocks/block.py:159\u001b[0m, in \u001b[0;36mBlock.solve_steady_state\u001b[0;34m(self, calibration, unknowns, targets, dissolve, options, **kwargs)\u001b[0m\n\u001b[1;32m    156\u001b[0m     ss\u001b[38;5;241m.\u001b[39mupdate(\u001b[38;5;28mself\u001b[39m\u001b[38;5;241m.\u001b[39msteady_state(ss, dissolve\u001b[38;5;241m=\u001b[39mdissolve, options\u001b[38;5;241m=\u001b[39moptions, \u001b[38;5;241m*\u001b[39m\u001b[38;5;241m*\u001b[39mkwargs))\n\u001b[1;32m    157\u001b[0m     \u001b[38;5;28;01mreturn\u001b[39;00m compute_target_values(targets, ss)\n\u001b[0;32m--> 159\u001b[0m _ \u001b[38;5;241m=\u001b[39m \u001b[43msolve_for_unknowns\u001b[49m\u001b[43m(\u001b[49m\u001b[43mresidual\u001b[49m\u001b[43m,\u001b[49m\u001b[43m \u001b[49m\u001b[43munknowns\u001b[49m\u001b[43m,\u001b[49m\u001b[43m \u001b[49m\u001b[43msolver\u001b[49m\u001b[43m,\u001b[49m\u001b[43m \u001b[49m\u001b[43mopts\u001b[49m\u001b[43m[\u001b[49m\u001b[38;5;124;43m'\u001b[39;49m\u001b[38;5;124;43msolver_kwargs\u001b[39;49m\u001b[38;5;124;43m'\u001b[39;49m\u001b[43m]\u001b[49m\u001b[43m,\u001b[49m\n\u001b[1;32m    160\u001b[0m \u001b[43m                       \u001b[49m\u001b[43mtol\u001b[49m\u001b[38;5;241;43m=\u001b[39;49m\u001b[43mopts\u001b[49m\u001b[43m[\u001b[49m\u001b[38;5;124;43m'\u001b[39;49m\u001b[38;5;124;43mttol\u001b[39;49m\u001b[38;5;124;43m'\u001b[39;49m\u001b[43m]\u001b[49m\u001b[43m,\u001b[49m\u001b[43m \u001b[49m\u001b[43mverbose\u001b[49m\u001b[38;5;241;43m=\u001b[39;49m\u001b[43mopts\u001b[49m\u001b[43m[\u001b[49m\u001b[38;5;124;43m'\u001b[39;49m\u001b[38;5;124;43mverbose\u001b[39;49m\u001b[38;5;124;43m'\u001b[39;49m\u001b[43m]\u001b[49m\u001b[43m,\u001b[49m\n\u001b[1;32m    161\u001b[0m \u001b[43m                       \u001b[49m\u001b[43mconstrained_method\u001b[49m\u001b[38;5;241;43m=\u001b[39;49m\u001b[43mopts\u001b[49m\u001b[43m[\u001b[49m\u001b[38;5;124;43m'\u001b[39;49m\u001b[38;5;124;43mconstrained_method\u001b[39;49m\u001b[38;5;124;43m'\u001b[39;49m\u001b[43m]\u001b[49m\u001b[43m,\u001b[49m\n\u001b[1;32m    162\u001b[0m \u001b[43m                       \u001b[49m\u001b[43mconstrained_kwargs\u001b[49m\u001b[38;5;241;43m=\u001b[39;49m\u001b[43mopts\u001b[49m\u001b[43m[\u001b[49m\u001b[38;5;124;43m'\u001b[39;49m\u001b[38;5;124;43mconstrained_kwargs\u001b[39;49m\u001b[38;5;124;43m'\u001b[39;49m\u001b[43m]\u001b[49m\u001b[43m)\u001b[49m\n\u001b[1;32m    164\u001b[0m \u001b[38;5;28;01mreturn\u001b[39;00m ss\n",
      "File \u001b[0;32m~/.local/lib/python3.10/site-packages/sequence_jacobian/blocks/support/steady_state.py:185\u001b[0m, in \u001b[0;36msolve_for_unknowns\u001b[0;34m(residual, unknowns, solver, solver_kwargs, residual_kwargs, constrained_method, constrained_kwargs, tol, verbose)\u001b[0m\n\u001b[1;32m    183\u001b[0m \u001b[38;5;66;03m# If no bounds were provided\u001b[39;00m\n\u001b[1;32m    184\u001b[0m \u001b[38;5;28;01mif\u001b[39;00m \u001b[38;5;129;01mnot\u001b[39;00m bounds:\n\u001b[0;32m--> 185\u001b[0m     result \u001b[38;5;241m=\u001b[39m \u001b[43mopt\u001b[49m\u001b[38;5;241;43m.\u001b[39;49m\u001b[43mroot\u001b[49m\u001b[43m(\u001b[49m\u001b[43mresidual_f\u001b[49m\u001b[43m,\u001b[49m\u001b[43m \u001b[49m\u001b[43minitial_values\u001b[49m\u001b[43m,\u001b[49m\n\u001b[1;32m    186\u001b[0m \u001b[43m                      \u001b[49m\u001b[43mmethod\u001b[49m\u001b[38;5;241;43m=\u001b[39;49m\u001b[43msolver\u001b[49m\u001b[43m,\u001b[49m\u001b[43m \u001b[49m\u001b[43mtol\u001b[49m\u001b[38;5;241;43m=\u001b[39;49m\u001b[43mtol\u001b[49m\u001b[43m,\u001b[49m\u001b[43m \u001b[49m\u001b[38;5;241;43m*\u001b[39;49m\u001b[38;5;241;43m*\u001b[39;49m\u001b[43msolver_kwargs\u001b[49m\u001b[43m)\u001b[49m\n\u001b[1;32m    187\u001b[0m \u001b[38;5;28;01melse\u001b[39;00m:\n\u001b[1;32m    188\u001b[0m     constrained_residual \u001b[38;5;241m=\u001b[39m constrained_multivariate_residual(residual_f, bounds, verbose\u001b[38;5;241m=\u001b[39mverbose,\n\u001b[1;32m    189\u001b[0m                                                              method\u001b[38;5;241m=\u001b[39mconstrained_method,\n\u001b[1;32m    190\u001b[0m                                                              \u001b[38;5;241m*\u001b[39m\u001b[38;5;241m*\u001b[39mconstrained_kwargs)\n",
      "File \u001b[0;32m~/.local/lib/python3.10/site-packages/scipy/optimize/_root.py:234\u001b[0m, in \u001b[0;36mroot\u001b[0;34m(fun, x0, args, method, jac, tol, callback, options)\u001b[0m\n\u001b[1;32m    231\u001b[0m         options\u001b[38;5;241m.\u001b[39msetdefault(\u001b[38;5;124m'\u001b[39m\u001b[38;5;124mfatol\u001b[39m\u001b[38;5;124m'\u001b[39m, np\u001b[38;5;241m.\u001b[39minf)\n\u001b[1;32m    233\u001b[0m \u001b[38;5;28;01mif\u001b[39;00m meth \u001b[38;5;241m==\u001b[39m \u001b[38;5;124m'\u001b[39m\u001b[38;5;124mhybr\u001b[39m\u001b[38;5;124m'\u001b[39m:\n\u001b[0;32m--> 234\u001b[0m     sol \u001b[38;5;241m=\u001b[39m \u001b[43m_root_hybr\u001b[49m\u001b[43m(\u001b[49m\u001b[43mfun\u001b[49m\u001b[43m,\u001b[49m\u001b[43m \u001b[49m\u001b[43mx0\u001b[49m\u001b[43m,\u001b[49m\u001b[43m \u001b[49m\u001b[43margs\u001b[49m\u001b[38;5;241;43m=\u001b[39;49m\u001b[43margs\u001b[49m\u001b[43m,\u001b[49m\u001b[43m \u001b[49m\u001b[43mjac\u001b[49m\u001b[38;5;241;43m=\u001b[39;49m\u001b[43mjac\u001b[49m\u001b[43m,\u001b[49m\u001b[43m \u001b[49m\u001b[38;5;241;43m*\u001b[39;49m\u001b[38;5;241;43m*\u001b[39;49m\u001b[43moptions\u001b[49m\u001b[43m)\u001b[49m\n\u001b[1;32m    235\u001b[0m \u001b[38;5;28;01melif\u001b[39;00m meth \u001b[38;5;241m==\u001b[39m \u001b[38;5;124m'\u001b[39m\u001b[38;5;124mlm\u001b[39m\u001b[38;5;124m'\u001b[39m:\n\u001b[1;32m    236\u001b[0m     sol \u001b[38;5;241m=\u001b[39m _root_leastsq(fun, x0, args\u001b[38;5;241m=\u001b[39margs, jac\u001b[38;5;241m=\u001b[39mjac, \u001b[38;5;241m*\u001b[39m\u001b[38;5;241m*\u001b[39moptions)\n",
      "File \u001b[0;32m~/.local/lib/python3.10/site-packages/scipy/optimize/_minpack_py.py:226\u001b[0m, in \u001b[0;36m_root_hybr\u001b[0;34m(func, x0, args, jac, col_deriv, xtol, maxfev, band, eps, factor, diag, **unknown_options)\u001b[0m\n\u001b[1;32m    224\u001b[0m \u001b[38;5;28;01mif\u001b[39;00m \u001b[38;5;129;01mnot\u001b[39;00m \u001b[38;5;28misinstance\u001b[39m(args, \u001b[38;5;28mtuple\u001b[39m):\n\u001b[1;32m    225\u001b[0m     args \u001b[38;5;241m=\u001b[39m (args,)\n\u001b[0;32m--> 226\u001b[0m shape, dtype \u001b[38;5;241m=\u001b[39m \u001b[43m_check_func\u001b[49m\u001b[43m(\u001b[49m\u001b[38;5;124;43m'\u001b[39;49m\u001b[38;5;124;43mfsolve\u001b[39;49m\u001b[38;5;124;43m'\u001b[39;49m\u001b[43m,\u001b[49m\u001b[43m \u001b[49m\u001b[38;5;124;43m'\u001b[39;49m\u001b[38;5;124;43mfunc\u001b[39;49m\u001b[38;5;124;43m'\u001b[39;49m\u001b[43m,\u001b[49m\u001b[43m \u001b[49m\u001b[43mfunc\u001b[49m\u001b[43m,\u001b[49m\u001b[43m \u001b[49m\u001b[43mx0\u001b[49m\u001b[43m,\u001b[49m\u001b[43m \u001b[49m\u001b[43margs\u001b[49m\u001b[43m,\u001b[49m\u001b[43m \u001b[49m\u001b[43mn\u001b[49m\u001b[43m,\u001b[49m\u001b[43m \u001b[49m\u001b[43m(\u001b[49m\u001b[43mn\u001b[49m\u001b[43m,\u001b[49m\u001b[43m)\u001b[49m\u001b[43m)\u001b[49m\n\u001b[1;32m    227\u001b[0m \u001b[38;5;28;01mif\u001b[39;00m epsfcn \u001b[38;5;129;01mis\u001b[39;00m \u001b[38;5;28;01mNone\u001b[39;00m:\n\u001b[1;32m    228\u001b[0m     epsfcn \u001b[38;5;241m=\u001b[39m finfo(dtype)\u001b[38;5;241m.\u001b[39meps\n",
      "File \u001b[0;32m~/.local/lib/python3.10/site-packages/scipy/optimize/_minpack_py.py:24\u001b[0m, in \u001b[0;36m_check_func\u001b[0;34m(checker, argname, thefunc, x0, args, numinputs, output_shape)\u001b[0m\n\u001b[1;32m     22\u001b[0m \u001b[38;5;28;01mdef\u001b[39;00m \u001b[38;5;21m_check_func\u001b[39m(checker, argname, thefunc, x0, args, numinputs,\n\u001b[1;32m     23\u001b[0m                 output_shape\u001b[38;5;241m=\u001b[39m\u001b[38;5;28;01mNone\u001b[39;00m):\n\u001b[0;32m---> 24\u001b[0m     res \u001b[38;5;241m=\u001b[39m atleast_1d(\u001b[43mthefunc\u001b[49m\u001b[43m(\u001b[49m\u001b[38;5;241;43m*\u001b[39;49m\u001b[43m(\u001b[49m\u001b[43m(\u001b[49m\u001b[43mx0\u001b[49m\u001b[43m[\u001b[49m\u001b[43m:\u001b[49m\u001b[43mnuminputs\u001b[49m\u001b[43m]\u001b[49m\u001b[43m,\u001b[49m\u001b[43m)\u001b[49m\u001b[43m \u001b[49m\u001b[38;5;241;43m+\u001b[39;49m\u001b[43m \u001b[49m\u001b[43margs\u001b[49m\u001b[43m)\u001b[49m\u001b[43m)\u001b[49m)\n\u001b[1;32m     25\u001b[0m     \u001b[38;5;28;01mif\u001b[39;00m (output_shape \u001b[38;5;129;01mis\u001b[39;00m \u001b[38;5;129;01mnot\u001b[39;00m \u001b[38;5;28;01mNone\u001b[39;00m) \u001b[38;5;129;01mand\u001b[39;00m (shape(res) \u001b[38;5;241m!=\u001b[39m output_shape):\n\u001b[1;32m     26\u001b[0m         \u001b[38;5;28;01mif\u001b[39;00m (output_shape[\u001b[38;5;241m0\u001b[39m] \u001b[38;5;241m!=\u001b[39m \u001b[38;5;241m1\u001b[39m):\n",
      "File \u001b[0;32m~/.local/lib/python3.10/site-packages/sequence_jacobian/blocks/block.py:156\u001b[0m, in \u001b[0;36mBlock.solve_steady_state.<locals>.residual\u001b[0;34m(unknown_values, unknowns_keys, targets)\u001b[0m\n\u001b[1;32m    154\u001b[0m \u001b[38;5;28;01mdef\u001b[39;00m \u001b[38;5;21mresidual\u001b[39m(unknown_values, unknowns_keys\u001b[38;5;241m=\u001b[39munknowns\u001b[38;5;241m.\u001b[39mkeys(), targets\u001b[38;5;241m=\u001b[39mtargets):\n\u001b[1;32m    155\u001b[0m     ss\u001b[38;5;241m.\u001b[39mupdate(misc\u001b[38;5;241m.\u001b[39msmart_zip(unknowns_keys, unknown_values))\n\u001b[0;32m--> 156\u001b[0m     ss\u001b[38;5;241m.\u001b[39mupdate(\u001b[38;5;28;43mself\u001b[39;49m\u001b[38;5;241;43m.\u001b[39;49m\u001b[43msteady_state\u001b[49m\u001b[43m(\u001b[49m\u001b[43mss\u001b[49m\u001b[43m,\u001b[49m\u001b[43m \u001b[49m\u001b[43mdissolve\u001b[49m\u001b[38;5;241;43m=\u001b[39;49m\u001b[43mdissolve\u001b[49m\u001b[43m,\u001b[49m\u001b[43m \u001b[49m\u001b[43moptions\u001b[49m\u001b[38;5;241;43m=\u001b[39;49m\u001b[43moptions\u001b[49m\u001b[43m,\u001b[49m\u001b[43m \u001b[49m\u001b[38;5;241;43m*\u001b[39;49m\u001b[38;5;241;43m*\u001b[39;49m\u001b[43mkwargs\u001b[49m\u001b[43m)\u001b[49m)\n\u001b[1;32m    157\u001b[0m     \u001b[38;5;28;01mreturn\u001b[39;00m compute_target_values(targets, ss)\n",
      "File \u001b[0;32m~/.local/lib/python3.10/site-packages/sequence_jacobian/blocks/block.py:44\u001b[0m, in \u001b[0;36mBlock.steady_state\u001b[0;34m(self, calibration, dissolve, options, **kwargs)\u001b[0m\n\u001b[1;32m     41\u001b[0m     \u001b[38;5;28;01mfor\u001b[39;00m k \u001b[38;5;129;01min\u001b[39;00m dissolve:\n\u001b[1;32m     42\u001b[0m         inputs \u001b[38;5;241m|\u001b[39m\u001b[38;5;241m=\u001b[39m \u001b[38;5;28mself\u001b[39m\u001b[38;5;241m.\u001b[39mget_attribute(k, \u001b[38;5;124m'\u001b[39m\u001b[38;5;124munknowns\u001b[39m\u001b[38;5;124m'\u001b[39m)\u001b[38;5;241m.\u001b[39mkeys()\n\u001b[0;32m---> 44\u001b[0m calibration \u001b[38;5;241m=\u001b[39m \u001b[43mSteadyStateDict\u001b[49m\u001b[43m(\u001b[49m\u001b[43mcalibration\u001b[49m\u001b[43m)\u001b[49m\u001b[43m[\u001b[49m\u001b[43minputs\u001b[49m\u001b[43m]\u001b[49m\n\u001b[1;32m     45\u001b[0m own_options \u001b[38;5;241m=\u001b[39m \u001b[38;5;28mself\u001b[39m\u001b[38;5;241m.\u001b[39mget_options(options, kwargs, \u001b[38;5;124m'\u001b[39m\u001b[38;5;124msteady_state\u001b[39m\u001b[38;5;124m'\u001b[39m)\n\u001b[1;32m     46\u001b[0m \u001b[38;5;28;01mif\u001b[39;00m \u001b[38;5;28misinstance\u001b[39m(\u001b[38;5;28mself\u001b[39m, Parent):\n",
      "File \u001b[0;32m~/.local/lib/python3.10/site-packages/sequence_jacobian/classes/result_dict.py:32\u001b[0m, in \u001b[0;36mResultDict.__getitem__\u001b[0;34m(self, k, **kwargs)\u001b[0m\n\u001b[1;32m     30\u001b[0m \u001b[38;5;28;01melse\u001b[39;00m:\n\u001b[1;32m     31\u001b[0m     \u001b[38;5;28;01mtry\u001b[39;00m:\n\u001b[0;32m---> 32\u001b[0m         \u001b[38;5;28;01mreturn\u001b[39;00m \u001b[38;5;28mtype\u001b[39m(\u001b[38;5;28mself\u001b[39m)({ki: \u001b[38;5;28mself\u001b[39m\u001b[38;5;241m.\u001b[39mtoplevel[ki] \u001b[38;5;28;01mfor\u001b[39;00m ki \u001b[38;5;129;01min\u001b[39;00m k}, \u001b[38;5;241m*\u001b[39m\u001b[38;5;241m*\u001b[39mkwargs)\n\u001b[1;32m     33\u001b[0m     \u001b[38;5;28;01mexcept\u001b[39;00m \u001b[38;5;167;01mTypeError\u001b[39;00m:\n\u001b[1;32m     34\u001b[0m         \u001b[38;5;28;01mraise\u001b[39;00m \u001b[38;5;167;01mTypeError\u001b[39;00m(\u001b[38;5;124mf\u001b[39m\u001b[38;5;124m'\u001b[39m\u001b[38;5;124mKey \u001b[39m\u001b[38;5;132;01m{\u001b[39;00mk\u001b[38;5;132;01m}\u001b[39;00m\u001b[38;5;124m to \u001b[39m\u001b[38;5;132;01m{\u001b[39;00m\u001b[38;5;28mtype\u001b[39m(\u001b[38;5;28mself\u001b[39m)\u001b[38;5;241m.\u001b[39m\u001b[38;5;18m__name__\u001b[39m\u001b[38;5;132;01m}\u001b[39;00m\u001b[38;5;124m needs to be a string or an iterable (list, set, etc) of strings\u001b[39m\u001b[38;5;124m'\u001b[39m)\n",
      "File \u001b[0;32m~/.local/lib/python3.10/site-packages/sequence_jacobian/classes/result_dict.py:32\u001b[0m, in \u001b[0;36m<dictcomp>\u001b[0;34m(.0)\u001b[0m\n\u001b[1;32m     30\u001b[0m \u001b[38;5;28;01melse\u001b[39;00m:\n\u001b[1;32m     31\u001b[0m     \u001b[38;5;28;01mtry\u001b[39;00m:\n\u001b[0;32m---> 32\u001b[0m         \u001b[38;5;28;01mreturn\u001b[39;00m \u001b[38;5;28mtype\u001b[39m(\u001b[38;5;28mself\u001b[39m)({ki: \u001b[38;5;28;43mself\u001b[39;49m\u001b[38;5;241;43m.\u001b[39;49m\u001b[43mtoplevel\u001b[49m\u001b[43m[\u001b[49m\u001b[43mki\u001b[49m\u001b[43m]\u001b[49m \u001b[38;5;28;01mfor\u001b[39;00m ki \u001b[38;5;129;01min\u001b[39;00m k}, \u001b[38;5;241m*\u001b[39m\u001b[38;5;241m*\u001b[39mkwargs)\n\u001b[1;32m     33\u001b[0m     \u001b[38;5;28;01mexcept\u001b[39;00m \u001b[38;5;167;01mTypeError\u001b[39;00m:\n\u001b[1;32m     34\u001b[0m         \u001b[38;5;28;01mraise\u001b[39;00m \u001b[38;5;167;01mTypeError\u001b[39;00m(\u001b[38;5;124mf\u001b[39m\u001b[38;5;124m'\u001b[39m\u001b[38;5;124mKey \u001b[39m\u001b[38;5;132;01m{\u001b[39;00mk\u001b[38;5;132;01m}\u001b[39;00m\u001b[38;5;124m to \u001b[39m\u001b[38;5;132;01m{\u001b[39;00m\u001b[38;5;28mtype\u001b[39m(\u001b[38;5;28mself\u001b[39m)\u001b[38;5;241m.\u001b[39m\u001b[38;5;18m__name__\u001b[39m\u001b[38;5;132;01m}\u001b[39;00m\u001b[38;5;124m needs to be a string or an iterable (list, set, etc) of strings\u001b[39m\u001b[38;5;124m'\u001b[39m)\n",
      "\u001b[0;31mKeyError\u001b[0m: 'backward_init'"
     ]
    }
   ],
   "source": [
    "calibration = {'gamma': 1, 'delta': 0.025, 'alpha': 0.11, 'rho_e': 0.966, 'sd_e': 0.5, 'L': 1.0,\n",
    "               'nE': 7, 'nA': 500, 'amin': 0, 'amax': 200}\n",
    "unknowns_ss = {'beta': 0.98, 'Z': 0.85, 'K': 3.}\n",
    "targets_ss = {'r': 0.01, 'Y': 1., 'asset_mkt': 0.}\n",
    "\n",
    "ss = ks.solve_steady_state(calibration, unknowns_ss, targets_ss, solver='hybr')\n",
    "print(ss)"
   ]
  },
  {
   "cell_type": "code",
   "execution_count": 21,
   "id": "1dae7359",
   "metadata": {},
   "outputs": [
    {
     "data": {
      "text/plain": [
       "array([[7.95303782, 7.60829878, 7.28454141, 6.97999921, 6.69309795,\n",
       "        6.42243021, 6.16673386, 5.92487375, 5.69582613, 5.47866532,\n",
       "        5.2725522 , 5.07672434, 4.89048744, 4.71320784, 4.54430607,\n",
       "        4.38325116, 4.22955566, 4.08277127, 3.942485  , 3.80831572,\n",
       "        3.67991117, 3.55694529, 3.43911576, 3.32614197, 3.217763  ,\n",
       "        3.11373602, 3.01383466, 2.9178477 , 2.82557779, 2.73684033,\n",
       "        2.65146249, 2.56928222, 2.49014749, 2.41391547, 2.3404519 ,\n",
       "        2.26963039, 2.20133192, 2.13544426, 2.07186151, 2.01048366,\n",
       "        1.95121621, 1.89396972, 1.83865958, 1.78520561, 1.7335318 ,\n",
       "        1.68356605, 1.63523992, 1.58848837, 1.54324961, 1.49946485,\n",
       "        1.45707815, 1.41603623, 1.37628832, 1.33778602, 1.30048318,\n",
       "        1.26433573, 1.22930159, 1.19534057, 1.16241425, 1.13048589,\n",
       "        1.09952032, 1.0694839 , 1.04034441, 1.01207096, 0.98463397,\n",
       "        0.95800507, 0.93215703, 0.90706374, 0.88270012, 0.8590421 ,\n",
       "        0.83606655, 0.81375122, 0.79207475, 0.77101658, 0.75055693,\n",
       "        0.73067677, 0.71135779, 0.69258234, 0.67433343, 0.65659469,\n",
       "        0.63935032, 0.62258513, 0.60628444, 0.59043409, 0.57502044,\n",
       "        0.5600303 , 0.54545094, 0.5312701 , 0.5174759 , 0.50405689,\n",
       "        0.49100198, 0.47830048, 0.46594203, 0.45391665, 0.44221464,\n",
       "        0.43082666, 0.41974365, 0.40895685, 0.39845778, 0.38823823],\n",
       "       [2.76602342, 2.72311022, 2.68047129, 2.63811722, 2.59605827,\n",
       "        2.55430437, 2.51286514, 2.47174982, 2.43096734, 2.39052628,\n",
       "        2.35043483, 2.31070086, 2.27133187, 2.23233498, 2.19371696,\n",
       "        2.15548421, 2.11764278, 2.08019832, 2.04315616, 2.00652122,\n",
       "        1.97029811, 1.93449104, 1.89910389, 1.86414018, 1.8296031 ,\n",
       "        1.79549549, 1.76181983, 1.72857832, 1.6957728 , 1.6634048 ,\n",
       "        1.63147555, 1.59998596, 1.56893666, 1.53832798, 1.50815997,\n",
       "        1.47843242, 1.44914483, 1.42029647, 1.39188635, 1.36391323,\n",
       "        1.33637565, 1.30927194, 1.28260019, 1.25635829, 1.23054395,\n",
       "        1.20515467, 1.18018779, 1.15564046, 1.13150967, 1.10779227,\n",
       "        1.08448495, 1.06158426, 1.03908663, 1.01698836, 0.99528564,\n",
       "        0.97397454, 0.95305104, 0.93251102, 0.9123503 , 0.89256458,\n",
       "        0.87314951, 0.85410068, 0.83541361, 0.81708376, 0.79910657,\n",
       "        0.7814774 , 0.7641916 , 0.74724449, 0.73063135, 0.71434745,\n",
       "        0.69838803, 0.68274834, 0.6674236 , 0.65240905, 0.63769992,\n",
       "        0.62329143, 0.60917884, 0.59535739, 0.58182237, 0.56856906,\n",
       "        0.55559276, 0.54288882, 0.5304526 , 0.5182795 , 0.50636492,\n",
       "        0.49470434, 0.48329324, 0.47212716, 0.46120167, 0.45051239,\n",
       "        0.44005497, 0.42982511, 0.41981855, 0.41003111, 0.4004586 ,\n",
       "        0.39109694, 0.38194205, 0.37298994, 0.36423663, 0.35567825],\n",
       "       [0.75108895, 0.7478886 , 0.7446354 , 0.74132908, 0.73796939,\n",
       "        0.7345561 , 0.73108901, 0.72756795, 0.72399277, 0.72036336,\n",
       "        0.71667964, 0.71294156, 0.70914909, 0.70530226, 0.70140112,\n",
       "        0.69744575, 0.69343628, 0.68937287, 0.68525572, 0.68108506,\n",
       "        0.67686119, 0.67258441, 0.6682551 , 0.66387365, 0.65944051,\n",
       "        0.65495618, 0.65042118, 0.64583609, 0.64120155, 0.63651821,\n",
       "        0.63178679, 0.62700804, 0.62218278, 0.61731184, 0.61239611,\n",
       "        0.60743655, 0.60243412, 0.59738986, 0.59230483, 0.58718015,\n",
       "        0.58201696, 0.57681648, 0.57157993, 0.5663086 , 0.5610038 ,\n",
       "        0.55566687, 0.55029923, 0.54490228, 0.5394775 , 0.53402637,\n",
       "        0.52855042, 0.5230512 , 0.51753029, 0.5119893 , 0.50642987,\n",
       "        0.50085364, 0.49526229, 0.48965751, 0.48404102, 0.47841453,\n",
       "        0.47277979, 0.46713854, 0.46149254, 0.45584355, 0.45019333,\n",
       "        0.44454364, 0.43889626, 0.43325295, 0.42761546, 0.42198555,\n",
       "        0.41636495, 0.4107554 , 0.40515861, 0.39957628, 0.39401009,\n",
       "        0.38846171, 0.38293277, 0.3774249 , 0.37193968, 0.36647868,\n",
       "        0.36104344, 0.35563545, 0.3502562 , 0.34490712, 0.33958962,\n",
       "        0.33430507, 0.32905479, 0.32384009, 0.31866221, 0.31352236,\n",
       "        0.30842172, 0.30336142, 0.29834254, 0.29336613, 0.28843319,\n",
       "        0.28354466, 0.27870147, 0.27390447, 0.26915449, 0.2644523 ]])"
      ]
     },
     "execution_count": 21,
     "metadata": {},
     "output_type": "execute_result"
    }
   ],
   "source": [
    "e_grid, Pi, a_grid = make_grid(0.9,1,3,0.1,5,100)\n",
    "household_guess(a_grid,e_grid,0.01,1,1)"
   ]
  },
  {
   "cell_type": "code",
   "execution_count": null,
   "id": "46429149",
   "metadata": {},
   "outputs": [],
   "source": []
  },
  {
   "cell_type": "code",
   "execution_count": null,
   "id": "16f06e85",
   "metadata": {},
   "outputs": [],
   "source": []
  }
 ],
 "metadata": {
  "kernelspec": {
   "display_name": "Python 3 (ipykernel)",
   "language": "python",
   "name": "python3"
  },
  "language_info": {
   "codemirror_mode": {
    "name": "ipython",
    "version": 3
   },
   "file_extension": ".py",
   "mimetype": "text/x-python",
   "name": "python",
   "nbconvert_exporter": "python",
   "pygments_lexer": "ipython3",
   "version": "3.10.4"
  }
 },
 "nbformat": 4,
 "nbformat_minor": 5
}
