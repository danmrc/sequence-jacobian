{
 "cells": [
  {
   "cell_type": "markdown",
   "metadata": {},
   "source": [
    "# Tutorial 3: A one-asset HANK model\n",
    "\n",
    "In this notebook we solve the one-asset HANK model from Auclert, Bardóczy, Rognlie, Straub (2021): \"Using the Sequence-Space Jacobian to Solve and Estimate Heterogeneous-Agent Models\" ([link to paper](https://www.bencebardoczy.com/publication/sequence-jacobian/sequence-jacobian.pdf)).\n",
    "\n",
    "New concepts:\n",
    "- **Hetinputs and hetoutputs**: adapt off-the-shelf HA blocks to new macro models.\n",
    "- **Calibration DAG**: exploit analytical part of internal calibration \n",
    "\n",
    "For more examples and information on the SSJ toolkit, please visit our [GitHub page](https://github.com/shade-econ/sequence-jacobian)."
   ]
  },
  {
   "cell_type": "code",
   "execution_count": 2,
   "metadata": {},
   "outputs": [],
   "source": [
    "import numpy as np\n",
    "import matplotlib.pyplot as plt\n",
    "\n",
    "from sequence_jacobian import simple, create_model  # functions\n",
    "from sequence_jacobian import hetblocks, grids      # modules"
   ]
  },
  {
   "cell_type": "markdown",
   "metadata": {},
   "source": [
    "## 1 Model description\n",
    "\n",
    "The model is a HA version of the textbook New Keynesian model. Technology is linear in labor, prices are sticky á la Rotemberg, and monetary policy follows a Taylor rule. The model can be summarized in sequence form as\n",
    "\n",
    "$$\n",
    "\\textbf{F}_t(\\textbf{X}, Z) \\equiv \n",
    "\\begin{pmatrix}\n",
    "Y_t - Z_t L_t\n",
    "\\\\\n",
    "Y_t \\left[1 - \\frac{\\mu}{\\mu-1}\\frac{1}{2\\kappa} \\log(1 + \\pi_t)^2\\right] - w_t L_t - d_t\n",
    "\\\\\n",
    "r_t B - \\tau_t\n",
    "\\\\\n",
    "r^*_t + \\phi \\pi_t - i_t\n",
    "\\\\\n",
    "1 + r_t - \\frac{1+i_{t-1}}{1+\\pi_t}\n",
    "\\\\\n",
    "\\kappa \\left(\\frac{w_t}{Z_t} - \\frac{1}{\\mu} \\right)  + \\frac{1}{1+r_{t+1}} \\frac{Y_{t+1}}{Y_t} \\log(1+\\pi_{t+1}) - \\log(1+\\pi_t)\n",
    "\\\\\n",
    "\\mathcal{A}_t(\\{r_s, w_s, \\tau_s, d_s\\})  - B\n",
    "\\\\\n",
    "\\mathcal{N}_t(\\{r_s, w_s, \\tau_s, d_s\\}) - L_t\n",
    "\\end{pmatrix}\n",
    "= \\begin{pmatrix} 0 \\\\ 0 \\\\ 0 \\\\ 0 \\\\ 0 \\\\ 0 \\\\ 0 \\\\ 0\\end{pmatrix},\n",
    "\\qquad t = 0, 1, \\dots\n",
    "$$\n",
    "\n",
    "where the endogenous variables are $\\textbf{X} = (Y, L, r, w, d, \\pi, \\tau, i)$ and the exogenous variables are $\\textbf{Z}=(r^*, Z)$. \n",
    "\n",
    "The asset demand and labor supply functions $\\{\\mathcal{A}, \\mathcal{L}\\}$ follow from the household block with Bellman equation\n",
    "\n",
    "$$\n",
    "\\begin{align} \\tag{HH}\n",
    "V_t(e, a_{-}) = \\max_{c, n, a} &\\left\\{\\frac{c^{1-\\sigma}}{1-\\sigma} - \\varphi \\frac{n^{1+\\nu}}{1+\\nu} + \\beta \\mathbb{E}_t\\left[V_{t+1}(e', a)|e \\right] \\right\\}\n",
    "\\\\\n",
    "c + a &= (1 + r_t)a_{-} + w_t e n - \\tau_t \\bar{\\tau}(e) + d_t \\bar{d}(e)\n",
    "\\\\\n",
    "a &\\geq 0\n",
    "\\end{align}\n",
    "$$\n",
    "\n",
    "where $\\bar\\tau(e)$ and $\\bar d(e)$ are skill-specific incidence rules for taxes and dividends. \n",
    "\n",
    "We can think of the model as a directed acyclical graph (DAG) with **3 endogenous inputs** and write it as an implicit function\n",
    "\n",
    "$$\n",
    "H(\\pi, Y, w; \\epsilon, Z) = 0.\n",
    "$$"
   ]
  },
  {
   "cell_type": "markdown",
   "metadata": {},
   "source": [
    "## 2 Embed HA block\n",
    "\n",
    "As we have seen in the Krusell-Smith notebook, the main task in setting up HA blocks is to write a backward iteration function that represents the Bellman equation. This has to be a single step of an iterative solution method such as value function iteration. For the standard income fluctuation problem with endogenous labor supply we're dealing with here, the endogenous gridpoint method of [Carroll (2006)](https://www.sciencedirect.com/science/article/pii/S0165176505003368) is the best practice.\n",
    "\n",
    "Solving the endogenous-labor problem via EGM is standard but somewhat tedious and so the details are left to ``sequence_jacobian/hetblocks/hh_labor.py``. Instead we will focus on how to adapt this off-the-shelf HetBlock to our specific macro enviroment."
   ]
  },
  {
   "cell_type": "code",
   "execution_count": 3,
   "metadata": {},
   "outputs": [
    {
     "name": "stdout",
     "output_type": "stream",
     "text": [
      "<HetBlock 'hh'>\n",
      "Inputs: ['a_grid', 'we', 'T', 'r', 'beta', 'eis', 'frisch', 'vphi', 'Pi']\n",
      "Macro outputs: ['A', 'C', 'N']\n",
      "Micro outputs: ['D', 'Dbeg', 'Pi', 'Va', 'a', 'c', 'n']\n"
     ]
    }
   ],
   "source": [
    "hh = hetblocks.hh_labor.hh\n",
    "\n",
    "print(hh)\n",
    "print(f'Inputs: {hh.inputs}')\n",
    "print(f'Macro outputs: {hh.outputs}')\n",
    "print(f'Micro outputs: {hh.internals}')"
   ]
  },
  {
   "cell_type": "markdown",
   "metadata": {},
   "source": [
    "The HetBlock `hh` corresponds to the general problem:\n",
    "\n",
    "$$\n",
    "\\begin{align} \\tag{HH-general}\n",
    "V_t(e, a_{-}) = \\max_{c, n, a} &\\left\\{\\frac{c^{1-\\sigma}}{1-\\sigma} - \\varphi \\frac{n^{1+\\nu}}{1+\\nu} + \\beta \\mathbb{E}_t\\left[V_{t+1}(e', a)|e\\right] \\right\\}\n",
    "\\\\\n",
    "c + a &= (1 + r_t)a_{-} + w_t(e) n + T_t(e)\n",
    "\\\\\n",
    "a &\\geq 0\n",
    "\\end{align}\n",
    "$$\n",
    "\n",
    "That is, households take as given the sequence of interest rates $r_t$, and skill-specific wages $w_t(e)$ and  transfers $T_t(e).$ In the context of this particular HANK model, transfers equal dividends minus taxes. But it's easy to imagine many other cases. Rather than writing a specific backward iteration function for each of them, we can just supply a function that specifies how the $\\{w_t(e), T_t(e)\\}$ are determined in this particular case. We refer such functions as **hetinput**. \n",
    "\n",
    "In addition, we need to report effective labor supply $ne = n\\cdot e$ to resolve labor market clearing. We can do so by attaching a **hetoutput** function to the core HetBlock. "
   ]
  },
  {
   "cell_type": "markdown",
   "metadata": {},
   "source": [
    "### 2.1 Hetinputs\n",
    "\n",
    "Let's start with the hetinputs. These functions will be evaluated before the core HetBlock (i.e. the backward iteration)."
   ]
  },
  {
   "cell_type": "code",
   "execution_count": 4,
   "metadata": {},
   "outputs": [],
   "source": [
    "def make_grid(rho_e, sd_e, nE, amin, amax, nA):\n",
    "    e_grid, pi_e, Pi = grids.markov_rouwenhorst(rho=rho_e, sigma=sd_e, N=nE)\n",
    "    a_grid = grids.agrid(amin=amin, amax=amax, n=nA)\n",
    "    return e_grid, pi_e, Pi, a_grid\n",
    "\n",
    "\n",
    "def transfers(pi_e, Div, Tax, e_grid):\n",
    "    # hardwired incidence rules are proportional to skill; scale does not matter \n",
    "    tax_rule, div_rule = e_grid, e_grid\n",
    "    div = Div / np.sum(pi_e * div_rule) * div_rule\n",
    "    tax = Tax / np.sum(pi_e * tax_rule) * tax_rule\n",
    "    T = div - tax\n",
    "    return T\n",
    "\n",
    "def wages(w, e_grid):\n",
    "    we = w * e_grid\n",
    "    return we"
   ]
  },
  {
   "cell_type": "markdown",
   "metadata": {},
   "source": [
    "- The second hetinput `transfers` takes inputs (`e_grid` and `pi_e`) that are produced by the first hetinput `make_grid`. Such *acylic* dependence between hetinputs is allowed. The block processes the inputs and outputs of the hetinput functions and puts them in a correct order of evaluation.\n",
    "- Scalar-valued inputs of hetinputs may be time-varying. For example, aggregate dividends and taxes (`Div` and `Tax`) are determined endogenously in the HANK model and passed on to Bellman equation through the hetinput `transfers`. Thus, we can compute Jacobians with respect to them."
   ]
  },
  {
   "cell_type": "markdown",
   "metadata": {},
   "source": [
    "Let's attach these hetinputs to the household block using (the aptly-named) ``HetBlock.add_hetinput`` method.\n"
   ]
  },
  {
   "cell_type": "code",
   "execution_count": 5,
   "metadata": {},
   "outputs": [
    {
     "name": "stdout",
     "output_type": "stream",
     "text": [
      "<HetBlock 'hh' with hetinput 'make_grid_transfers'>\n",
      "Inputs: ['r', 'beta', 'eis', 'frisch', 'vphi', 'rho_e', 'sd_e', 'nE', 'amin', 'amax', 'nA', 'Div', 'Tax', 'w']\n"
     ]
    }
   ],
   "source": [
    "hh1 = hh.add_hetinputs([make_grid, transfers, wages])\n",
    "\n",
    "print(hh1)\n",
    "print(f'Inputs: {hh1.inputs}')"
   ]
  },
  {
   "cell_type": "markdown",
   "metadata": {},
   "source": [
    "Note that `hh1` has only scalar-valued inputs."
   ]
  },
  {
   "cell_type": "markdown",
   "metadata": {},
   "source": [
    "### 2.2 Hetoutputs\n",
    "\n",
    "Hetoutput functions are analogous to hetinputs. They are called after the backward iteration has converged. Thus, they may take multidimensional outputs of the backward iteration function as well as of the hetinputs as inputs."
   ]
  },
  {
   "cell_type": "code",
   "execution_count": 6,
   "metadata": {},
   "outputs": [],
   "source": [
    "def labor_supply(n, e_grid):\n",
    "    ne = e_grid[:, np.newaxis] * n\n",
    "    return ne"
   ]
  },
  {
   "cell_type": "markdown",
   "metadata": {},
   "source": [
    "Let's attach this hetoutput to the household block using ``HetBlock.add_hetoutput`` method."
   ]
  },
  {
   "cell_type": "code",
   "execution_count": 7,
   "metadata": {},
   "outputs": [
    {
     "name": "stdout",
     "output_type": "stream",
     "text": [
      "<HetBlock 'hh' with hetinput 'make_grid_transfers' and with hetoutput `labor_supply'>\n",
      "Outputs: ['A', 'C', 'N', 'NE']\n"
     ]
    }
   ],
   "source": [
    "hh_ext = hh1.add_hetoutputs([labor_supply])\n",
    "\n",
    "print(hh_ext)\n",
    "print(f'Outputs: {hh_ext.outputs}')"
   ]
  },
  {
   "cell_type": "markdown",
   "metadata": {},
   "source": [
    "- The signature of HetBlock `hh_ext` now references both hetinputs and hetoutputs.\n",
    "- Aggregate outputs now include effective labor supply `NE`. "
   ]
  },
  {
   "cell_type": "markdown",
   "metadata": {},
   "source": [
    "### 2.3 Taking stock\n",
    "\n",
    "The SSJ toolkit comes with 3 generic HetBlocks, located in `sequence_jacobian/hetblocks`.\n",
    "- `hh_sim`: standard incomplete markets model\n",
    "- `hh_labor`: standard incomplete markets model with frictionless labor supply\n",
    "- `hh_twoasset`: two-asset model with convex portfolio adjustment cost\n",
    "\n",
    "By using hetinputs and hetoutputs, these core blocks may be embedded in different macro environments. This is the simplest way of using the SSJ toolkit, which may suffice for many applications.\n",
    "\n",
    "If you wish to solve a model that's not just a variation on these off-the-shelf HetBlocks, there's two cases to consider. \n",
    "1. The model fits into the HetBlock paradigm. E.g., standard incomplete markets models with additional choices such as search intensity. All you need to do is write a new backward iteration function. Use it to instantiate a new HetBlock and get all the HetBlock methods for free. \n",
    "2. The model does not fit the HetBlock paradigm. E.g., models in which discrete endogenous states. In this case, we recommend that you \"bring your own Jacobian\". That is, solve the Jacobian of your block outside the SSJ toolkit. Once you turn them into an instance of `JacobianDict` (like we did in section 4 of the Krusell-Smith notebook), you can include them in models in lieu of an actual block. This is sufficient for using linear solution methods (`impulse_linear`, `jacobian` and their `solved_` versions) at the macro model level.  \n",
    "\n"
   ]
  },
  {
   "cell_type": "markdown",
   "metadata": {},
   "source": [
    "## 3 Calibrating the steady state\n",
    "Similarly to the RBC example, we calibrate the discount factor $\\beta$ and disutility of labor $\\varphi$ to hit a target for the interest rate and effective labor $L=1.$ Additionally we calibrate the wage $w$ such that the Phillips curve relation is satisfied in steady state for zero inflation $\\pi=0$.\n",
    "\n",
    "Note that the mapping from $\\beta$ to asset market clearing given $r$ and that from $\\varphi$ to average effective labor supply involve the household block. As such, we must rely on numerical root-finding. In contrast, the $w$ is easy to characterize analytically from the ss-version of NKPC:\n",
    "$$\n",
    "w = \\frac{Z}{\\mu} \\tag{ss wage}\n",
    "$$\n",
    "This situation is very common in HA-DSGE models. Although using a numerical root-finder on every unknown jointly is likely to succeed in simple models, exploiting analytical solutions becomes crucial in more complicated models.\n",
    "\n",
    "The simplest way of doing so is to work with two DAGs: one for calibration and one for transition dynamics. Typically, the two DAGs share some, but not all of their blocks. Furthermore, they may have different unknowns and targets. "
   ]
  },
  {
   "cell_type": "markdown",
   "metadata": {},
   "source": [
    "### 3.1 Blocks for SS-DAG\n",
    "\n",
    "We already implemented the household block. Let's define the rest as simple blocks."
   ]
  },
  {
   "cell_type": "code",
   "execution_count": 8,
   "metadata": {},
   "outputs": [],
   "source": [
    "@simple\n",
    "def firm(Y, w, Z, pi, mu, kappa):\n",
    "    L = Y / Z\n",
    "    Div = Y - w * L - mu/(mu-1)/(2*kappa) * (1+pi).apply(np.log)**2 * Y\n",
    "    return L, Div\n",
    "\n",
    "\n",
    "@simple\n",
    "def monetary(pi, rstar, phi):\n",
    "    r = (1 + rstar(-1) + phi * pi(-1)) / (1 + pi) - 1\n",
    "    return r\n",
    "\n",
    "\n",
    "@simple\n",
    "def fiscal(r, B):\n",
    "    Tax = r * B\n",
    "    return Tax\n",
    "\n",
    "\n",
    "@simple\n",
    "def mkt_clearing(A, NE, C, L, Y, B, pi, mu, kappa):\n",
    "    asset_mkt = A - B\n",
    "    labor_mkt = NE - L\n",
    "    goods_mkt = Y - C - mu/(mu-1)/(2*kappa) * (1+pi).apply(np.log)**2 * Y\n",
    "    return asset_mkt, labor_mkt, goods_mkt\n",
    "\n",
    "\n",
    "@simple\n",
    "def nkpc_ss(Z, mu):\n",
    "    w = Z / mu\n",
    "    return w"
   ]
  },
  {
   "cell_type": "markdown",
   "metadata": {},
   "source": [
    "- These blocks---with the exception of `nkpc_ss`--- are valid in transition as well as in steady state. \n",
    "- Notice that we wrap `np.log()` in an `.apply()` inside simple blocks. This is necessary for functions whose name includes a dot. The reason is that it would interfere with some internal processing that simple blocks do to handle leads, lags, and references to steady state.  "
   ]
  },
  {
   "cell_type": "code",
   "execution_count": 10,
   "metadata": {
    "scrolled": true
   },
   "outputs": [
    {
     "name": "stdout",
     "output_type": "stream",
     "text": [
      "<Model 'One-Asset HANK SS'>\n",
      "Inputs: ['beta', 'eis', 'frisch', 'vphi', 'rho_e', 'sd_e', 'nE', 'amin', 'amax', 'nA', 'Y', 'Z', 'pi', 'mu', 'kappa', 'rstar', 'phi', 'B']\n"
     ]
    }
   ],
   "source": [
    "blocks_ss = [hh_ext, firm, monetary, fiscal, mkt_clearing, nkpc_ss]\n",
    "\n",
    "hank_ss = create_model(blocks_ss, name=\"One-Asset HANK SS\")\n",
    "\n",
    "print(hank_ss)\n",
    "print(f\"Inputs: {hank_ss.inputs}\")"
   ]
  },
  {
   "cell_type": "markdown",
   "metadata": {},
   "source": [
    "Print inputs so we don't have to remember everything."
   ]
  },
  {
   "cell_type": "code",
   "execution_count": 17,
   "metadata": {},
   "outputs": [],
   "source": [
    "calibration = {'eis': 1, 'frisch': 1, 'rho_e': 0.966, 'sd_e': 0.5, 'nE': 7,\n",
    "               'amin': 0.0, 'amax': 150, 'nA': 500, 'Y': 1.0, 'Z': 1.0, 'pi': 0.0,\n",
    "               'mu': 1.2, 'kappa': 0.1, 'rstar': 0.005, 'phi': 1.5, 'B': 5.6}\n",
    "\n",
    "unknowns_ss = {'beta': 0.986, 'vphi': 0.8}\n",
    "targets_ss = {'asset_mkt': 0, 'labor_mkt': 0}\n",
    "\n",
    "ss0 = hank_ss.solve_steady_state(calibration, unknowns_ss, targets_ss, solver=\"hybr\")"
   ]
  },
  {
   "cell_type": "markdown",
   "metadata": {},
   "source": [
    "Let's see the targets and Walras's law."
   ]
  },
  {
   "cell_type": "code",
   "execution_count": 18,
   "metadata": {},
   "outputs": [
    {
     "name": "stdout",
     "output_type": "stream",
     "text": [
      "Asset market clearing: -8.88e-16\n",
      "Labor market clearing:  2.00e-15\n",
      "Goods market clearing (untargeted): -3.70e-09\n"
     ]
    }
   ],
   "source": [
    "print(f\"Asset market clearing: {ss0['asset_mkt']: 0.2e}\")\n",
    "print(f\"Labor market clearing: {ss0['labor_mkt']: 0.2e}\")\n",
    "print(f\"Goods market clearing (untargeted): {ss0['goods_mkt']: 0.2e}\")"
   ]
  },
  {
   "cell_type": "markdown",
   "metadata": {},
   "source": [
    "Looks good. Let's also plot the labor supply policy as function of assets for each skill type. We see that poorer and more productive households choose to work more. "
   ]
  },
  {
   "cell_type": "code",
   "execution_count": 16,
   "metadata": {},
   "outputs": [
    {
     "data": {
      "image/png": "[encoded data removed]",
      "text/plain": [
       "<Figure size 432x288 with 1 Axes>"
      ]
     },
     "metadata": {
      "needs_background": "light"
     },
     "output_type": "display_data"
    }
   ],
   "source": [
    "plt.plot(ss0.internals['hh']['a_grid'], ss0.internals['hh']['n'].T)\n",
    "plt.xlabel('Assets'), plt.ylabel('Labor supply')\n",
    "plt.show()"
   ]
  },
  {
   "cell_type": "markdown",
   "metadata": {},
   "source": [
    "## 4 Linearized dynamics using Jacobians\n",
    "Recall that we reduced the model to an implicit equation\n",
    "$$\n",
    "H(\\pi, Y, w; r^*, Z) =\n",
    "\\begin{pmatrix}\n",
    "\\kappa \\left(\\frac{w_t}{Z_t} - \\frac{1}{\\mu} \\right)  + \\frac{1}{1+r_{t+1}} \\frac{Y_{t+1}}{Y_t} \\log(1+\\pi_{t+1}) - \\log(1+\\pi_t)\n",
    "\\\\\n",
    "\\mathcal{A}_t(\\{r_s, w_s, \\tau_s, d_s\\})  - B\n",
    "\\\\\n",
    "\\mathcal{L}_t(\\{r_s, w_s, \\tau_s, d_s\\}) - L_t\n",
    "\\end{pmatrix}\n",
    "= \\begin{pmatrix} 0 \\\\ 0 \\\\ 0\\end{pmatrix},\n",
    "$$\n",
    "\n",
    "to be solved for $U=(\\pi, w, Y)$ given any $Z=(Z, r^*)$. The rest of the endogenous variables are be obtained as explicit functions of $(\\pi, w, Y; Z, r^*)$ along the DAG, but it would be tedious to write them out.\n",
    "\n",
    "Keep in mind that the implicit function theorem implies that the response of unknowns is\n",
    "\n",
    "$$\n",
    "dU = \\underbrace{-H_U^{-1}H_Z}_{G_U} dZ \\tag{1}\n",
    "$$\n",
    "\n",
    "Recall that we already solved for a steady state and stored is as `ss`. Furthermore, we will use a 300-period truncation horizon. "
   ]
  },
  {
   "cell_type": "markdown",
   "metadata": {},
   "source": [
    "### 4.1 Set up the DAG\n",
    "\n",
    "Let's set up the second (main) DAG. We just have to replace `nkpc_ss` with a full Phillips curve."
   ]
  },
  {
   "cell_type": "code",
   "execution_count": 12,
   "metadata": {},
   "outputs": [
    {
     "name": "stdout",
     "output_type": "stream",
     "text": [
      "<SimpleBlock 'monetary'>\n",
      "<SimpleBlock 'nkpc'>\n",
      "<SimpleBlock 'fiscal'>\n",
      "<SimpleBlock 'firm'>\n",
      "<HetBlock 'hh' with hetinput 'make_grid_transfers' and with hetoutput `labor_supply'>\n",
      "<SimpleBlock 'mkt_clearing'>\n"
     ]
    }
   ],
   "source": [
    "@simple\n",
    "def nkpc(pi, w, Z, Y, r, mu, kappa):\n",
    "    nkpc_res = kappa * (w / Z - 1 / mu) + Y(+1) / Y * (1 + pi(+1)).apply(np.log) / (1 + r(+1))\\\n",
    "               - (1 + pi).apply(np.log)\n",
    "    return nkpc_res\n",
    "\n",
    "\n",
    "blocks = [hh_ext, firm, monetary, fiscal, mkt_clearing, nkpc]\n",
    "hank = create_model(blocks, name=\"One-Asset HANK\")\n",
    "\n",
    "print(*hank.blocks, sep='\\n')"
   ]
  },
  {
   "cell_type": "markdown",
   "metadata": {},
   "source": [
    "- Recall that `create_model` performs a topological sort to put the blocks in a (not necessarily unique) correct order of evaluation. Here, `monetary` must be first, then `nkpc`, `fiscal`, `firm` in any order, then `hh`, and finally `mkt_clearing`. Note that `hank.blocks` is a list in such an order."
   ]
  },
  {
   "cell_type": "markdown",
   "metadata": {},
   "source": [
    "Before we proceed, let's make sure that `ss0` is consistent with the second DAG. Just evaluate the `hank` at `ss0` and verify that the equilibrium conditions hold as expected."
   ]
  },
  {
   "cell_type": "code",
   "execution_count": 13,
   "metadata": {},
   "outputs": [],
   "source": [
    "ss = hank.steady_state(ss0)\n",
    "\n",
    "for k in ss0.keys():\n",
    "    assert np.all(np.isclose(ss[k], ss0[k]))"
   ]
  },
  {
   "cell_type": "markdown",
   "metadata": {},
   "source": [
    "### 4.2 Obtain GE Jacobian \n",
    "\n",
    "With the model object `hank` in hand, we can get the general equilibrium Jacobians by using its `solve_jacobian` method."
   ]
  },
  {
   "cell_type": "code",
   "execution_count": 14,
   "metadata": {},
   "outputs": [
    {
     "name": "stdout",
     "output_type": "stream",
     "text": [
      "<JacobianDict outputs=['pi', 'w', 'Y', 'A', 'C', 'N', 'NE', 'L', 'Div', 'r', 'Tax', 'asset_mkt', 'labor_mkt', 'goods_mkt', 'nkpc_res'], inputs=['rstar', 'Z']>\n"
     ]
    }
   ],
   "source": [
    "# setup\n",
    "T = 300\n",
    "exogenous = ['rstar', 'Z']\n",
    "unknowns = ['pi', 'w', 'Y']\n",
    "targets = ['nkpc_res', 'asset_mkt', 'labor_mkt']\n",
    "\n",
    "# general equilibrium jacobians\n",
    "G = hank.solve_jacobian(ss, unknowns, targets, exogenous, T=T)\n",
    "\n",
    "print(G)"
   ]
  },
  {
   "cell_type": "markdown",
   "metadata": {},
   "source": [
    "Under the hood, the `solve_jacobian` method performs the following steps:\n",
    " - computes the partial Jacobians $\\mathcal{J}^{o,i}$ for all blocks (if their Jacobian is not supplied already), only with respect to the inputs that actually change: unknowns, exogenous shocks, outputs of earlier blocks\n",
    " - forward accumulates partial Jacobians $\\mathcal{J}^{o,i}$ to form total Jacobians $\\mathbf{J}^{o,i}$\n",
    " - packs $\\mathbf{J}^{o,i}$ to form $\\mathbf{H_U}$ and $\\mathbf{H_Z}$\n",
    " - solves for the GE Jacobians for unknowns $\\mathbf{G_U} = \\mathbf{H_U}^{-1}\\mathbf{H_Z}$\n",
    " - forward accumulates GE Jacobians to obtain $\\mathbf{G}$ for other endogenous variables "
   ]
  },
  {
   "cell_type": "markdown",
   "metadata": {},
   "source": [
    "### 4.3 Results\n",
    "\n",
    "Now let's consider 25 basis point monetary policy shocks with different persistences and plot the response of inflation."
   ]
  },
  {
   "cell_type": "code",
   "execution_count": 15,
   "metadata": {},
   "outputs": [
    {
     "data": {
      "image/png": "[encoded data removed]",
      "text/plain": [
       "<Figure size 432x288 with 1 Axes>"
      ]
     },
     "metadata": {
      "needs_background": "light"
     },
     "output_type": "display_data"
    }
   ],
   "source": [
    "rhos = np.array([0.2, 0.4, 0.6, 0.8, 0.9])\n",
    "\n",
    "drstar = -0.0025 * rhos ** (np.arange(T)[:, np.newaxis])\n",
    "dpi = G['pi']['rstar'] @ drstar\n",
    "\n",
    "plt.plot(10000 * dpi[:21])\n",
    "plt.title(r'Inflation responses monetary policy shocks')\n",
    "plt.xlabel('quarters')\n",
    "plt.ylabel('bp deviation from ss')\n",
    "plt.show()"
   ]
  },
  {
   "cell_type": "markdown",
   "metadata": {},
   "source": [
    "## 5. Nonlinear dynamics\n",
    "Conceptually there's nothing new in this section compared to the Krusell-Smith notebook. We're going to implement a quasi-Newton algorithm to solve for the unknown sequences $U=(\\pi, w, Y)$ given some sequences of shocks $(r^*, Z).$ We initialize the algorithm by the naive guess that the variables in $U$ stay constant at their steady-state level. Then we evaluate the DAG and update the guess using the inverse Jacobian $H_U^{-1}.$ The algorithm converges in a few steps, despite the presence of substantial nonlinearities."
   ]
  },
  {
   "cell_type": "markdown",
   "metadata": {},
   "source": [
    "### 5.1 A typical monetary policy shock\n",
    "Note that the linearized solution ignores price adjustment costs. For a monetary policy shock of typical size and persistence, this does not really matter.   "
   ]
  },
  {
   "cell_type": "code",
   "execution_count": 16,
   "metadata": {},
   "outputs": [
    {
     "name": "stdout",
     "output_type": "stream",
     "text": [
      "Solving One-Asset HANK for ['pi', 'w', 'Y'] to hit ['nkpc_res', 'asset_mkt', 'labor_mkt']\n",
      "On iteration 0\n",
      "   max error for nkpc_res is 0.00E+00\n",
      "   max error for asset_mkt is 1.46E-02\n",
      "   max error for labor_mkt is 2.73E-03\n",
      "On iteration 1\n",
      "   max error for nkpc_res is 1.16E-06\n",
      "   max error for asset_mkt is 1.33E-04\n",
      "   max error for labor_mkt is 6.89E-06\n",
      "On iteration 2\n",
      "   max error for nkpc_res is 4.81E-08\n",
      "   max error for asset_mkt is 2.21E-06\n",
      "   max error for labor_mkt is 1.42E-07\n",
      "On iteration 3\n",
      "   max error for nkpc_res is 1.26E-09\n",
      "   max error for asset_mkt is 3.46E-08\n",
      "   max error for labor_mkt is 8.41E-10\n",
      "On iteration 4\n",
      "   max error for nkpc_res is 2.10E-11\n",
      "   max error for asset_mkt is 5.01E-10\n",
      "   max error for labor_mkt is 1.26E-11\n"
     ]
    },
    {
     "data": {
      "image/png": "[encoded data removed]",
      "text/plain": [
       "<Figure size 432x288 with 1 Axes>"
      ]
     },
     "metadata": {
      "needs_background": "light"
     },
     "output_type": "display_data"
    }
   ],
   "source": [
    "rho_r, sig_r = 0.61, -0.01/4\n",
    "rstar_shock_path = {\"rstar\": sig_r * rho_r ** (np.arange(T))}\n",
    "\n",
    "td_nonlin = hank.solve_impulse_nonlinear(ss, unknowns, targets, rstar_shock_path)\n",
    "td_lin = hank.solve_impulse_linear(ss, unknowns, targets, rstar_shock_path)\n",
    "\n",
    "dC_nonlin = 100 * td_nonlin['C']\n",
    "dC_lin = 100 * td_lin['C']\n",
    "\n",
    "plt.plot(dC_lin[:21], label='linear', linestyle='-', linewidth=2.5)\n",
    "plt.plot(dC_nonlin[:21], label='nonlinear', linestyle='--', linewidth=2.5)\n",
    "plt.title(r'Consumption response to 1% monetary policy shock')\n",
    "plt.xlabel('quarters')\n",
    "plt.ylabel('% deviation from ss')\n",
    "plt.legend()\n",
    "plt.show()"
   ]
  },
  {
   "cell_type": "markdown",
   "metadata": {},
   "source": [
    "### 5.2 A very large monetary policy shock\n",
    "However, the nonlinearities may become substantial for very large or persistent monetary policy shocks. Reassuringly, the Jacobian still works well as an updating rule. The quasi-Newton method for a 10% monetary policy shock (extremely large!) still converges below in just 9 iterations, despite nonlinearities evident in the results."
   ]
  },
  {
   "cell_type": "code",
   "execution_count": 17,
   "metadata": {},
   "outputs": [
    {
     "name": "stdout",
     "output_type": "stream",
     "text": [
      "Solving One-Asset HANK for ['pi', 'w', 'Y'] to hit ['nkpc_res', 'asset_mkt', 'labor_mkt']\n",
      "On iteration 0\n",
      "   max error for nkpc_res is 0.00E+00\n",
      "   max error for asset_mkt is 1.41E-01\n",
      "   max error for labor_mkt is 2.68E-02\n",
      "On iteration 1\n",
      "   max error for nkpc_res is 9.66E-05\n",
      "   max error for asset_mkt is 1.30E-02\n",
      "   max error for labor_mkt is 5.55E-04\n",
      "On iteration 2\n",
      "   max error for nkpc_res is 2.62E-05\n",
      "   max error for asset_mkt is 2.19E-03\n",
      "   max error for labor_mkt is 7.31E-04\n",
      "On iteration 3\n",
      "   max error for nkpc_res is 3.84E-06\n",
      "   max error for asset_mkt is 3.80E-04\n",
      "   max error for labor_mkt is 9.03E-05\n",
      "On iteration 4\n",
      "   max error for nkpc_res is 1.50E-06\n",
      "   max error for asset_mkt is 6.39E-05\n",
      "   max error for labor_mkt is 1.83E-05\n",
      "On iteration 5\n",
      "   max error for nkpc_res is 1.26E-07\n",
      "   max error for asset_mkt is 1.05E-05\n",
      "   max error for labor_mkt is 2.52E-06\n",
      "On iteration 6\n",
      "   max error for nkpc_res is 3.47E-08\n",
      "   max error for asset_mkt is 1.72E-06\n",
      "   max error for labor_mkt is 4.66E-07\n",
      "On iteration 7\n",
      "   max error for nkpc_res is 3.43E-09\n",
      "   max error for asset_mkt is 2.87E-07\n",
      "   max error for labor_mkt is 6.90E-08\n",
      "On iteration 8\n",
      "   max error for nkpc_res is 8.33E-10\n",
      "   max error for asset_mkt is 4.63E-08\n",
      "   max error for labor_mkt is 1.23E-08\n",
      "On iteration 9\n",
      "   max error for nkpc_res is 1.02E-10\n",
      "   max error for asset_mkt is 7.80E-09\n",
      "   max error for labor_mkt is 1.88E-09\n"
     ]
    },
    {
     "data": {
      "image/png": "[encoded data removed]",
      "text/plain": [
       "<Figure size 432x288 with 1 Axes>"
      ]
     },
     "metadata": {
      "needs_background": "light"
     },
     "output_type": "display_data"
    }
   ],
   "source": [
    "rho_r, sig_r = 0.61, -0.10/4\n",
    "rstar_shock_path = {\"rstar\": sig_r * rho_r ** (np.arange(T))}\n",
    "\n",
    "td_nonlin = hank.solve_impulse_nonlinear(ss, unknowns, targets, rstar_shock_path)\n",
    "td_lin = hank.solve_impulse_linear(ss, unknowns, targets, rstar_shock_path)\n",
    "\n",
    "dC_nonlin = 100 * td_nonlin['C']\n",
    "dC_lin = 100 * td_lin['C']\n",
    "\n",
    "plt.plot(dC_lin[:21], label='linear', linestyle='-', linewidth=2.5)\n",
    "plt.plot(dC_nonlin[:21], label='nonlinear', linestyle='--', linewidth=2.5)\n",
    "plt.title(r'Consumption response to 10% monetary policy shock')\n",
    "plt.xlabel('quarters')\n",
    "plt.ylabel('% deviation from ss')\n",
    "plt.legend()\n",
    "plt.show()"
   ]
  }
 ],
 "metadata": {
  "kernelspec": {
   "display_name": "Python 3 (ipykernel)",
   "language": "python",
   "name": "python3"
  },
  "language_info": {
   "codemirror_mode": {
    "name": "ipython",
    "version": 3
   },
   "file_extension": ".py",
   "mimetype": "text/x-python",
   "name": "python",
   "nbconvert_exporter": "python",
   "pygments_lexer": "ipython3",
   "version": "3.10.4"
  }
 },
 "nbformat": 4,
 "nbformat_minor": 2
}
