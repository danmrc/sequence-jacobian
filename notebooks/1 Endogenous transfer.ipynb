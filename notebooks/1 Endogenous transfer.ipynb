{
 "cells": [
  {
   "cell_type": "markdown",
   "metadata": {},
   "source": [
    "# Boilerplate\n",
    "\n",
    "Just load packages:"
   ]
  },
  {
   "cell_type": "code",
   "execution_count": 1,
   "metadata": {},
   "outputs": [],
   "source": [
    "import copy\n",
    "import numpy as np\n",
    "import matplotlib.pyplot as plt\n",
    "import scipy as sp\n",
    "\n",
    "from sequence_jacobian import het, simple, create_model              # functions\n",
    "from sequence_jacobian import interpolate, grids, misc, estimation   # modules\n",
    "from numba import vectorize"
   ]
  },
  {
   "cell_type": "markdown",
   "metadata": {},
   "source": [
    "This block does bissection, i.e. given a function $f$ and values $a$ and $b$ such that $f(a)$ and $f(b)$ have different signs, we find a root. The function `bissection_onestep` does one step of bissection: given two values $a$ and $b$, it returns new values for $a$ and $b$ that bracket the root. The function `vec_bissection` applies the function `bissection_onestep` until the distance between $a$ and $b$ is small (or we run out of iterations). \n",
    "\n",
    "This is relatively slow, but safe method (and easy to implement!) to find a root. We only use it to find the value for consumption when the minimum asset constrain is binding. \n",
    "\n",
    "The function is written to receive a function that returns an array, each element of the array represents a point in the grids of the state variables:"
   ]
  },
  {
   "cell_type": "code",
   "execution_count": 2,
   "metadata": {},
   "outputs": [],
   "source": [
    "def bissection_onestep(f,a,b):\n",
    "    if not np.all(f(a)*f(b) <= 0):\n",
    "        raise ValueError(\"No sign change\")\n",
    "    else:\n",
    "        mid_point = (a + b)/2\n",
    "        mid_value = f(mid_point)\n",
    "        new_a = a\n",
    "        new_b = b\n",
    "        indxs_a = np.nonzero(mid_value*f(b) <= 0)\n",
    "        indxs_b = np.nonzero(mid_value*f(a) <= 0)\n",
    "        if indxs_a[0].size != 0:\n",
    "            new_a[indxs_a] = mid_point[indxs_a]\n",
    "        if indxs_b[0].size != 0:\n",
    "            new_b[indxs_b] = mid_point[indxs_b]\n",
    "        return new_a,new_b\n",
    "\n",
    "def vec_bissection(f,a,b,iter_max = 100,tol = 1E-11):\n",
    "    i = 1\n",
    "    err = 1\n",
    "    while i < iter_max and err > tol:\n",
    "        a,b = bissection_onestep(f,a,b)\n",
    "        err = np.max(np.abs(a - b))\n",
    "        i += 1\n",
    "    if i >= iter_max:\n",
    "        raise Error(\"No convergence\")\n",
    "    return a"
   ]
  },
  {
   "cell_type": "markdown",
   "metadata": {},
   "source": [
    "# Asset Constraint: Binding situation\n",
    "\n",
    "The usual household problem is:\n",
    "\n",
    "\n",
    "$$\n",
    "\\max_{c_t,n_t,b_{t+1}} \\sum_{t=1}^{\\infty} \\beta^t E_{t-1} \\left[\\left(\\frac{c_t^{1-\\gamma}}{1-\\gamma} - \\varphi \\frac{n_t^{1+v}}{1+v}\\right)\\right] \\text{ subject to } c_t + b_{t+1} = (1+r_t)b_t + w_t e_t n_t + T_t\n",
    "$$\n",
    "\n",
    "When the household minimum asset constrain is binding, $b_{t+1} = \\underline{b}$, which changes the problem to:\n",
    "\n",
    "$$\n",
    "\\max_{c_t,n_t} \\sum_{t=1}^{\\infty} \\beta^t E_{t-1} \\left[\\left(\\frac{c_t^{1-\\gamma}}{1-\\gamma} - \\varphi \\frac{n_t^{1+v}}{1+v}\\right)\\right] \\text{ subject to } c_t + \\underline{b} = (1+r_t)b_t + w_t e_t n_t + T_t\n",
    "$$\n",
    "\n",
    "This breaks down the intertemporal problem. The lagrangian for this problem is:\n",
    "\n",
    "$$\n",
    "\\mathcal{L} = \\sum_{t=1}^{\\infty} \\beta^t \\left(\\frac{c_t^{1-\\gamma}}{1-\\gamma} - \\varphi \\frac{n_t^{1+v}}{1+v}\\right) -\\lambda(c_t + \\underline{b} - (1+r_t)b_t - w_t e_t n_t - T_t)\n",
    "$$\n",
    "\n",
    "$$\n",
    "\\frac{\\partial \\mathcal{L}}{\\partial c_t} = \\beta^t c_t^{-\\gamma} - \\lambda = 0 \\quad (i)\\\\\n",
    "\\frac{\\partial \\mathcal{L}}{\\partial n_t} = -\\beta^t \\varphi n_t^{v} + \\lambda w_t e_t = 0 \\quad (ii)\n",
    "$$\n",
    "\n",
    "Working with (i):\n",
    "\n",
    "$$\n",
    "\\beta^t c_t^{-\\gamma} = \\lambda\n",
    "$$\n",
    "\n",
    "Plug it into (ii):\n",
    "\n",
    "$$\n",
    "\\beta^t \\varphi n_t^{v} = \\beta^t c_t^{-\\gamma} w_t e_t \\\\\n",
    "n_t = \\left(\\frac{w_t e_t}{\\varphi c_t^{\\gamma}}\\right)^{1/v}\n",
    "$$\n",
    "\n",
    "Since any solution needs to respect the constrain:\n",
    "\n",
    "$$\n",
    "c_t + \\underline{b} = w_t e_t\\left(\\frac{w_t e_t}{\\varphi c_t^{\\gamma}}\\right)^{1/v} + (1+r_t)b_t + T_t\n",
    "$$\n",
    "\n",
    "The function `consumption` implements the equation above. We are calling $(1+r_t) b_t + T_t - \\underline{b}$ the `rest`; `we` is the product $w_t e_t$. Any value of $c$ that makes the equation above valid solves the constrained problem of the agent. We use the bissection functions of the previous section to do that:"
   ]
  },
  {
   "cell_type": "code",
   "execution_count": 3,
   "metadata": {},
   "outputs": [],
   "source": [
    "def consumption(c,we,rest,gamma,v,phi):\n",
    "    return c - we*(we/(phi*c**gamma))**(1/v) - rest"
   ]
  },
  {
   "cell_type": "markdown",
   "metadata": {},
   "source": [
    "# Household block\n",
    "\n",
    "This is the block that implements the household problem. We use the Endogenous Grid Method. When the value of the assets is bellow the minimum value $\\underline{b}$, then we have to use the function of the previous section. \n",
    "\n",
    "The first function will simply give a guess to start the iteration:"
   ]
  },
  {
   "cell_type": "code",
   "execution_count": 4,
   "metadata": {},
   "outputs": [],
   "source": [
    "def household_guess(a_grid,e_grid,r,w,gamma,T):\n",
    "    wel = (1+r)*a_grid[np.newaxis,:] + w*e_grid[:,np.newaxis] + T[:,np.newaxis]\n",
    "    V_prime = (1+r)*(wel*0.1)**(-gamma)\n",
    "    return V_prime"
   ]
  },
  {
   "cell_type": "markdown",
   "metadata": {},
   "source": [
    "The function bellow implements _one step_ of the solution of the household problem. The household problem is:\n",
    "\n",
    "$$\n",
    "\\max_{c_t,n_t,b_{t+1}} \\sum_{t=1}^{\\infty} \\beta^t E_{t-1} \\left[\\left(\\frac{c_t^{1-\\gamma}}{1-\\gamma} - \\varphi \\frac{n_t^{1+v}}{1+v}\\right)\\right] \\text{ subject to } c_t + b_{t+1} = (1+r_t)b_t + w_t e_t n_t + T_t\n",
    "$$\n",
    "\n",
    "In value function form:\n",
    "\n",
    "$$\n",
    "V_t(b_t) = \\max_{c_t,n_t,b_{t+1}} \\left(\\frac{c_t^{1-\\gamma}}{1-\\gamma} - \\varphi \\frac{n_t^{1+v}}{1+v}\\right) + \\beta E_t[V_t(b_{t+1})]\n",
    "$$\n",
    "\n",
    "The problem above is subject to $c_t + b_{t+1} = (1+r_t)b_t + w_t e_t n_t + T_t$. Then:\n",
    "\n",
    "$$\n",
    "V_t(b_t) = \\max_{n_t,b_{t+1}} \\left(\\frac{((1+r_t)b_t + w_t e_t n_t + T_t - b_{t+1})^{1-\\gamma}}{1-\\gamma} - \\varphi \\frac{n_t^{1-v}}{1-v}\\right) + \\beta E_t[V_t(b_{t+1})]\n",
    "$$\n",
    "\n",
    "Then:\n",
    "\n",
    "$$\n",
    "\\frac{\\partial V}{\\partial b_{t+1}} = -((1+r_t)b_t + w_t e_t n_t + T_t - b_{t+1})^{-\\gamma} + \\beta E_t\\left[\\frac{\\partial V}{\\partial b_{t+1}}\\right]\\\\\n",
    "\\frac{\\partial V}{\\partial n_{t}} = w_t e_t((1+r_t)b_t + w_t e_t n_t + T_t - b_{t+1})^{-\\gamma} - \\phi n_t^{v}\\\\\n",
    "\\frac{\\partial V}{\\partial b_t} = (1+r_t)((1+r_t)b_t + w_t e_t n_t + T_t - b_{t+1})^{-\\gamma}\n",
    "\\tag{foc}\n",
    "$$\n",
    "\n",
    "By Benveniste Scheinkman, we have that:\n",
    "\n",
    "$$\\frac{\\partial V}{\\partial b_{t+1}} = (1+r_{t+1})(c_{t+1})^{-\\gamma} \\tag{a}$$\n",
    "\n",
    "This will be the variable `V_prime_p` in the problem bellow.\n",
    "\n",
    "Joining the first and the last expression of the block above, and using that $c_t = (1+r_t)b_t + w_t e_t n_t + T_t - b_{t+1}$, we have, in the point of maximum:\n",
    "\n",
    "$$\n",
    "-c_t^{-\\gamma} + \\beta(1+r_{t+1})(c_{t+1})^{-\\gamma} = 0\\\\\n",
    "c_t = (\\beta(1+r_{t+1})(c_{t+1})^{-\\gamma})^{-1/\\gamma}\n",
    "$$\n",
    "\n",
    "This gives the value of the policy ($c_t$) in the current iteration. We can obtain it in terms of $\\frac{\\partial V}{\\partial b_t}$ from (a) as $c_t = \\left(\\beta \\frac{\\partial V}{\\partial b_{t+1}} \\right)^{-1/\\gamma}$. This is the definition of `c_prime`.\n",
    "\n",
    "Using the second equation from the foc block, we obtain:\n",
    "\n",
    "$$\n",
    "n_t = \\left(\\frac{e_t w_t}{\\varphi c_t^{\\gamma}}\\right)^{1/v}\n",
    "$$\n",
    "\n",
    "This is the variable `n_prime`. \n",
    "\n",
    "By the budget constrain:\n",
    "\n",
    "$$\n",
    "b_{t+1} + c_t = (1+r_t)b_t + e_t w_t n_t + T_t\n",
    "$$\n",
    "\n",
    "If we have a grid of today values of the asset `a_grid`, then the values implied by the budget constrain of the asset tomorrow are $c_t + b_{t+1} - w_t e_t n_t - T_t$. This is the variable `new_grid`. We interpolate from these values to obtain the value of the variables $c_t$ and $n_t$. \n",
    "\n",
    "We then compute the assets of the next period that this policy implies. If the policy implies an asset value smaller than the minimum allowed, we then need to compute the best value of consumption given that it is constrained. We then use the calculations of the previous section to do that.  "
   ]
  },
  {
   "cell_type": "code",
   "execution_count": 5,
   "metadata": {},
   "outputs": [
    {
     "name": "stdout",
     "output_type": "stream",
     "text": [
      "<HetBlock 'household'>\n",
      "Inputs: ['a_grid', 'e_grid', 'r', 'w', 'T', 'beta', 'gamma', 'v', 'phi', 'Pi']\n",
      "Macro outputs: ['A', 'C', 'N']\n",
      "Micro outputs: ['D', 'Dbeg', 'Pi', 'V_prime', 'a', 'c', 'n']\n"
     ]
    }
   ],
   "source": [
    "@het(exogenous = 'Pi',policy = 'a', backward = 'V_prime', backward_init=household_guess)\n",
    "def household(V_prime_p,a_grid,e_grid,r,w,T,beta,gamma,v,phi):\n",
    "\n",
    "    we = w*e_grid\n",
    "\n",
    "    c_prime = (beta*V_prime_p)**(-1/gamma) #c_prime is quite a misnomer, since this is the new guess for c_t\n",
    "    n_prime = (we[:,np.newaxis]/(phi*c_prime**gamma))**(1/v)\n",
    "\n",
    "    new_grid = (c_prime + a_grid[np.newaxis,:] - we[:,np.newaxis]*n_prime - T[:,np.newaxis])\n",
    "    wel = (1+r)*a_grid\n",
    "\n",
    "    c = interpolate.interpolate_y(new_grid,wel,c_prime)\n",
    "    n = interpolate.interpolate_y(new_grid,wel,n_prime)\n",
    "\n",
    "    a = wel + we[:,np.newaxis]*n + T[:,np.newaxis] - c\n",
    "    V_prime= (1+r)*c**(-gamma)\n",
    "\n",
    "    # checks for violations of the condition of minimal assets required and fixes it\n",
    "\n",
    "    indexes_asset = np.nonzero(a < a_grid[0]) #first dimension: labor grid, second dimension: asset grid\n",
    "    a[indexes_asset] = a_grid[0]\n",
    "\n",
    "    if indexes_asset[0].size != 0 and indexes_asset[1].size !=0:\n",
    "\n",
    "        aa = np.zeros((indexes_asset[0].size)) + 1E-5\n",
    "        rest = -a_grid[0] + wel[indexes_asset[1]] + T[indexes_asset[0]]\n",
    "        bb = c[indexes_asset] + 0.5\n",
    "        \n",
    "        c[indexes_asset] = vec_bissection(lambda c : consumption(c,we[indexes_asset[0]],rest,gamma,v,phi),aa,bb)\n",
    "        n[indexes_asset] = (we[indexes_asset[0]]/(phi*c[indexes_asset]**gamma))**(1/v)\n",
    "        V_prime[indexes_asset] = (1+r)*(c[indexes_asset])**(-gamma)\n",
    "\n",
    "    return V_prime,a,c,n\n",
    "\n",
    "print(household)\n",
    "print(f'Inputs: {household.inputs}')\n",
    "print(f'Macro outputs: {household.outputs}')\n",
    "print(f'Micro outputs: {household.internals}')"
   ]
  },
  {
   "cell_type": "markdown",
   "metadata": {},
   "source": [
    "The rest of the code is identical to the HANK example in their notebook on their repo:"
   ]
  },
  {
   "cell_type": "code",
   "execution_count": 6,
   "metadata": {},
   "outputs": [
    {
     "name": "stdout",
     "output_type": "stream",
     "text": [
      "<HetBlock 'household' with hetinput 'make_grid_transfers'>\n",
      "Inputs: ['r', 'w', 'beta', 'gamma', 'v', 'phi', 'rho_e', 'sd_e', 'nE', 'amin', 'amax', 'nA', 'Div', 'Tax']\n"
     ]
    }
   ],
   "source": [
    "def make_grid(rho_e, sd_e, nE, amin, amax, nA):\n",
    "    e_grid, pi_e, Pi = grids.markov_rouwenhorst(rho=rho_e, sigma=sd_e, N=nE) # pi_e is stationary distribution, Pi is transition matrix\n",
    "    a_grid = grids.agrid(amin=amin, amax=amax, n=nA)\n",
    "    return e_grid, Pi, a_grid, pi_e\n",
    "\n",
    "def transfers(pi_e, Div, Tax, e_grid):\n",
    "    # hardwired incidence rules are proportional to skill; scale does not matter \n",
    "    tax_rule, div_rule = e_grid, e_grid\n",
    "    div = Div / np.sum(pi_e * div_rule) * div_rule\n",
    "    tax = Tax / np.sum(pi_e * tax_rule) * tax_rule\n",
    "    T = div - tax\n",
    "    return T\n",
    "\n",
    "household_inp= household.add_hetinputs([make_grid,transfers])\n",
    "\n",
    "print(household_inp)\n",
    "print(f'Inputs: {household_inp.inputs}')"
   ]
  },
  {
   "cell_type": "code",
   "execution_count": 7,
   "metadata": {},
   "outputs": [
    {
     "name": "stdout",
     "output_type": "stream",
     "text": [
      "<HetBlock 'household' with hetinput 'make_grid_transfers' and with hetoutput `labor_supply'>\n",
      "Outputs: ['A', 'C', 'N', 'NE']\n",
      "Inputs: ['r', 'w', 'beta', 'gamma', 'v', 'phi', 'rho_e', 'sd_e', 'nE', 'amin', 'amax', 'nA', 'Div', 'Tax']\n"
     ]
    }
   ],
   "source": [
    "def labor_supply(n, e_grid):\n",
    "    ne = e_grid[:, np.newaxis] * n\n",
    "    return ne\n",
    "\n",
    "hh_ext = household_inp.add_hetoutputs([labor_supply])\n",
    "\n",
    "print(hh_ext)\n",
    "print(f'Outputs: {hh_ext.outputs}')\n",
    "print(f'Inputs: {household_inp.inputs}')"
   ]
  },
  {
   "cell_type": "code",
   "execution_count": 8,
   "metadata": {},
   "outputs": [],
   "source": [
    "@simple\n",
    "def firm(Y, w, Z, pi, mu, kappa):\n",
    "    L = Y / Z\n",
    "    Div = Y - w * L - mu/(mu-1)/(2*kappa) * (1+pi).apply(np.log)**2 * Y\n",
    "    return L, Div\n",
    "\n",
    "@simple\n",
    "def monetary(pi, rstar, phi_pi):\n",
    "    r = (1 + rstar(-1) + phi_pi * pi(-1)) / (1 + pi) - 1\n",
    "    return r\n",
    "\n",
    "@simple\n",
    "def fiscal(r, B):\n",
    "    Tax = r * B\n",
    "    return Tax\n",
    "\n",
    "@simple\n",
    "def mkt_clearing(A, NE, C, L, Y, B, pi, mu, kappa):\n",
    "    asset_mkt = A - B\n",
    "    labor_mkt = NE - L\n",
    "    goods_mkt = Y - C - mu/(mu-1)/(2*kappa) * (1+pi).apply(np.log)**2 * Y\n",
    "    return asset_mkt, labor_mkt, goods_mkt\n",
    "\n",
    "@simple\n",
    "def nkpc_ss(Z, mu):\n",
    "    w = Z / mu\n",
    "    return w"
   ]
  },
  {
   "cell_type": "code",
   "execution_count": 9,
   "metadata": {},
   "outputs": [
    {
     "name": "stdout",
     "output_type": "stream",
     "text": [
      "<Model 'One-Asset HANK SS'>\n",
      "Inputs: ['beta', 'gamma', 'v', 'phi', 'rho_e', 'sd_e', 'nE', 'amin', 'amax', 'nA', 'Y', 'Z', 'pi', 'mu', 'kappa', 'rstar', 'phi_pi', 'B']\n"
     ]
    }
   ],
   "source": [
    "blocks_ss = [hh_ext, firm, monetary, fiscal, mkt_clearing, nkpc_ss]\n",
    "\n",
    "hank_ss = create_model(blocks_ss, name=\"One-Asset HANK SS\")\n",
    "\n",
    "print(hank_ss)\n",
    "print(f\"Inputs: {hank_ss.inputs}\")"
   ]
  },
  {
   "cell_type": "code",
   "execution_count": 29,
   "metadata": {},
   "outputs": [],
   "source": [
    "calibration = {'gamma': 1.0, 'v': 2.0, 'rho_e': 0.966, 'sd_e': 0.5, 'nE': 7,\n",
    "               'amin': 0, 'amax': 150, 'nA': 500, 'Y': 1.0, 'Z': 1.0, 'pi': 0.0,\n",
    "               'mu': 1.2, 'kappa': 0.1, 'rstar': 0.005, 'phi_pi': 1.5, 'B': 6.0}\n",
    "\n",
    "unknowns_ss = {'beta': 0.986, 'phi': 0.8}\n",
    "targets_ss = {'asset_mkt': 0, 'labor_mkt': 0}\n",
    "\n",
    "ss0 = hank_ss.solve_steady_state(calibration, unknowns_ss, targets_ss, solver=\"hybr\")"
   ]
  },
  {
   "cell_type": "code",
   "execution_count": 30,
   "metadata": {},
   "outputs": [
    {
     "name": "stdout",
     "output_type": "stream",
     "text": [
      "PARAMETERS\n",
      "Discount factor:          0.988      Intertemporal elasticity: 1.0\n",
      "Labor supply elasticity:  0.5        Labor disutility:         0.856\n",
      "Goods substitutability:   6.0        Markup:                   1.2\n",
      "Phillips curve slope:     0.1        Taylor inflation:         1.5\n",
      "\n",
      "STEADY STATE\n",
      "Output:                   0.976      Government debt:          6.0\n",
      "Hours:                    0.976      Transfers:               -0.03\n",
      "Consumption:              1.0        Dividends:                0.167\n",
      "Wage:                     0.833      Marginal cost:            0.833\n",
      "Inflation:                0.0        Debt servicing cost:      0.03\n",
      "Nominal interest rate:    0.005\n",
      "Real interest rate:       0.005\n",
      "\n",
      "MARKET CLEARING\n",
      "Bond market:             -2.8e-14    Labor market:             2.7e-15\n",
      "Goods market (resid):    -5.0e-09\n"
     ]
    }
   ],
   "source": [
    "# Show steady state\n",
    "eps = ss0['mu'] / (ss0['mu'] - 1)\n",
    "print(\"PARAMETERS\")\n",
    "print(f\"Discount factor:         {ss0['beta']: .3}\", f\"     Intertemporal elasticity: {ss0['gamma']}\")\n",
    "print(f\"Labor supply elasticity:  {1 / ss0['v']}\", f\"       Labor disutility:        {ss0['phi']: .3}\")\n",
    "print(f\"Goods substitutability:  {eps : .3}\", f\"       Markup:                  {ss0['mu']: .3}\")\n",
    "print(f\"Phillips curve slope:    {ss0['kappa']: .3}\", f\"       Taylor inflation:         {ss0['phi_pi']}\")\n",
    "\n",
    "print()\n",
    "print(\"STEADY STATE\")\n",
    "print(f\"Output:                  {ss0['N'] * ss0['Z']: .3}\", f\"     Government debt:         {ss0['A']: .3}\")\n",
    "print(f\"Hours:                   {ss0['N']: .3}\", f\"     Transfers:               {-ss0['Tax']: .3}\")\n",
    "print(f\"Consumption:             {ss0['C']: .3}\", f\"       Dividends:               {ss0['Div']: .3}\")\n",
    "print(f\"Wage:                    {ss0['w']: .3}\", f\"     Marginal cost:           {1 / ss0['mu']: .3}\")\n",
    "print(f\"Inflation:               {ss0['pi']: .3}\", f\"       Debt servicing cost:     {ss0['r'] * ss0['A']: .3}\")\n",
    "print(f\"Nominal interest rate:   {ss0['r']: .3}\")  \n",
    "print(f\"Real interest rate:      {ss0['r']: .3}\")\n",
    "\n",
    "print()\n",
    "print(\"MARKET CLEARING\")\n",
    "print(f\"Bond market:             {ss0['asset_mkt']: 0.1e}\", f\"   Labor market:            {ss0['labor_mkt']: 0.1e}\")\n",
    "print(f\"Goods market (resid):    {ss0['goods_mkt']: 0.1e}\")\n"
   ]
  },
  {
   "cell_type": "code",
   "execution_count": 12,
   "metadata": {},
   "outputs": [
    {
     "data": {
      "image/png": "[encoded data removed]",
      "text/plain": [
       "<Figure size 432x288 with 1 Axes>"
      ]
     },
     "metadata": {
      "needs_background": "light"
     },
     "output_type": "display_data"
    }
   ],
   "source": [
    "plt.plot(ss0.internals['household']['a_grid'], ss0.internals['household']['n'].T)\n",
    "plt.xlabel('Assets'), plt.ylabel('Labor supply')\n",
    "plt.show()"
   ]
  },
  {
   "cell_type": "code",
   "execution_count": 13,
   "metadata": {},
   "outputs": [
    {
     "name": "stdout",
     "output_type": "stream",
     "text": [
      "<SimpleBlock 'monetary'>\n",
      "<SimpleBlock 'nkpc'>\n",
      "<SimpleBlock 'fiscal'>\n",
      "<SimpleBlock 'firm'>\n",
      "<HetBlock 'household' with hetinput 'make_grid_transfers' and with hetoutput `labor_supply'>\n",
      "<SimpleBlock 'mkt_clearing'>\n"
     ]
    }
   ],
   "source": [
    "@simple\n",
    "def nkpc(pi, w, Z, Y, r, mu, kappa):\n",
    "    nkpc_res = kappa * (w / Z - 1 / mu) + Y(+1) / Y * (1 + pi(+1)).apply(np.log) / (1 + r(+1))\\\n",
    "               - (1 + pi).apply(np.log)\n",
    "    return nkpc_res\n",
    "\n",
    "\n",
    "blocks = [hh_ext, firm, monetary, fiscal, mkt_clearing, nkpc]\n",
    "hank = create_model(blocks, name=\"One-Asset HANK\")\n",
    "\n",
    "print(*hank.blocks, sep='\\n')"
   ]
  },
  {
   "cell_type": "code",
   "execution_count": 14,
   "metadata": {},
   "outputs": [],
   "source": [
    "ss = hank.steady_state(ss0)\n",
    "\n",
    "for k in ss0.keys():\n",
    "    assert np.all(np.isclose(ss[k], ss0[k]))"
   ]
  },
  {
   "cell_type": "code",
   "execution_count": 15,
   "metadata": {},
   "outputs": [
    {
     "name": "stdout",
     "output_type": "stream",
     "text": [
      "<JacobianDict outputs=['pi', 'w', 'Y', 'A', 'C', 'N', 'NE', 'L', 'Div', 'r', 'Tax', 'asset_mkt', 'labor_mkt', 'goods_mkt', 'nkpc_res'], inputs=['rstar', 'Z']>\n"
     ]
    }
   ],
   "source": [
    "T = 300\n",
    "exogenous = ['rstar', 'Z']\n",
    "unknowns = ['pi', 'w', 'Y']\n",
    "targets = ['nkpc_res', 'asset_mkt', 'labor_mkt']\n",
    "\n",
    "# general equilibrium jacobians\n",
    "G = hank.solve_jacobian(ss, unknowns, targets, exogenous, T=T)\n",
    "\n",
    "print(G)"
   ]
  },
  {
   "cell_type": "code",
   "execution_count": 16,
   "metadata": {
    "scrolled": true
   },
   "outputs": [
    {
     "data": {
      "image/png": "[encoded data removed]",
      "text/plain": [
       "<Figure size 432x288 with 1 Axes>"
      ]
     },
     "metadata": {
      "needs_background": "light"
     },
     "output_type": "display_data"
    }
   ],
   "source": [
    "rhos = np.array([0.2, 0.4, 0.6, 0.8, 0.9])\n",
    "\n",
    "drstar = -0.0025 * rhos ** (np.arange(T)[:, np.newaxis])\n",
    "dpi = G['Y']['rstar'] @ drstar\n",
    "\n",
    "plt.plot(10000 * dpi[:21])\n",
    "plt.title(r'Y responses monetary policy shocks')\n",
    "plt.xlabel('quarters')\n",
    "plt.ylabel('bp deviation from ss')\n",
    "plt.show()"
   ]
  },
  {
   "cell_type": "code",
   "execution_count": 17,
   "metadata": {},
   "outputs": [
    {
     "data": {
      "image/png": "[encoded data removed]",
      "text/plain": [
       "<Figure size 432x288 with 1 Axes>"
      ]
     },
     "metadata": {
      "needs_background": "light"
     },
     "output_type": "display_data"
    }
   ],
   "source": [
    "dpi = G['pi']['rstar'] @ drstar\n",
    "\n",
    "plt.plot(10000 * dpi[:21])\n",
    "plt.title(r'Inflation responses monetary policy shocks')\n",
    "plt.xlabel('quarters')\n",
    "plt.ylabel('bp deviation from ss')\n",
    "plt.show()"
   ]
  },
  {
   "cell_type": "code",
   "execution_count": 18,
   "metadata": {},
   "outputs": [
    {
     "data": {
      "image/png": "[encoded data removed]",
      "text/plain": [
       "<Figure size 1152x504 with 8 Axes>"
      ]
     },
     "metadata": {
      "needs_background": "light"
     },
     "output_type": "display_data"
    }
   ],
   "source": [
    "rhos = 0.9\n",
    "drstar = -0.0025 * rhos ** (np.arange(T)[:, np.newaxis])\n",
    "\n",
    "dY = G['Y']['rstar'] @ drstar\n",
    "dC = G['C']['rstar'] @ drstar\n",
    "dN = G['L']['rstar'] @ drstar\n",
    "dB = G['A']['rstar'] @ drstar\n",
    "dT = G['Tax']['rstar'] @ drstar\n",
    "dw = G['w']['rstar'] @ drstar\n",
    "dpi = G['pi']['rstar'] @ drstar\n",
    "dr = G['r']['rstar'] @ drstar\n",
    "\n",
    "plt.rcParams[\"figure.figsize\"] = (16,7)\n",
    "fig, ax = plt.subplots(2, 4)\n",
    "ax[0, 0].plot(100 * dY[:50, :])\n",
    "ax[0, 0].set_title(r'Output $Y$')\n",
    "\n",
    "ax[0, 1].plot(100 * dC[:50, :])\n",
    "ax[0, 1].set_title(r'Consumption $C$')\n",
    "\n",
    "ax[0, 2].plot(100 * np.around(dB[:50, :], decimals=4))  \n",
    "ax[0, 2].set_title(r'Government debt $B$')\n",
    "\n",
    "ax[0, 3].plot(10000 * dT[:50, :])\n",
    "ax[0, 3].set_title(r'Taxes $\\tau$')\n",
    "\n",
    "ax[1, 0].plot(10000 * dw[:50, :])\n",
    "ax[1, 0].set_title(r'Wage $w$')\n",
    "\n",
    "ax[1, 1].plot(10000 * dpi[:50, :])\n",
    "ax[1, 1].set_title(r'Inflation $\\pi$')\n",
    "\n",
    "ax[1, 2].plot(10000 * dr[:50, :])\n",
    "ax[1, 2].set_title(r'Real interest rate $r$')\n",
    "\n",
    "ax[1, 3].plot(10000 * drstar[:50])\n",
    "ax[1, 3].set_title(r'Nominal interest rate $i$')\n",
    "plt.show()"
   ]
  },
  {
   "cell_type": "markdown",
   "metadata": {},
   "source": [
    "# Model with fiscal shock\n",
    "\n",
    "_Ad hoc_, adds a `T_star` to the tax rule. "
   ]
  },
  {
   "cell_type": "code",
   "execution_count": null,
   "metadata": {},
   "outputs": [],
   "source": [
    "@simple\n",
    "def firm(Y, w, Z, pi, mu, kappa):\n",
    "    L = Y / Z\n",
    "    Div = Y - w * L - mu/(mu-1)/(2*kappa) * (1+pi).apply(np.log)**2 * Y\n",
    "    return L, Div\n",
    "\n",
    "\n",
    "@simple\n",
    "def monetary(pi, rstar, phi_pi):\n",
    "    r = (1 + rstar(-1) + phi_pi * pi(-1)) / (1 + pi) - 1\n",
    "    return r\n",
    "\n",
    "\n",
    "@simple\n",
    "def fiscal(r, B,T_star):\n",
    "    Tax = r * B - T_star(-1)\n",
    "    return Tax\n",
    "\n",
    "\n",
    "@simple\n",
    "def mkt_clearing(A, NE, C, L, Y, B, pi, mu, kappa):\n",
    "    asset_mkt = A - B\n",
    "    labor_mkt = NE - L\n",
    "    goods_mkt = Y - C - mu/(mu-1)/(2*kappa) * (1+pi).apply(np.log)**2 * Y\n",
    "    return asset_mkt, labor_mkt, goods_mkt\n",
    "\n",
    "\n",
    "@simple\n",
    "def nkpc(pi, w, Z, Y, r, mu, kappa):\n",
    "    nkpc_res = kappa * (w / Z - 1 / mu) + Y(+1) / Y * (1 + pi(+1)).apply(np.log) / (1 + r(+1))\\\n",
    "               - (1 + pi).apply(np.log)\n",
    "    return nkpc_res\n",
    "\n",
    "\n",
    "blocks = [hh_ext, firm, monetary, fiscal, mkt_clearing, nkpc]\n",
    "hank = create_model(blocks, name=\"One-Asset HANK\")\n",
    "\n",
    "calibration = {'gamma': 1, 'v': 1, 'rho_e': 0.966, 'sd_e': 0.5, 'nE': 7,\n",
    "               'amin': 0, 'amax': 150, 'nA': 500, 'Y': 1.0, 'Z': 1.0, 'pi': 0.0,\n",
    "               'mu': 1.2, 'kappa': 0.1, 'rstar': 0.005, 'phi_pi': 1.5, 'B': 5.6, 'T_star': 0.0}\n",
    "\n",
    "unknowns_ss = {'beta': 0.986, 'phi': 0.8}\n",
    "targets_ss = {'asset_mkt': 0, 'labor_mkt': 0}\n",
    "\n",
    "ss0 = hank_ss.solve_steady_state(calibration, unknowns_ss, targets_ss, solver=\"hybr\")\n",
    "\n",
    "ss = hank.steady_state(ss0)\n",
    "\n",
    "for k in ss0.keys():\n",
    "    assert np.all(np.isclose(ss[k], ss0[k]))\n",
    "    \n",
    "T = 300\n",
    "exogenous = ['rstar', 'Z','T_star']\n",
    "unknowns = ['pi', 'w', 'Y']\n",
    "targets = ['nkpc_res', 'asset_mkt', 'labor_mkt']\n",
    "\n",
    "# general equilibrium jacobians\n",
    "G = hank.solve_jacobian(ss, unknowns, targets, exogenous, T=T)\n",
    "\n",
    "print(G)"
   ]
  },
  {
   "cell_type": "code",
   "execution_count": null,
   "metadata": {
    "scrolled": true
   },
   "outputs": [],
   "source": [
    "rhos = np.array([0.2,0.5, 0.7, 0.9])\n",
    "\n",
    "dtstar = 0.05*rhos ** (np.arange(T)[:, np.newaxis])\n",
    "drstar = 0.0025 * rhos ** (np.arange(T)[:, np.newaxis])\n",
    "\n",
    "dpi = G['pi']['T_star'] @ dtstar\n",
    "\n",
    "plt.plot(10000 * dpi[:21])\n",
    "plt.title(r'Inflation responses fiscal policy shocks')\n",
    "plt.xlabel('quarters')\n",
    "plt.ylabel('bp deviation from ss')\n",
    "plt.show()"
   ]
  },
  {
   "cell_type": "code",
   "execution_count": null,
   "metadata": {
    "scrolled": false
   },
   "outputs": [],
   "source": [
    "dpi = G['pi']['rstar'] @ drstar\n",
    "\n",
    "plt.plot(10000*dpi[:21])\n",
    "plt.title(r'Inflation responses monetary policy shocks')\n",
    "plt.xlabel('quarters')\n",
    "plt.ylabel('bp deviation from ss')\n",
    "plt.show()"
   ]
  },
  {
   "cell_type": "code",
   "execution_count": null,
   "metadata": {},
   "outputs": [],
   "source": [
    "dpi = G['Y']['T_star'] @ dtstar\n",
    "\n",
    "plt.plot(10000 * dpi[:21])\n",
    "plt.title(r'GDP responses fiscal policy shocks')\n",
    "plt.xlabel('quarters')\n",
    "plt.ylabel('bp deviation from ss')\n",
    "plt.show()"
   ]
  },
  {
   "cell_type": "code",
   "execution_count": null,
   "metadata": {},
   "outputs": [],
   "source": [
    "dpi = G['Y']['rstar'] @ drstar\n",
    "\n",
    "plt.plot(10000 * dpi[:21])\n",
    "plt.title(r'GDP responses monetary policy shocks')\n",
    "plt.xlabel('quarters')\n",
    "plt.ylabel('bp deviation from ss')\n",
    "plt.show()"
   ]
  },
  {
   "cell_type": "code",
   "execution_count": null,
   "metadata": {},
   "outputs": [],
   "source": [
    "dpi = G['r']['T_star'] @ dtstar\n",
    "\n",
    "plt.plot(10000 * dpi[:21])\n",
    "plt.title(r'r responses fiscal policy shocks')\n",
    "plt.xlabel('quarters')\n",
    "plt.ylabel('bp deviation from ss')\n",
    "plt.show()"
   ]
  },
  {
   "cell_type": "code",
   "execution_count": null,
   "metadata": {},
   "outputs": [],
   "source": [
    "dpi = G['r']['rstar'] @ drstar\n",
    "\n",
    "plt.plot(10000 * dpi[:21])\n",
    "plt.title(r'r responses monetary policy shocks')\n",
    "plt.xlabel('quarters')\n",
    "plt.ylabel('bp deviation from ss')\n",
    "plt.show()"
   ]
  },
  {
   "cell_type": "code",
   "execution_count": null,
   "metadata": {},
   "outputs": [],
   "source": []
  }
 ],
 "metadata": {
  "@webio": {
   "lastCommId": null,
   "lastKernelId": null
  },
  "kernelspec": {
   "display_name": "Python 3",
   "language": "python",
   "name": "python3"
  },
  "language_info": {
   "codemirror_mode": {
    "name": "ipython",
    "version": 3
   },
   "file_extension": ".py",
   "mimetype": "text/x-python",
   "name": "python",
   "nbconvert_exporter": "python",
   "pygments_lexer": "ipython3",
   "version": "3.7.6"
  }
 },
 "nbformat": 4,
 "nbformat_minor": 5
}
