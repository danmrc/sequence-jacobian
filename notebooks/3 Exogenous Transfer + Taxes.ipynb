{
 "cells": [
  {
   "cell_type": "code",
   "execution_count": 1,
   "metadata": {},
   "outputs": [],
   "source": [
    "import copy\n",
    "import numpy as np\n",
    "import matplotlib.pyplot as plt\n",
    "import scipy as sp\n",
    "\n",
    "from sequence_jacobian import het, simple, create_model              # functions\n",
    "from sequence_jacobian import interpolate, grids, misc, estimation   # modules\n",
    "from numba import vectorize\n",
    "\n",
    "def bissection_onestep(f,a,b):\n",
    "    if not np.all(f(a)*f(b) <= 0):\n",
    "        raise ValueError(\"No sign change\")\n",
    "    else:\n",
    "        mid_point = (a + b)/2\n",
    "        mid_value = f(mid_point)\n",
    "        new_a = a\n",
    "        new_b = b\n",
    "        indxs_a = np.nonzero(mid_value*f(b) <= 0)\n",
    "        indxs_b = np.nonzero(mid_value*f(a) <= 0)\n",
    "        if indxs_a[0].size != 0:\n",
    "            new_a[indxs_a] = mid_point[indxs_a]\n",
    "        if indxs_b[0].size != 0:\n",
    "            new_b[indxs_b] = mid_point[indxs_b]\n",
    "        return new_a,new_b\n",
    "\n",
    "def vec_bissection(f,a,b,iter_max = 100,tol = 1E-11):\n",
    "    i = 1\n",
    "    err = 1\n",
    "    while i < iter_max and err > tol:\n",
    "        a,b = bissection_onestep(f,a,b)\n",
    "        err = np.max(np.abs(a - b))\n",
    "        i += 1\n",
    "    if i >= iter_max:\n",
    "        raise Error(\"No convergence\")\n",
    "    return a\n",
    "\n",
    "def consumption(c,we,rest,gamma,v,phi,tauc,taun):\n",
    "    return (1 + tauc) * c - (1 - taun) * we * ((1 - taun) * we / ((1 + tauc) * phi * c ** gamma)) ** (1/v) - rest\n",
    "\n",
    "def household_guess(a_grid,e_grid,r,w,gamma,T,taun):\n",
    "    wel = (1 + r) * a_grid[np.newaxis,:] + (1 - taun) * w * e_grid[:,np.newaxis] + T[:,np.newaxis]\n",
    "    V_prime = (1 + r) * (wel * 0.1) ** (-gamma)\n",
    "    return V_prime"
   ]
  },
  {
   "cell_type": "code",
   "execution_count": 2,
   "metadata": {},
   "outputs": [
    {
     "name": "stdout",
     "output_type": "stream",
     "text": [
      "<HetBlock 'household'>\n",
      "Inputs: ['a_grid', 'e_grid', 'r', 'w', 'T', 'beta', 'gamma', 'v', 'phi', 'tauc', 'taun', 'Pi']\n",
      "Macro outputs: ['A', 'C', 'N']\n",
      "Micro outputs: ['D', 'Dbeg', 'Pi', 'V_prime', 'a', 'c', 'n']\n",
      "<HetBlock 'household' with hetinput 'make_grid_transfers'>\n",
      "Inputs: ['r', 'w', 'beta', 'gamma', 'v', 'phi', 'tauc', 'taun', 'rho_e', 'sd_e', 'nE', 'amin', 'amax', 'nA', 'Div', 'Transfer']\n",
      "<HetBlock 'household' with hetinput 'make_grid_transfers' and with hetoutput `labor_supply'>\n",
      "Outputs: ['A', 'C', 'N', 'NE']\n",
      "Inputs: ['r', 'w', 'beta', 'gamma', 'v', 'phi', 'tauc', 'taun', 'rho_e', 'sd_e', 'nE', 'amin', 'amax', 'nA', 'Div', 'Transfer']\n"
     ]
    }
   ],
   "source": [
    "@het(exogenous = 'Pi',policy = 'a', backward = 'V_prime', backward_init = household_guess)\n",
    "def household(V_prime_p,a_grid,e_grid,r,w,T,beta,gamma,v,phi,tauc,taun):\n",
    "\n",
    "    we = w * e_grid\n",
    "\n",
    "    c_prime = (beta * V_prime_p) ** (-1/gamma) # c_prime is the new guess for c_t\n",
    "    n_prime = ((1 - taun) * we[:,np.newaxis] / ((1 + tauc) * phi * c_prime ** gamma)) ** (1/v)\n",
    "\n",
    "    new_grid = ((1 + tauc) * c_prime + a_grid[np.newaxis,:] - (1 - taun) * we[:,np.newaxis] * n_prime \n",
    "                - T[:,np.newaxis])\n",
    "    wel = (1 + r) * a_grid\n",
    "\n",
    "    c = interpolate.interpolate_y(new_grid,wel,c_prime)\n",
    "    n = interpolate.interpolate_y(new_grid,wel,n_prime)\n",
    "\n",
    "    a = wel + (1 - taun) * we[:,np.newaxis] * n + T[:,np.newaxis] - (1 + tauc) * c\n",
    "    V_prime = (1 + r) * c ** (-gamma)\n",
    "\n",
    "    # checks for violations of the condition of minimal assets required and fixes it\n",
    "\n",
    "    indexes_asset = np.nonzero(a < a_grid[0]) #first dimension: labor grid, second dimension: asset grid\n",
    "    a[indexes_asset] = a_grid[0]\n",
    "\n",
    "    if indexes_asset[0].size != 0 and indexes_asset[1].size !=0:\n",
    "\n",
    "        aa = np.zeros((indexes_asset[0].size)) + 1E-5\n",
    "        rest = wel[indexes_asset[1]] - a_grid[0] + T[indexes_asset[0]]\n",
    "        bb = c[indexes_asset] + 0.5\n",
    "        \n",
    "        c[indexes_asset] = vec_bissection(lambda c : consumption(c,we[indexes_asset[0]],\n",
    "                                                                 rest,gamma,v,phi,tauc,taun),aa,bb)\n",
    "        n[indexes_asset] = ((1 - taun) * we[indexes_asset[0]] \n",
    "                            / ((1 + tauc) * phi * c[indexes_asset] ** gamma)) ** (1/v)\n",
    "        V_prime[indexes_asset] = (1 + r) * (c[indexes_asset]) ** (-gamma)\n",
    "\n",
    "    return V_prime,a,c,n\n",
    "\n",
    "print(household)\n",
    "print(f'Inputs: {household.inputs}')\n",
    "print(f'Macro outputs: {household.outputs}')\n",
    "print(f'Micro outputs: {household.internals}')\n",
    "\n",
    "def make_grid(rho_e, sd_e, nE, amin, amax, nA):\n",
    "    e_grid, pi_e, Pi = grids.markov_rouwenhorst(rho=rho_e, sigma=sd_e, N=nE)\n",
    "    a_grid = grids.agrid(amin=amin, amax=amax, n=nA)\n",
    "    return e_grid, Pi, a_grid, pi_e\n",
    "\n",
    "def transfers(pi_e, Div, Transfer, e_grid):\n",
    "    # hardwired incidence rules are proportional to skill; scale does not matter \n",
    "    tax_rule, div_rule = np.ones(e_grid.size), e_grid #np.ones(e_grid.size)\n",
    "    div = Div / np.sum(pi_e * div_rule) * div_rule\n",
    "    transfer =  Transfer / np.sum(pi_e * tax_rule) * tax_rule \n",
    "    T = div + transfer\n",
    "    return T\n",
    "\n",
    "household_inp = household.add_hetinputs([make_grid,transfers])\n",
    "\n",
    "print(household_inp)\n",
    "print(f'Inputs: {household_inp.inputs}')\n",
    "\n",
    "def labor_supply(n, e_grid):\n",
    "    ne = e_grid[:, np.newaxis] * n\n",
    "    return ne\n",
    "\n",
    "hh_ext = household_inp.add_hetoutputs([labor_supply])\n",
    "\n",
    "print(hh_ext)\n",
    "print(f'Outputs: {hh_ext.outputs}')\n",
    "print(f'Inputs: {household_inp.inputs}')"
   ]
  },
  {
   "cell_type": "markdown",
   "metadata": {},
   "source": [
    "The rest of the code is identical to the HANK example in their notebook on their repo:"
   ]
  },
  {
   "cell_type": "code",
   "execution_count": 3,
   "metadata": {},
   "outputs": [],
   "source": [
    "@simple\n",
    "def firm(Y, w, Z, pi, mu, kappa):\n",
    "    L = Y / Z\n",
    "    Div = Y - w * L - mu / (mu - 1) / (2 * kappa) * (1 + pi).apply(np.log) ** 2 * Y\n",
    "    return L, Div\n",
    "\n",
    "@simple\n",
    "def monetary(pi, rstar, phi_pi):\n",
    "    r = (1 + rstar(-1) + phi_pi * pi(-1)) / (1 + pi) - 1\n",
    "    i = rstar\n",
    "    return r, i\n",
    "\n",
    "@simple\n",
    "def fiscal(r, Transfer, B, C, L, tauc, taun, w):\n",
    "    govt_res = Transfer + (1 + r) * B(-1) - tauc * C - taun * w * L - B\n",
    "    return govt_res\n",
    "\n",
    "@simple\n",
    "def mkt_clearing(A, NE, C, L, Y, B, pi, mu, kappa):\n",
    "    asset_mkt = A - B\n",
    "    labor_mkt = NE - L\n",
    "    goods_mkt = Y - C - mu / (mu - 1) / (2 * kappa) * (1 + pi).apply(np.log) ** 2 * Y\n",
    "    return asset_mkt, labor_mkt, goods_mkt\n",
    "\n",
    "@simple\n",
    "def nkpc_ss(Z, mu):\n",
    "    w = Z / mu\n",
    "    return w"
   ]
  },
  {
   "cell_type": "code",
   "execution_count": 4,
   "metadata": {
    "scrolled": true
   },
   "outputs": [
    {
     "name": "stdout",
     "output_type": "stream",
     "text": [
      "<Model 'One-Asset HANK SS'>\n",
      "Inputs: ['beta', 'gamma', 'v', 'phi', 'tauc', 'taun', 'rho_e', 'sd_e', 'nE', 'amin', 'amax', 'nA', 'Transfer', 'Y', 'Z', 'pi', 'mu', 'kappa', 'rstar', 'phi_pi', 'B']\n",
      "Outputs: ['A', 'C', 'N', 'NE', 'L', 'Div', 'r', 'i', 'govt_res', 'w', 'asset_mkt', 'labor_mkt', 'goods_mkt']\n"
     ]
    }
   ],
   "source": [
    "blocks_ss = [hh_ext, firm, monetary,fiscal, nkpc_ss, mkt_clearing]\n",
    "\n",
    "hank_ss = create_model(blocks_ss, name = \"One-Asset HANK SS\")\n",
    "\n",
    "print(hank_ss)\n",
    "print(f\"Inputs: {hank_ss.inputs}\")\n",
    "print(f\"Outputs: {hank_ss.outputs}\")"
   ]
  },
  {
   "cell_type": "code",
   "execution_count": 5,
   "metadata": {},
   "outputs": [],
   "source": [
    "calibration = {'gamma': 1, 'v': 2, 'rho_e': 0.966, 'sd_e': 0.5, 'nE': 7,\n",
    "               'amin': 0, 'amax': 150, 'nA': 500, 'Y': 1.0, 'Z': 1.0, 'pi': 0.0,\n",
    "               'mu': 1.2, 'kappa': 0.1, 'rstar': 0.005, 'phi_pi': 0, 'B': 6, 'tauc': 0.1, 'taun': 0.0}\n",
    "\n",
    "unknowns_ss = {'beta': 0.986, 'phi': 0.8, 'Transfer': 0.05}\n",
    "targets_ss = {'asset_mkt': 0, 'labor_mkt': 0, 'govt_res': 0}\n",
    "\n",
    "ss0 = hank_ss.solve_steady_state(calibration, unknowns_ss, targets_ss, solver = \"hybr\")"
   ]
  },
  {
   "cell_type": "code",
   "execution_count": 14,
   "metadata": {},
   "outputs": [
    {
     "name": "stdout",
     "output_type": "stream",
     "text": [
      "PARAMETERS\n",
      "Discount factor:          0.988      Intertemporal elasticity: 1\n",
      "Labor supply elasticity:  0.5        Labor disutility:         0.779\n",
      "Goods substitutability:   6.0        Markup:                   1.2\n",
      "Phillips curve slope:     0.1        Taylor inflation:         0\n",
      "Consumption tax rate:     0.1        Labor tax rate:           0.0\n",
      "\n",
      "STEADY STATE\n",
      "Output:                   0.971      Government debt:          6.0\n",
      "Hours:                    0.971      Transfers:                0.07\n",
      "Consumption:              1.0        Dividends:                0.167\n",
      "Wage:                     0.833      Marginal cost:            0.833\n",
      "Inflation:                0.0        Consumption tax revenue:  0.1\n",
      "Nominal interest rate:    0.005      Labor tax revenue:        0.0\n",
      "Real interest rate:       0.005      Debt servicing cost:      0.03\n",
      "\n",
      "MARKET CLEARING\n",
      "Bond market:             -3.3e-12    Labor market:             1.4e-13\n",
      "Goods market (resid):    -4.9e-09    Government budget:        4.0e-14\n"
     ]
    }
   ],
   "source": [
    "# Show steady state\n",
    "eps = ss0['mu'] / (ss0['mu'] - 1)\n",
    "print(\"PARAMETERS\")\n",
    "print(f\"Discount factor:         {ss0['beta']: .3}\", f\"     Intertemporal elasticity: {ss0['gamma']}\")\n",
    "print(f\"Labor supply elasticity:  {1 / ss0['v']}\", f\"       Labor disutility:        {ss0['phi']: .3}\")\n",
    "print(f\"Goods substitutability:  {eps : .3}\", f\"       Markup:                  {ss0['mu']: .3}\")\n",
    "print(f\"Phillips curve slope:    {ss0['kappa']: .3}\", f\"       Taylor inflation:         {ss0['phi_pi']}\")\n",
    "print(f\"Consumption tax rate:    {ss0['tauc']: .3}\", f\"       Labor tax rate:          {ss0['taun']: .3}\")\n",
    "\n",
    "print()\n",
    "print(\"STEADY STATE\")\n",
    "print(f\"Output:                  {ss0['N'] * ss0['Z']: .3}\", f\"     Government debt:         {ss0['A']: .3}\")\n",
    "print(f\"Hours:                   {ss0['N']: .3}\", f\"     Transfers:               {ss0['Transfer']: .3}\")\n",
    "print(f\"Consumption:             {ss0['C']: .3}\", f\"       Dividends:               {ss0['Div']: .3}\")\n",
    "print(f\"Wage:                    {ss0['w']: .3}\", f\"     Marginal cost:           {1 / ss0['mu']: .3}\")\n",
    "print(f\"Inflation:               {ss0['pi']: .3}\", f\"       Consumption tax revenue: {ss0['tauc']*ss0['C']: .3}\")\n",
    "print(f\"Nominal interest rate:   {ss0['r']: .3}\", f\"     Labor tax revenue:       {ss0['taun']*ss0['N']*ss0['w']: .3}\")  \n",
    "print(f\"Real interest rate:      {ss0['r']: .3}\", f\"     Debt servicing cost:     {ss0['r'] * ss0['A']: .3}\")\n",
    "\n",
    "print()\n",
    "print(\"MARKET CLEARING\")\n",
    "print(f\"Bond market:             {ss0['asset_mkt']: 0.1e}\", f\"   Labor market:            {ss0['labor_mkt']: 0.1e}\")\n",
    "print(f\"Goods market (resid):    {ss0['goods_mkt']: 0.1e}\", f\"   Government budget:       {ss0['govt_res']: 0.1e}\",)\n"
   ]
  },
  {
   "cell_type": "code",
   "execution_count": 68,
   "metadata": {},
   "outputs": [],
   "source": [
    "#plt.plot(ss0.internals['household']['a_grid'], ss0.internals['household']['n'].T)\n",
    "#plt.xlabel('Assets'), plt.ylabel('Labor supply')\n",
    "#plt.show()"
   ]
  },
  {
   "cell_type": "code",
   "execution_count": 40,
   "metadata": {},
   "outputs": [
    {
     "name": "stdout",
     "output_type": "stream",
     "text": [
      "<SimpleBlock 'monetary'>\n",
      "<SimpleBlock 'nkpc'>\n",
      "<SimpleBlock 'firm'>\n",
      "<HetBlock 'household' with hetinput 'make_grid_transfers' and with hetoutput `labor_supply'>\n",
      "<SimpleBlock 'fiscal'>\n",
      "<SimpleBlock 'mkt_clearing'>\n"
     ]
    }
   ],
   "source": [
    "@simple\n",
    "def nkpc(pi, w, Z, Y, r, mu, kappa):\n",
    "    nkpc_res = kappa * (w / Z - 1 / mu) + Y(+1) / Y * (1 + pi(+1)).apply(np.log) / (1 + r(+1))\\\n",
    "               - (1 + pi).apply(np.log)\n",
    "    return nkpc_res\n",
    "\n",
    "blocks = [hh_ext, firm, monetary, fiscal, mkt_clearing, nkpc]\n",
    "hank = create_model(blocks, name=\"One-Asset HANK\")\n",
    "\n",
    "print(*hank.blocks, sep='\\n')"
   ]
  },
  {
   "cell_type": "code",
   "execution_count": 41,
   "metadata": {},
   "outputs": [],
   "source": [
    "ss = hank.steady_state(ss0)\n",
    "\n",
    "for k in ss0.keys():\n",
    "    assert np.all(np.isclose(ss[k], ss0[k]))"
   ]
  },
  {
   "cell_type": "code",
   "execution_count": 42,
   "metadata": {},
   "outputs": [
    {
     "name": "stdout",
     "output_type": "stream",
     "text": [
      "<JacobianDict outputs=['pi', 'w', 'Y', 'B', 'A', 'C', 'N', 'NE', 'L', 'Div', 'r', 'i', 'govt_res', 'asset_mkt', 'labor_mkt', 'goods_mkt', 'nkpc_res'], inputs=['rstar', 'Transfer', 'Z', 'tauc']>\n"
     ]
    }
   ],
   "source": [
    "T = 300\n",
    "exogenous = ['rstar', 'Transfer', 'Z', 'tauc']\n",
    "unknowns = ['pi', 'w', 'Y', 'B']\n",
    "targets = ['nkpc_res', 'asset_mkt', 'labor_mkt', 'govt_res']\n",
    "\n",
    "# general equilibrium jacobians\n",
    "G = hank.solve_jacobian(ss, unknowns, targets, exogenous, T=T)\n",
    "\n",
    "print(G)"
   ]
  },
  {
   "cell_type": "code",
   "execution_count": 234,
   "metadata": {},
   "outputs": [
    {
     "data": {
      "image/png": "[encoded data removed]",
      "text/plain": [
       "<Figure size 1152x504 with 8 Axes>"
      ]
     },
     "metadata": {
      "needs_background": "light"
     },
     "output_type": "display_data"
    }
   ],
   "source": [
    "# Impulse response functions\n",
    "rhos = 0.9\n",
    "drstar = -0.002 * rhos ** (np.arange(T)[:, np.newaxis])\n",
    "dtstar = 0.001* rhos ** (np.arange(T)[:, np.newaxis])\n",
    "dtauc = - 0.0013 * rhos ** (np.arange(T)[:, np.newaxis])\n",
    "\n",
    "dY_r = G['Y']['rstar'] @ drstar\n",
    "dC_r = G['C']['rstar'] @ drstar\n",
    "dN_r = G['L']['rstar'] @ drstar\n",
    "dB_r = G['A']['rstar'] @ drstar\n",
    "dw_r = G['w']['rstar'] @ drstar\n",
    "dpi_r = G['pi']['rstar'] @ drstar\n",
    "dr_r = G['r']['rstar'] @ drstar\n",
    "di_r = G['i']['rstar'] @ drstar\n",
    "#dT_r = G['Transfer']['rstar'] @ drstar\n",
    "\n",
    "dY_t = G['Y']['Transfer'] @ dtstar\n",
    "dC_t = G['C']['Transfer'] @ dtstar\n",
    "dN_t = G['L']['Transfer'] @ dtstar\n",
    "dB_t = G['A']['Transfer'] @ dtstar\n",
    "dw_t = G['w']['Transfer'] @ dtstar\n",
    "dpi_t = G['pi']['Transfer'] @ dtstar\n",
    "dr_t = G['r']['Transfer'] @ dtstar\n",
    "#dit = G['i']['Transfer'] @ dtstar\n",
    "\n",
    "dY_c = G['Y']['tauc'] @ dtauc\n",
    "dC_c = G['C']['tauc'] @ dtauc\n",
    "dN_c = G['L']['tauc'] @ dtauc\n",
    "dB_c = G['A']['tauc'] @ dtauc\n",
    "dw_c = G['w']['tauc'] @ dtauc\n",
    "dpi_c = G['pi']['tauc'] @ dtauc\n",
    "dr_c = G['r']['tauc'] @ dtauc\n",
    "#dic = G['i']['tauc'] @ dtauc\n",
    "\n",
    "plt.rcParams[\"figure.figsize\"] = (16,7)\n",
    "fig, ax = plt.subplots(2, 4)\n",
    "\n",
    "ax[0, 0].set_title(r'Output $Y$')\n",
    "#l1, = ax[0, 0].plot(100 * dY_r[:50, :])\n",
    "l1, = ax[0, 0].plot(100 * dY_c[:50, :])\n",
    "l2, = ax[0, 0].plot(100 * dY_t[:50, :],'-.')\n",
    "\n",
    "ax[0, 1].set_title(r'Consumption $C$')\n",
    "#ax[0, 1].plot(100 * dC_r[:50, :])\n",
    "ax[0, 1].plot(100 * dC_c[:50, :])\n",
    "ax[0, 1].plot(100 * dC_t[:50, :],'-.')\n",
    "\n",
    "ax[0, 2].set_title(r'Government debt $B$')\n",
    "#ax[0, 2].plot(100 * dB_r[:50, :])\n",
    "ax[0, 2].plot(100 * dB_c[:50, :])\n",
    "ax[0, 2].plot(100 * dB_t[:50, :],'-.')\n",
    "\n",
    "ax[0, 3].set_title(r'Transfer $\\tau$')\n",
    "ax[0, 3].plot(100 * np.zeros(50))\n",
    "ax[0, 3].plot(100 * dtstar[:50],'-.')\n",
    "\n",
    "ax[1, 0].set_title(r'Wage $w$')\n",
    "#ax[1, 0].plot(100 * dw_r[:50, :])\n",
    "ax[1, 0].plot(100 * dw_c[:50, :])\n",
    "ax[1, 0].plot(100 * dw_t[:50, :],'-.')\n",
    "\n",
    "ax[1, 1].set_title(r'Inflation $\\pi$')\n",
    "#ax[1, 1].plot(100 * dpi_r[:50, :])\n",
    "ax[1, 1].plot(100 * dpi_c[:50, :])\n",
    "ax[1, 1].plot(100 * dpi_t[:50, :],'-.')\n",
    "\n",
    "ax[1, 2].set_title(r'Real interest rate $r$')\n",
    "#ax[1, 2].plot(100 * dr_r[:50, :])\n",
    "ax[1, 2].plot(100 * dr_c[:50, :])\n",
    "ax[1, 2].plot(100 * dr_t[:50, :],'-.')\n",
    "\n",
    "#ax[1, 3].set_title(r'Nominal interest rate $i$')\n",
    "#ax[1, 3].plot(100 * drstar[:50])\n",
    "#ax[1, 3].plot(100 * np.zeros(50), '-.')\n",
    "\n",
    "ax[1, 3].set_title(r'Consumption tax $\\tau_c$')\n",
    "ax[1, 3].plot(100 * dtauc[:50])\n",
    "ax[1, 3].plot(100 * np.zeros(50))\n",
    "\n",
    "\n",
    "#ax.legend((l1, l2), ('MonPol', 'Check'), loc='upper right', shadow=True)\n",
    "plt.show()"
   ]
  },
  {
   "cell_type": "code",
   "execution_count": 235,
   "metadata": {},
   "outputs": [
    {
     "data": {
      "text/plain": [
       "array([[0.14523843]])"
      ]
     },
     "execution_count": 235,
     "metadata": {},
     "output_type": "execute_result"
    }
   ],
   "source": [
    "100 * dYc[:1, :] - dYt[:1, :]"
   ]
  },
  {
   "cell_type": "code",
   "execution_count": null,
   "metadata": {},
   "outputs": [],
   "source": []
  }
 ],
 "metadata": {
  "@webio": {
   "lastCommId": null,
   "lastKernelId": null
  },
  "kernelspec": {
   "display_name": "Python 3",
   "language": "python",
   "name": "python3"
  },
  "language_info": {
   "codemirror_mode": {
    "name": "ipython",
    "version": 3
   },
   "file_extension": ".py",
   "mimetype": "text/x-python",
   "name": "python",
   "nbconvert_exporter": "python",
   "pygments_lexer": "ipython3",
   "version": "3.7.6"
  }
 },
 "nbformat": 4,
 "nbformat_minor": 5
}
