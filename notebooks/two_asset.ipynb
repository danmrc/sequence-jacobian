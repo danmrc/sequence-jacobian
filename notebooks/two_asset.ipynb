{
 "cells": [
  {
   "cell_type": "markdown",
   "metadata": {},
   "source": [
    "# Tutorial 4: A two-asset HANK model\n",
    "\n",
    "In this notebook we solve the two-asset HANK model from Auclert, Bardóczy, Rognlie, Straub (2021): \"Using the Sequence-Space Jacobian to Solve and Estimate Heterogeneous-Agent Models\" ([link to paper](https://www.bencebardoczy.com/publication/sequence-jacobian/sequence-jacobian.pdf)).\n",
    "\n",
    "New concepts:\n",
    "- **Solved block**: an extension of simple blocks that enables much more efficient DAG representations of large macro models.\n",
    "- **Re-using saved Jacobians**: as the cost of these computations becomes non-trivial, avoiding redundancy becomes key.\n",
    "- **Fine-tuning options**: how to access and modify various options for each (block, method) pair\n",
    "\n",
    "For more examples and information on the SSJ toolkit, please visit our [GitHub page](https://github.com/shade-econ/sequence-jacobian)."
   ]
  },
  {
   "cell_type": "code",
   "execution_count": 1,
   "metadata": {},
   "outputs": [],
   "source": [
    "import numpy as np\n",
    "import matplotlib.pyplot as plt\n",
    "\n",
    "from sequence_jacobian import simple, solved, combine, create_model  # functions\n",
    "from sequence_jacobian import grids, hetblocks                       # modules"
   ]
  },
  {
   "cell_type": "markdown",
   "metadata": {},
   "source": [
    "## 1 Model description\n",
    "\n",
    "The household problem is characterized by the Bellman equation\n",
    "$$\n",
    "\\begin{align} \\tag{1}\n",
    "V_t(e, b_{-}, a_{-}) = \\max_{c, b, a} &\\left\\{\\frac{c^{1-\\sigma}}{1-\\sigma} + \\beta \\mathbb{E}_t V_{t+1}(e', b, a) \\right\\}\n",
    "\\\\\n",
    "c + a + b &= z_t(e) + (1 + r_t^a)a_{-} + (1 + r_t^b)b_{-} - \\Psi(a, a_{-}) \n",
    "\\\\\n",
    "a &\\geq \\underline{a}, \\quad b \\geq \\underline{b},\n",
    "\\end{align}\n",
    "$$\n",
    "\n",
    "where $z_t(e)$ is labor income and the adjustment cost function is specified as\n",
    "\n",
    "$$\n",
    "\\Psi(a, a_{-}) =  \\frac{\\chi_1}{\\chi_2}\\left|\\frac{a - (1 + r_t^a) a_{-}}{(1 + r_{t}^a) a_{-} + \\chi_0}\\right|^{\\chi_2} \\left[(1 + r_t^a) a_{-} + \\chi_0 \\right],\n",
    "$$\n",
    "\n",
    "with $\\chi_0, \\chi_1 > 0$ and $\\chi_2 > 1.$ For the full description of the model, including the problems of the other agents, please see appendix B.3 of the paper."
   ]
  },
  {
   "cell_type": "markdown",
   "metadata": {},
   "source": [
    "We embed this household block in a New Keynesian model with sticky prices, sticky wages, and capital adjustment costs. Thanks to the **solved blocks** (in green), we can write a DAG for this model in just 3 unknowns $(r, w, Y)$ and 3 targets, asset market clearing, Fisher equation, wage Phillips curve."
   ]
  },
  {
   "cell_type": "markdown",
   "metadata": {},
   "source": [
    "## 2 Define solved blocks\n",
    "\n",
    "Solved blocks are miniature models embedded as blocks inside of our larger model. Like simple blocks, solved blocks correspond to aggregate equilibrium conditions: they map sequences of aggregate inputs directly into sequences of aggregate outputs. The difference is that in the case of simple blocks, this mapping has to be analytical, while solved blocks are designed to accommodate implicit relationships that can only be evaluated numerically. \n",
    "\n",
    "Such implicit mappings between variables become more common as macro complexity increases. Solved blocks are a valuable tool to simplify the DAG of large macro models."
   ]
  },
  {
   "cell_type": "markdown",
   "metadata": {},
   "source": [
    "### 2.1 Price setting (NKPC-p)\n",
    "The Phillips curve characterizes $(\\pi)$ conditional on $(Y, mc, r):$ \n",
    "\n",
    "$$\n",
    "\\log(1+\\pi_t) = \\kappa_p \\left(mc_t - \\frac{1}{\\mu_p} \\right) + \\frac{1}{1+r_{t+1}} \\frac{Y_{t+1}}{Y_t} \\log(1+\\pi_{t+1})\n",
    "$$\n",
    "\n",
    "Inflation shows up with two different time displacements, which means that inflation in any given period depends on the entire sequence of $(Y, mc, r)$. Simple blocks are not meant to represent such relationships. Instead, we write a function that returns the residual of the equation, and use the decorator `@solved` to make it into a `SolvedBlock`."
   ]
  },
  {
   "cell_type": "code",
   "execution_count": 2,
   "metadata": {
    "scrolled": false
   },
   "outputs": [],
   "source": [
    "@solved(unknowns={'pi': (-0.1, 0.1)}, targets=['nkpc'], solver=\"brentq\")\n",
    "def pricing_solved(pi, mc, r, Y, kappap, mup):\n",
    "    nkpc = kappap * (mc - 1/mup) + Y(+1) / Y * (1 + pi(+1)).apply(np.log) / \\\n",
    "           (1 + r(+1)) - (1 + pi).apply(np.log)\n",
    "    return nkpc"
   ]
  },
  {
   "cell_type": "markdown",
   "metadata": {},
   "source": [
    "When our routines encounter a solved block in `blocks`, they compute its Jacobian via the the implicit function theorem, as if it was a model on its own. Given the Jacobian, the rest of the code applies without modification. "
   ]
  },
  {
   "cell_type": "markdown",
   "metadata": {},
   "source": [
    "### 2.2 Equity price (equity & dividend)\n",
    "The no arbitrage condition characterizes $(p)$ conditional on $(d, p, r).$\n",
    "\n",
    "$$\n",
    "p_t = \\frac{d_{t+1} + p_{t+1}}{1 + r_{t+1}}\n",
    "$$"
   ]
  },
  {
   "cell_type": "code",
   "execution_count": 3,
   "metadata": {
    "scrolled": true
   },
   "outputs": [],
   "source": [
    "@solved(unknowns={'p': (5, 15)}, targets=['equity'], solver=\"brentq\")\n",
    "def arbitrage_solved(div, p, r):\n",
    "    equity = div(+1) + p(+1) - p * (1 + r(+1))\n",
    "    return equity"
   ]
  },
  {
   "cell_type": "markdown",
   "metadata": {},
   "source": [
    "### 2.3 Investment with adjustment costs (prod)\n",
    "\n",
    "Sometimes multiple equilibrium conditions can be combined in a self-contained solved block. Investment subject to capital adjustment costs is such a case. In particular, we can use the following four equations to solve for $(K, Q)$ conditional on $(Y, w, r)$.\n",
    " \n",
    " - Production:\n",
    " \n",
    " $$\n",
    " Y_t = Z_t K_{t-1}^\\alpha N_t^{1-\\alpha}\n",
    " $$\n",
    " \n",
    " - Labor demand:\n",
    " \n",
    " $$\n",
    " w_t = (1-\\alpha)\\frac{Y_t}{N_t} mc_t\n",
    " $$\n",
    " \n",
    " - Investment equation:\n",
    "\n",
    "$$\n",
    "Q_t = 1 + \\frac{1}{\\delta \\epsilon_I}\\left(\\frac{K_t-K_{t-1}}{K_{t-1}}\\right)\n",
    "$$\n",
    "\n",
    "- Valuation equation\n",
    "\n",
    "$$\n",
    "(1+r_{t})Q_{t} = \\alpha Z_{t+1} \\left(\\frac{N_{t+1}}{K_t}\\right)^{1-\\alpha} mc_{t+1} - \\left[\\frac{K_{t+1}}{K_t} - (1-\\delta) + \\frac{1}{2\\delta \\epsilon_I}\\left(\\frac{K_{t+1} - K_t}{K_t}\\right)^2\\right] + \\frac{K_{t+1}}{K_t}Q_{t+1}\n",
    "$$"
   ]
  },
  {
   "cell_type": "markdown",
   "metadata": {},
   "source": [
    "Solved blocks that contain multiple simple blocks have to be initialized with the `CombinedBlock.solved` method instead of the decorator `@solved`."
   ]
  },
  {
   "cell_type": "code",
   "execution_count": 4,
   "metadata": {},
   "outputs": [],
   "source": [
    "@simple\n",
    "def labor(Y, w, K, Z, alpha):\n",
    "    N = (Y / Z / K(-1) ** alpha) ** (1 / (1 - alpha))\n",
    "    mc = w * N / (1 - alpha) / Y\n",
    "    return N, mc\n",
    "\n",
    "\n",
    "@simple\n",
    "def investment(Q, K, r, N, mc, Z, delta, epsI, alpha):\n",
    "    inv = (K / K(-1) - 1) / (delta * epsI) + 1 - Q\n",
    "    val = alpha * Z(+1) * (N(+1) / K) ** (1 - alpha) * mc(+1) -\\\n",
    "        (K(+1) / K - (1 - delta) + (K(+1) / K - 1) ** 2 / (2 * delta * epsI)) +\\\n",
    "        K(+1) / K * Q(+1) - (1 + r(+1)) * Q\n",
    "    return inv, val\n",
    "\n",
    "\n",
    "production = combine([labor, investment])                              # create combined block\n",
    "production_solved = production.solved(unknowns={'Q': 1., 'K': 10.},    # turn it into solved block\n",
    "                                      targets=['inv', 'val'],\n",
    "                                      solver='broyden_custom')"
   ]
  },
  {
   "cell_type": "markdown",
   "metadata": {},
   "source": [
    "## 3 Build DAGs\n",
    "\n",
    "One for transition dynamics (pictured above) and one for calibrating the steady state.\n",
    "\n",
    "### Step 1: Adapt HA block\n",
    "\n",
    "We developed an efficient backward iteration function to solve the Bellman equation in (1). Although we view this as a contribution on its own, discussing the algorithm goes beyond the scope of this notebook. If you are interested in how we solve a two-asset model with convex portfolio-adjustment costs in discrete time, please see appendix E of the paper for a detailed description and `sequence_jacobian/hetblocks/hh_twoasset.py` for the implementation.\n",
    "\n",
    "Here, we take this generic two-asset model off the shelf, and embed it in our New Keynesian model with the help of two hetinputs."
   ]
  },
  {
   "cell_type": "code",
   "execution_count": 5,
   "metadata": {},
   "outputs": [],
   "source": [
    "def make_grids(bmax, amax, kmax, nB, nA, nK, nZ, rho_z, sigma_z):\n",
    "    b_grid = grids.agrid(amax=bmax, n=nB)\n",
    "    a_grid = grids.agrid(amax=amax, n=nA)\n",
    "    k_grid = grids.agrid(amax=kmax, n=nK)[::-1].copy()\n",
    "    e_grid, _, Pi = grids.markov_rouwenhorst(rho=rho_z, sigma=sigma_z, N=nZ)\n",
    "    return b_grid, a_grid, k_grid, e_grid, Pi\n",
    "\n",
    "\n",
    "def income(e_grid, tax, w, N):\n",
    "    z_grid = (1 - tax) * w * N * e_grid\n",
    "    return z_grid\n",
    "\n",
    "hh = hetblocks.hh_twoasset.hh\n",
    "hh_ext = hh.add_hetinputs([income, make_grids])"
   ]
  },
  {
   "cell_type": "markdown",
   "metadata": {},
   "source": [
    "### Step 2: Complete dynamic DAG with simple blocks\n",
    "\n",
    "We have set up all the blocks in the `sequence_jacobian/examples/two_asset.py` module. We omit the step-by-step discussion of these blocks since they should be familiar from the other model notebooks."
   ]
  },
  {
   "cell_type": "code",
   "execution_count": 6,
   "metadata": {},
   "outputs": [
    {
     "name": "stdout",
     "output_type": "stream",
     "text": [
      "<SolvedBlock 'labor_to_investment_combined_solved'>\n",
      "<SolvedBlock 'pricing_solved'>\n",
      "<SimpleBlock 'wage'>\n",
      "<SimpleBlock 'taylor'>\n",
      "<SimpleBlock 'dividend'>\n",
      "<SolvedBlock 'arbitrage_solved'>\n",
      "<SimpleBlock 'share_value'>\n",
      "<SimpleBlock 'finance'>\n",
      "<SimpleBlock 'fiscal'>\n",
      "<HetBlock 'hh' with hetinput 'make_grids_marginal_cost_grid' and with hetoutput `adjustment_costs'>\n",
      "<SimpleBlock 'union'>\n",
      "<SimpleBlock 'mkt_clearing'>\n"
     ]
    }
   ],
   "source": [
    "import sequence_jacobian.examples.two_asset as m\n",
    "\n",
    "blocks = [hh_ext, production_solved, pricing_solved, arbitrage_solved,\n",
    "          m.dividend, m.taylor, m.fiscal, m.share_value,\n",
    "          m.finance, m.wage, m.union, m.mkt_clearing]\n",
    "\n",
    "hank = create_model(blocks, name='Two-Asset HANK')\n",
    "\n",
    "print(*hank.blocks, sep='\\n')"
   ]
  },
  {
   "cell_type": "markdown",
   "metadata": {},
   "source": [
    "### Step 3: Complete calibration DAG\n",
    "\n",
    "Analytical:\n",
    "- find TFP `Z` to hit target for output `Y`\n",
    "- find markup `mup` to hit target for total wealth `p + Bg`\n",
    "- find capital share `alpha` to hit target for capital `K`\n",
    "- find wage `w` to hit Phillips curve given zero inflation \n",
    "- find disutility of labor `vphi` to hit wage Phillips curve given a target for employment\n",
    "\n",
    "Numerical:\n",
    "- find discount factor `beta` to satisfy asset market clearing given an interest rate `r`\n",
    "- find adjustment cost scale `chi1` to hit target for average liquid wealth `Bh`"
   ]
  },
  {
   "cell_type": "code",
   "execution_count": 7,
   "metadata": {},
   "outputs": [
    {
     "name": "stdout",
     "output_type": "stream",
     "text": [
      "<Model 'Two-Asset HANK SS'>\n",
      "Inputs: ['beta', 'eis', 'chi0', 'chi1', 'chi2', 'N', 'bmax', 'amax', 'kmax', 'nB', 'nA', 'nK', 'nZ', 'rho_z', 'sigma_z', 'Y', 'K', 'r', 'tot_wealth', 'Bg', 'delta', 'muw', 'frisch', 'pi', 'kappap', 'epsI', 'rstar', 'phi', 'G', 'Bh', 'omega']\n"
     ]
    }
   ],
   "source": [
    "blocks_ss = [hh_ext, m.partial_ss, m.union_ss,\n",
    "             m.dividend, m.taylor, m.fiscal, m.share_value, m.finance, m.mkt_clearing]\n",
    "\n",
    "hank_ss = create_model(blocks_ss, name='Two-Asset HANK SS')\n",
    "\n",
    "print(hank_ss)\n",
    "print(f\"Inputs: {hank_ss.inputs}\")\n"
   ]
  },
  {
   "cell_type": "code",
   "execution_count": 8,
   "metadata": {},
   "outputs": [
    {
     "name": "stderr",
     "output_type": "stream",
     "text": [
      "/home/danielc/.local/lib/python3.10/site-packages/sequence_jacobian/utilities/drawdag.py:98: UserWarning: \n",
      "Attempted to use `drawdag` when the package `graphviz` has not yet been installed. \n",
      "DAG visualization tools, i.e. drawdag, will not produce any figures unless this dependency has been installed. \n",
      "If you want to install, try typing 'conda install -c conda-forge python-graphviz' at the terminal,\n",
      "or see README for more instructions. Once installed, re-load sequence-jacobian to produce DAG figures.\n"
     ]
    }
   ],
   "source": [
    "from sequence_jacobian import drawdag\n",
    "\n",
    "inputs = ['rstar', 'Z', 'G']\n",
    "unknowns = ['r', 'w', 'Y']\n",
    "targets = ['asset_mkt', 'fisher', 'wnkpc']\n",
    "\n",
    "drawdag(hank_ss, inputs, unknowns, targets)"
   ]
  },
  {
   "cell_type": "markdown",
   "metadata": {},
   "source": [
    "## 4 Results\n",
    "\n",
    "We cover how to pass precomputed Jacobians to the main methods. This is useful when methods that need Jacobians are used repeatedly. These are\n",
    "- Solve methods: `solve_impulse_linear`, `solve_impulse_nonlinear`\n",
    "- Jacobian methods: `jacobian`, `solve_jacobian`\n",
    "\n",
    "### 4.1 Calibrate steady state\n",
    "\n",
    "Use the calibration DAG to internally calibrate the seven parameters (analytical + numerical). Evaluate the dynamic DAG at the resulting steady state `cali`. "
   ]
  },
  {
   "cell_type": "code",
   "execution_count": 8,
   "metadata": {},
   "outputs": [],
   "source": [
    "calibration = {'Y': 1., 'N': 1.0, 'K': 10., 'r': 0.0125, 'rstar': 0.0125, 'tot_wealth': 14,\n",
    "               'delta': 0.02, 'pi': 0., 'kappap': 0.1, 'muw': 1.1, 'Bh': 1.04, 'Bg': 2.8,\n",
    "               'G': 0.2, 'eis': 0.5, 'frisch': 1., 'chi0': 0.25, 'chi2': 2, 'epsI': 4,\n",
    "               'omega': 0.005, 'kappaw': 0.1, 'phi': 1.5, 'nZ': 3, 'nB': 50, 'nA': 70, 'nK': 50,\n",
    "               'bmax': 50, 'amax': 4000, 'kmax': 1, 'rho_z': 0.966, 'sigma_z': 0.92}\n",
    "\n",
    "unknowns_ss = {'beta': 0.976, 'chi1': 6.5}\n",
    "targets_ss = {'asset_mkt': 0., 'B': 'Bh'}\n",
    "\n",
    "cali = hank_ss.solve_steady_state(calibration, unknowns_ss, targets_ss, solver='broyden_custom')"
   ]
  },
  {
   "cell_type": "markdown",
   "metadata": {},
   "source": [
    "Verify solution, generate `ss` from dynamic DAG."
   ]
  },
  {
   "cell_type": "code",
   "execution_count": 9,
   "metadata": {},
   "outputs": [
    {
     "name": "stdout",
     "output_type": "stream",
     "text": [
      "Liquid assets:  1.04\n",
      "Asset market clearing:  7.05e-13\n",
      "Goods market clearing (untargeted):  3.29e-08\n"
     ]
    }
   ],
   "source": [
    "ss =  hank.steady_state(cali)\n",
    "\n",
    "print(f\"Liquid assets: {ss['B']: 0.2f}\")\n",
    "print(f\"Asset market clearing: {ss['asset_mkt']: 0.2e}\")\n",
    "print(f\"Goods market clearing (untargeted): {ss['goods_mkt']: 0.2e}\")"
   ]
  },
  {
   "cell_type": "markdown",
   "metadata": {},
   "source": [
    "### 4.2 Linearized impulse responses\n",
    "\n",
    "As before, we can compute the general equilibrium Jacobians $G$ which is sufficient to map any shock into impulse responses. \n",
    "\n",
    "When the cost of computing a block Jacobian is non-trivial, it's a good idea to precompute it. We can supply block Jacobians for specific blocks via the `Js=` keyword argument. The precomputed Jacobians will only be used if they are **complete** (have all required inputs and outputs) and have the right **size** (truncation horizon)."
   ]
  },
  {
   "cell_type": "code",
   "execution_count": 10,
   "metadata": {},
   "outputs": [],
   "source": [
    "exogenous = ['rstar', 'Z', 'G']\n",
    "unknowns = ['r', 'w', 'Y']\n",
    "targets = ['asset_mkt', 'fisher', 'wnkpc']\n",
    "T = 300\n",
    "\n",
    "J_ha = hh_ext.jacobian(ss, inputs=['N', 'r', 'ra', 'rb', 'tax', 'w'], T=T)\n",
    "G = hank.solve_jacobian(ss, unknowns, targets, exogenous, T=T, Js={'hh': J_ha})"
   ]
  },
  {
   "cell_type": "markdown",
   "metadata": {},
   "source": [
    "The time saving from re-using the Jacobian of the household block is considerable."
   ]
  },
  {
   "cell_type": "code",
   "execution_count": 11,
   "metadata": {},
   "outputs": [
    {
     "name": "stdout",
     "output_type": "stream",
     "text": [
      "CPU times: user 2.77 s, sys: 152 ms, total: 2.92 s\n",
      "Wall time: 487 ms\n"
     ]
    }
   ],
   "source": [
    "%time G = hank.solve_jacobian(ss, unknowns, targets, exogenous, T=T, Js={'hh': J_ha})"
   ]
  },
  {
   "cell_type": "code",
   "execution_count": 12,
   "metadata": {},
   "outputs": [
    {
     "name": "stdout",
     "output_type": "stream",
     "text": [
      "CPU times: user 40.4 s, sys: 1.98 s, total: 42.4 s\n",
      "Wall time: 7.07 s\n"
     ]
    }
   ],
   "source": [
    "%time G = hank.solve_jacobian(ss, unknowns, targets, exogenous, T=T)"
   ]
  },
  {
   "cell_type": "markdown",
   "metadata": {},
   "source": [
    "Note that some block Jacobians may be precomputed even if others are changing. For example, we can re-use `J_ha` while evalutating the model likelihood for 100,000 draws of price and wage adjustment cost.\n",
    "\n",
    "When we're not planning to change any part of the model, it's even better to store the `H_U` directly. (To be precise, we store the LU-factorized version of the matrix, which facilitates operations with its inverse.) That way, we save time on computing and packing all the block Jacobians. "
   ]
  },
  {
   "cell_type": "code",
   "execution_count": 13,
   "metadata": {},
   "outputs": [],
   "source": [
    "from sequence_jacobian.classes import FactoredJacobianDict\n",
    "\n",
    "H_U = hank.jacobian(ss, unknowns, targets, T=T, Js={'hh': J_ha})\n",
    "H_U_factored = FactoredJacobianDict(H_U, T)"
   ]
  },
  {
   "cell_type": "code",
   "execution_count": 14,
   "metadata": {},
   "outputs": [
    {
     "name": "stdout",
     "output_type": "stream",
     "text": [
      "CPU times: user 2.19 s, sys: 36.5 ms, total: 2.22 s\n",
      "Wall time: 370 ms\n"
     ]
    }
   ],
   "source": [
    "%time G = hank.solve_jacobian(ss, unknowns, targets, exogenous, T=T, Js={'hh': J_ha}, H_U_factored=H_U_factored)"
   ]
  },
  {
   "cell_type": "markdown",
   "metadata": {},
   "source": [
    "Let's plot some impulse responses:"
   ]
  },
  {
   "cell_type": "code",
   "execution_count": 15,
   "metadata": {
    "scrolled": true
   },
   "outputs": [
    {
     "data": {
      "image/png": "[encoded data removed]",
      "text/plain": [
       "<Figure size 432x288 with 1 Axes>"
      ]
     },
     "metadata": {
      "needs_background": "light"
     },
     "output_type": "display_data"
    }
   ],
   "source": [
    "rhos = np.array([0.2, 0.4, 0.6, 0.8])\n",
    "drstar = -0.0025 * rhos ** (np.arange(T)[:, np.newaxis])\n",
    "dY = 100 * G['Y']['rstar'] @ drstar\n",
    "\n",
    "plt.plot(dY[:21])\n",
    "plt.title(r'Output response to 25 bp monetary policy shocks with $\\rho=(0.2 ... 0.8)$')\n",
    "plt.xlabel('quarters')\n",
    "plt.ylabel('% deviation from ss')\n",
    "plt.show()"
   ]
  },
  {
   "cell_type": "markdown",
   "metadata": {},
   "source": [
    "### 4.3 Nonlinear impulse responses\n",
    "\n",
    "Let's compute the nonlinear impulse response for the $\\rho=0.6$ shock above.\n",
    "- Don't forget to use the saved Jacobian.\n",
    "- Note how to look up and change options specific to (block type, method) pairs."
   ]
  },
  {
   "cell_type": "code",
   "execution_count": 16,
   "metadata": {},
   "outputs": [
    {
     "data": {
      "text/plain": [
       "{'tol': 1e-08, 'maxit': 30, 'verbose': True}"
      ]
     },
     "execution_count": 16,
     "metadata": {},
     "output_type": "execute_result"
    }
   ],
   "source": [
    "hank['pricing_solved'].solve_impulse_nonlinear_options"
   ]
  },
  {
   "cell_type": "markdown",
   "metadata": {},
   "source": [
    "By default, `SolvedBlock.solve_impulse_linear` prints the error in each iteration (`verbose=True`). Let's turn this off for the internal solved blocks."
   ]
  },
  {
   "cell_type": "code",
   "execution_count": 17,
   "metadata": {
    "scrolled": true
   },
   "outputs": [
    {
     "name": "stdout",
     "output_type": "stream",
     "text": [
      "Solving Two-Asset HANK for ['r', 'w', 'Y'] to hit ['asset_mkt', 'fisher', 'wnkpc']\n",
      "On iteration 0\n",
      "   max error for asset_mkt is 3.92E-06\n",
      "   max error for fisher is 2.50E-03\n",
      "   max error for wnkpc is 4.72E-08\n",
      "On iteration 1\n",
      "   max error for asset_mkt is 2.66E-04\n",
      "   max error for fisher is 1.55E-06\n",
      "   max error for wnkpc is 2.15E-05\n",
      "On iteration 2\n",
      "   max error for asset_mkt is 7.56E-06\n",
      "   max error for fisher is 9.69E-08\n",
      "   max error for wnkpc is 6.57E-07\n",
      "On iteration 3\n",
      "   max error for asset_mkt is 4.01E-07\n",
      "   max error for fisher is 2.24E-09\n",
      "   max error for wnkpc is 1.64E-08\n",
      "On iteration 4\n",
      "   max error for asset_mkt is 2.20E-08\n",
      "   max error for fisher is 1.06E-10\n",
      "   max error for wnkpc is 7.46E-10\n",
      "On iteration 5\n",
      "   max error for asset_mkt is 1.23E-09\n",
      "   max error for fisher is 5.44E-12\n",
      "   max error for wnkpc is 3.72E-11\n"
     ]
    }
   ],
   "source": [
    "td_nonlin = hank.solve_impulse_nonlinear(ss, unknowns, targets, {\"rstar\": drstar[:, 2]},\n",
    "                                         Js={'hh': J_ha}, H_U_factored=H_U_factored,\n",
    "                                         options={'pricing_solved': {'verbose': False},\n",
    "                                                  'arbitrage_solved': {'verbose': False},\n",
    "                                                  'labor_to_investment_combined_solved': {'verbose': False}})"
   ]
  },
  {
   "cell_type": "markdown",
   "metadata": {},
   "source": [
    "We see rapid convergence and mild nonlinearities in the solution."
   ]
  },
  {
   "cell_type": "code",
   "execution_count": 18,
   "metadata": {
    "scrolled": true
   },
   "outputs": [
    {
     "data": {
      "image/png": "[encoded data removed]",
      "text/plain": [
       "<Figure size 432x288 with 1 Axes>"
      ]
     },
     "metadata": {
      "needs_background": "light"
     },
     "output_type": "display_data"
    }
   ],
   "source": [
    "dY_nonlin = 100 * td_nonlin['Y']\n",
    "\n",
    "plt.plot(dY[:21, 2], label='linear', linestyle='-', linewidth=2.5)\n",
    "plt.plot(dY_nonlin[:21], label='nonlinear', linestyle='--', linewidth=2.5)\n",
    "plt.title(r'Consumption response to 1% monetary policy shock')\n",
    "plt.xlabel('quarters')\n",
    "plt.ylabel('% deviation from ss')\n",
    "plt.legend()\n",
    "plt.show()"
   ]
  },
  {
   "cell_type": "markdown",
   "metadata": {},
   "source": [
    "Alternatively, we can compute the impulse response to a version of the shock scaled down to 10% of its original size."
   ]
  },
  {
   "cell_type": "code",
   "execution_count": 19,
   "metadata": {},
   "outputs": [
    {
     "name": "stdout",
     "output_type": "stream",
     "text": [
      "Solving Two-Asset HANK for ['r', 'w', 'Y'] to hit ['asset_mkt', 'fisher', 'wnkpc']\n",
      "On iteration 0\n",
      "   max error for asset_mkt is 3.92E-06\n",
      "   max error for fisher is 2.50E-04\n",
      "   max error for wnkpc is 4.72E-08\n",
      "On iteration 1\n",
      "   max error for asset_mkt is 3.20E-06\n",
      "   max error for fisher is 1.63E-08\n",
      "   max error for wnkpc is 2.10E-06\n",
      "On iteration 2\n",
      "   max error for asset_mkt is 7.71E-08\n",
      "   max error for fisher is 2.53E-10\n",
      "   max error for wnkpc is 5.83E-09\n",
      "On iteration 3\n",
      "   max error for asset_mkt is 8.07E-10\n",
      "   max error for fisher is 1.50E-12\n",
      "   max error for wnkpc is 5.69E-11\n"
     ]
    }
   ],
   "source": [
    "td_nonlin = hank.solve_impulse_nonlinear(ss, unknowns, targets, {\"rstar\": 0.1 * drstar[:, 2]},\n",
    "                                         Js={'hh': J_ha},\n",
    "                                         options={'pricing_solved': {'verbose': False},\n",
    "                                                  'arbitrage_solved': {'verbose': False},\n",
    "                                                  'labor_to_investment_combined_solved': {'verbose': False}})"
   ]
  },
  {
   "cell_type": "code",
   "execution_count": 20,
   "metadata": {},
   "outputs": [
    {
     "data": {
      "image/png": "[encoded data removed]",
      "text/plain": [
       "<Figure size 432x288 with 1 Axes>"
      ]
     },
     "metadata": {
      "needs_background": "light"
     },
     "output_type": "display_data"
    }
   ],
   "source": [
    "dY_nonlin = 100 * td_nonlin['Y']\n",
    "\n",
    "plt.plot(0.1*dY[:21, 2], label='linear', linestyle='-', linewidth=2.5)\n",
    "plt.plot(dY_nonlin[:21], label='nonlinear', linestyle='--', linewidth=2.5)\n",
    "plt.title(r'Consumption response to 0.1% monetary policy shock')\n",
    "plt.xlabel('quarters')\n",
    "plt.ylabel('% deviation from ss')\n",
    "plt.legend()\n",
    "plt.show()"
   ]
  },
  {
   "cell_type": "markdown",
   "metadata": {},
   "source": [
    "When the shock is this small, the linear and nonlinear impulse responses agree exactly. This is a good check, amid a highly complex model, that we didn't make any mistakes."
   ]
  }
 ],
 "metadata": {
  "kernelspec": {
   "display_name": "Python 3",
   "language": "python",
   "name": "python3"
  },
  "language_info": {
   "codemirror_mode": {
    "name": "ipython",
    "version": 3
   },
   "file_extension": ".py",
   "mimetype": "text/x-python",
   "name": "python",
   "nbconvert_exporter": "python",
   "pygments_lexer": "ipython3",
   "version": "3.7.6"
  }
 },
 "nbformat": 4,
 "nbformat_minor": 2
}
